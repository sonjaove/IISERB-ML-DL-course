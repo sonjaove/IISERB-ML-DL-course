{
 "cells": [
  {
   "cell_type": "markdown",
   "metadata": {},
   "source": [
    "# Introduction to list"
   ]
  },
  {
   "cell_type": "code",
   "execution_count": 4,
   "metadata": {},
   "outputs": [],
   "source": [
    "weather_data1 = {\n",
    "    \"Monday\": [22.4, 23.8, 20.0, 18.5],\n",
    "    \"Tuesday\": [21.0, 22.5, 19.5, 17.5],\n",
    "    \"Wednesday\": [20.2, 22.1, 20.5, 18.8],\n",
    "    \"Thursday\": [22.8, 21.9, 19.0, 18.2],\n",
    "    \"Friday\": [21.5, 22.4, 20.1, 19.3]\n",
    "}"
   ]
  },
  {
   "cell_type": "code",
   "execution_count": 9,
   "metadata": {},
   "outputs": [
    {
     "data": {
      "text/plain": [
       "3.5"
      ]
     },
     "execution_count": 9,
     "metadata": {},
     "output_type": "execute_result"
    }
   ],
   "source": [
    "# Hint: average\n",
    "a = [1, 2, 3, 4, 5, 6]\n",
    "avg_a = sum(a)/len(a)\n",
    "avg_a"
   ]
  },
  {
   "cell_type": "markdown",
   "metadata": {},
   "source": [
    "Tasks1:\n",
    "\n",
    "1) Extract Midday Temperatures:\n",
    "Slice the dictionary to extract only the second temperature of each day and store these in a new list called midday_temperatures.\n",
    "\n",
    "2) Calculate the Average Midday Temperature:\n",
    "Compute the average temperature from the midday_temperatures list, ensuring that you correctly handle the float division.\n",
    "\n",
    "3) Adjust Temperature Records:\n",
    "Increase each temperature in the original weather_data by 0.5 degrees to account for a calibration error in the measurement device. Demonstrate understanding of mutability by modifying the lists in place.\n",
    "\n",
    "4) Find the Coldest and Warmest Days:\n",
    "Determine which day had the lowest and highest average temperature. Print both the day and the average temperature.\n",
    "\n",
    "5) Type Conversion and Assignment:\n",
    "Show explicit type conversion by creating a new list of temperatures as integers."
   ]
  },
  {
   "cell_type": "markdown",
   "metadata": {},
   "source": [
    "# Introduction to dictionary"
   ]
  },
  {
   "cell_type": "code",
   "execution_count": 6,
   "metadata": {},
   "outputs": [],
   "source": [
    "weather_data2 = {\n",
    "    \"Monday\": {\"temperatures\": [22.4, 23.8, 20.0, 18.5], \"wind_speeds\": [5, 15, 20, 10], \"precipitation\": [0, 0.5, 0, 0]},\n",
    "    \"Tuesday\": {\"temperatures\": [21.0, 22.5, 19.5, 17.5], \"wind_speeds\": [10, 15, 10, 5], \"precipitation\": [0.2, 0, 0, 0.3]},\n",
    "    \"Wednesday\": {\"temperatures\": [20.2, 22.1, 20.5, 18.8], \"wind_speeds\": [5, 7, 25, 10], \"precipitation\": [0, 0, 0.1, 0.5]},\n",
    "    \"Thursday\": {\"temperatures\": [22.8, 21.9, 19.0, 18.2], \"wind_speeds\": [10, 20, 15, 5], \"precipitation\": [0, 0.1, 0, 0]},\n",
    "    \"Friday\": {\"temperatures\": [21.5, 22.4, 20.1, 19.3], \"wind_speeds\": [20, 15, 10, 15], \"precipitation\": [0.1, 0.2, 0.2, 0]}\n",
    "}"
   ]
  },
  {
   "cell_type": "markdown",
   "metadata": {},
   "source": [
    "Task2:\n",
    "\n",
    "1) Detailed Daily Reports:\n",
    "Extract the highest and lowest temperatures using slicing and the built-in functions max() and min().\n",
    "Calculate the average wind speed for each day using slicing and indexing.\n",
    "Compute the total precipitation for each day using a loop with indexing.\n",
    "\n",
    "2) Add Weekend Forecast:\n",
    "Use direct dictionary assignment to add temperature, wind speed, and precipitation data for \"Saturday\" and \"Sunday\".\n",
    "\n",
    "3) Temperature Adjustment:\n",
    "Increment all temperature readings by 1 degree to correct for sensor calibration. Demonstrate understanding of mutability by modifying the list items in place using indexing.\n",
    "\n",
    "4) Wind Chill Calculation:\n",
    "Introduce a new key wind_chill for each day. Calculate using the formula for wind chill, which involves the average temperature and wind speed of the day. Utilize indexing to access and compute based on needed values.\n",
    "\n",
    "T_wc = 35.74 + 0.6215T − 35.75V^0.16 + 0.4275TV^0.16\n",
    "\n",
    "where,\n",
    "T_wc = wind chill factor, \n",
    "T = average temperature of the day, \n",
    "V = average wind speed of the day"
   ]
  },
  {
   "cell_type": "markdown",
   "metadata": {},
   "source": [
    "# Introduction to sets and tuples"
   ]
  },
  {
   "cell_type": "markdown",
   "metadata": {},
   "source": [
    "Task: Working with Tuples, sets and booleans\n",
    "\n",
    "Create a tuple named weather_conditions that includes the following elements in order: the string 'Clear', the integer 23, and the float 7.5. These represent a type of weather, a temperature in Celsius, and wind speed in km/h, respectively.\n",
    "Access and print each element of the tuple separately by using indexing.\n",
    "\n",
    "# Exploring Sets\n",
    "Given the list temperatures_list = [22, 23, 22, 24, 25, 23, 24, 22], convert this list into a set named unique_temperatures to remove any duplicate entries.\n",
    "Print the set unique_temperatures to show the unique temperature values.\n",
    "\n",
    "# Using Booleans\n",
    "\n",
    "Define a boolean variable is_raining and set it to False.\n",
    "Define a boolean variable is_sunny and set it to True.\n",
    "Print both boolean values with a message that says \"Is it raining?\" and \"Is it sunny?\", respectively.\n",
    "\n",
    "Deliverables:\n",
    "Students should provide a Python script file that includes:\n",
    "1) Code for creating and manipulating the tuple weather_conditions.\n",
    "2) Code for converting the list temperatures_list into a set and printing the unique values.\n",
    "3) Code for defining and printing the boolean values is_raining and is_sunny."
   ]
  },
  {
   "cell_type": "markdown",
   "metadata": {},
   "source": []
  }
 ],
 "metadata": {
  "kernelspec": {
   "display_name": "Python 3",
   "language": "python",
   "name": "python3"
  },
  "language_info": {
   "codemirror_mode": {
    "name": "ipython",
    "version": 3
   },
   "file_extension": ".py",
   "mimetype": "text/x-python",
   "name": "python",
   "nbconvert_exporter": "python",
   "pygments_lexer": "ipython3",
   "version": "3.10.10"
  }
 },
 "nbformat": 4,
 "nbformat_minor": 2
}
