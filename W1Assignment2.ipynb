{
 "cells": [
  {
   "cell_type": "markdown",
   "metadata": {},
   "source": [
    "# Control flow in python"
   ]
  },
  {
   "cell_type": "code",
   "execution_count": 1,
   "metadata": {},
   "outputs": [],
   "source": [
    "import numpy as np\n",
    "\n",
    "np.random.seed(0)  \n",
    "\n",
    "# Generate data for 30 days\n",
    "temperature = np.random.uniform(10, 35, size=30)  # Random temperatures between 10 and 35\n",
    "humidity = np.random.uniform(30, 90, size=30)  # Random humidity between 30% and 90%\n"
   ]
  },
  {
   "cell_type": "markdown",
   "metadata": {},
   "source": [
    "Task1\n",
    "1) Identify Extreme Conditions:\n",
    "* Write a program to find and print the indices of all days when the temperature was above 30 degrees Celsius and humidity was below 40%.\n",
    "* Use nested loops and conditional statements.\n",
    "\n",
    "2) Daily Summary:\n",
    "* For each day, print a summary that includes the day index (1 to 30), temperature, and humidity.\n",
    "* If the temperature is above 28 degrees Celsius, add a note \"Heat Alert\".\n",
    "* If the humidity is below 35%, add a note \"Low Humidity\".\n",
    "\n",
    "3) Temperature Fluctuation:\n",
    "* Write a program to find the largest temperature fluctuation between consecutive days.\n",
    "* Print the indices of the days between which this fluctuation occurred and the fluctuation value."
   ]
  },
  {
   "cell_type": "markdown",
   "metadata": {},
   "source": [
    "Task2\n",
    "1) First Extreme Condition:\n",
    "* Write a program to find the first day when the temperature was above 30 degrees Celsius. Use a loop and the 'break' statement to exit the loop once the condition is met.\n",
    "\n",
    "2) Skipping Days with Low Humidity:\n",
    "* Write a program to print the temperature for each day, but skip days when the humidity is below 50%. Use a loop and the 'continue' statement to skip those days.\n",
    "\n",
    "3) Placeholder for Future Code:\n",
    "* Write a program that loops through the temperature data and uses the 'pass' statement as a placeholder for future code where you want to check and handle specific conditions (e.g., checking for a specific temperature range).\n",
    "\n",
    "4) Combined Conditions:\n",
    "* Write a program that processes the weather data to find days with specific conditions:\n",
    "* If the temperature is below 15 degrees Celsius, print \"Cold Day\" and break out of the loop.\n",
    "* If the humidity is above 80%, print \"High Humidity Day\" and continue to the next iteration without printing the temperature.\n",
    "* Otherwise, print the temperature."
   ]
  },
  {
   "cell_type": "markdown",
   "metadata": {},
   "source": [
    "# NumPy"
   ]
  },
  {
   "cell_type": "code",
   "execution_count": 2,
   "metadata": {},
   "outputs": [
    {
     "name": "stdout",
     "output_type": "stream",
     "text": [
      "Generated Data Shape: (365, 24)\n"
     ]
    }
   ],
   "source": [
    "import numpy as np\n",
    "\n",
    "np.random.seed(0) \n",
    "\n",
    "# Generate 2D gridded data for 365 days, temperature readings\n",
    "data = np.random.uniform(10, 35, size=(365, 24))  # 365 days, 24 hours each day\n",
    "\n",
    "# Example data array\n",
    "print(\"Generated Data Shape:\", data.shape)\n"
   ]
  },
  {
   "cell_type": "markdown",
   "metadata": {},
   "source": [
    "Task1\n",
    "1) Basic Array Generation:\n",
    "* Task 1.1: Create an array of 50 evenly spaced numbers between 0 and 100 using linspace. Print the array.\n",
    "* Task 1.2: Generate a 4x4 array of zeros and a 3x3 array of ones. Print both arrays.\n",
    "* Task 1.3: Create an array of 20 random numbers between 0 and 1. Print the array.\n",
    "\n",
    "2) Array Operations:\n",
    "* Task 2.1: Multiply the temperature data by 1.8 and add 32 to convert it from Celsius to Fahrenheit. Print the converted data for the first day.\n",
    "* Task 2.2: Calculate the mean, median, and standard deviation of the temperature data for the entire year. Print these values.\n",
    "* Task 2.3: Create a boolean array that is True where the temperature is above 25 degrees Celsius and False otherwise. Print the first 10 elements of this array.\n",
    "\n",
    "3) Accessing Elements:\n",
    "* Task 3.1: Access and print the temperature data for the first week (first 7 days).\n",
    "* Task 3.2: Extract and print the temperature data for every hour at noon (12 PM) across all 365 days.\n",
    "* Task 3.3: Slice the data to create a subarray for the temperatures between 6 AM and 6 PM for the first 10 days. Print this subarray."
   ]
  },
  {
   "cell_type": "markdown",
   "metadata": {},
   "source": [
    "Task2\n",
    "1) Meshgrid and Column Stack:\n",
    "* Create a meshgrid for x values ranging from 0 to 5 (at interval of 0.1, Hint: Use np.arange) and y values ranging from 0 to 5 (at interval of 0.1). Then, use the provided matplotlib code (in class) to visualize the resulting x and y grids.\n",
    "* Use column_stack to combine the temperature and humidity data for the first 10 days into a single array. Print the combined array. (Hint: use dataset in the control flow task)\n",
    "\n",
    "2) Reshaping and Flattening:\n",
    "* Reshape the data array from shape (365, 24) to shape (24, 365) and print the new shape.\n",
    "* Flatten the reshaped array and print the first 50 elements.\n",
    "\n",
    "3) Statistical Analysis:\n",
    "* Calculate the average temperature for each hour of the day over the entire year. Print the results.\n",
    "* Calculate the total precipitation for each day if we assume that the precipitation data follows the same structure as the temperature data. (Generate random precipitation data and perform the calculation). Print the total precipitation for the first week.\n",
    "\n",
    "4) Advanced Slicing and Indexing:\n",
    "* Crop a subsection of the data array to get the temperatures from the first 5 days and the first 12 hours of each day. Print the cropped data.\n",
    "* Create an array that includes only the temperatures above 30 degrees Celsius. Print the first 20 elements of this array."
   ]
  },
  {
   "cell_type": "markdown",
   "metadata": {},
   "source": []
  }
 ],
 "metadata": {
  "kernelspec": {
   "display_name": "Python 3",
   "language": "python",
   "name": "python3"
  },
  "language_info": {
   "codemirror_mode": {
    "name": "ipython",
    "version": 3
   },
   "file_extension": ".py",
   "mimetype": "text/x-python",
   "name": "python",
   "nbconvert_exporter": "python",
   "pygments_lexer": "ipython3",
   "version": "3.10.10"
  }
 },
 "nbformat": 4,
 "nbformat_minor": 2
}
