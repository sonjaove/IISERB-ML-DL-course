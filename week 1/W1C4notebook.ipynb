{
 "cells": [
  {
   "cell_type": "markdown",
   "metadata": {},
   "source": [
    "# Functions in Python"
   ]
  },
  {
   "cell_type": "code",
   "execution_count": 1,
   "metadata": {},
   "outputs": [],
   "source": [
    "# From assignment 1\n",
    "weather_data2 = {\n",
    "    \"Monday\": {\"temperatures\": [22.4, 23.8, 20.0, 18.5], \"wind_speeds\": [5, 15, 20, 10], \"precipitation\": [0, 0.5, 0, 0]},\n",
    "    \"Tuesday\": {\"temperatures\": [21.0, 22.5, 19.5, 17.5], \"wind_speeds\": [10, 15, 10, 5], \"precipitation\": [0.2, 0, 0, 0.3]},\n",
    "    \"Wednesday\": {\"temperatures\": [20.2, 22.1, 20.5, 18.8], \"wind_speeds\": [5, 7, 25, 10], \"precipitation\": [0, 0, 0.1, 0.5]},\n",
    "    \"Thursday\": {\"temperatures\": [22.8, 21.9, 19.0, 18.2], \"wind_speeds\": [10, 20, 15, 5], \"precipitation\": [0, 0.1, 0, 0]},\n",
    "    \"Friday\": {\"temperatures\": [21.5, 22.4, 20.1, 19.3], \"wind_speeds\": [20, 15, 10, 15], \"precipitation\": [0.1, 0.2, 0.2, 0]}\n",
    "}\n",
    "# task was to increment the value of temperature reading by 1"
   ]
  },
  {
   "cell_type": "code",
   "execution_count": 2,
   "metadata": {},
   "outputs": [
    {
     "name": "stdout",
     "output_type": "stream",
     "text": [
      "{'Monday': {'temperatures': [23.4, 24.8, 21.0, 19.5], 'wind_speeds': [5, 15, 20, 10], 'precipitation': [0, 0.5, 0, 0]}, 'Tuesday': {'temperatures': [22.0, 23.5, 20.5, 18.5], 'wind_speeds': [10, 15, 10, 5], 'precipitation': [0.2, 0, 0, 0.3]}, 'Wednesday': {'temperatures': [21.2, 23.1, 21.5, 19.8], 'wind_speeds': [5, 7, 25, 10], 'precipitation': [0, 0, 0.1, 0.5]}, 'Thursday': {'temperatures': [23.8, 22.9, 20.0, 19.2], 'wind_speeds': [10, 20, 15, 5], 'precipitation': [0, 0.1, 0, 0]}, 'Friday': {'temperatures': [22.5, 23.4, 21.1, 20.3], 'wind_speeds': [20, 15, 10, 15], 'precipitation': [0.1, 0.2, 0.2, 0]}}\n"
     ]
    }
   ],
   "source": [
    "# Incrementing manually without loops or functions\n",
    "weather_data2[\"Monday\"][\"temperatures\"][0] += 1\n",
    "weather_data2[\"Monday\"][\"temperatures\"][1] += 1\n",
    "weather_data2[\"Monday\"][\"temperatures\"][2] += 1\n",
    "weather_data2[\"Monday\"][\"temperatures\"][3] += 1\n",
    "\n",
    "weather_data2[\"Tuesday\"][\"temperatures\"][0] += 1\n",
    "weather_data2[\"Tuesday\"][\"temperatures\"][1] += 1\n",
    "weather_data2[\"Tuesday\"][\"temperatures\"][2] += 1\n",
    "weather_data2[\"Tuesday\"][\"temperatures\"][3] += 1\n",
    "\n",
    "weather_data2[\"Wednesday\"][\"temperatures\"][0] += 1\n",
    "weather_data2[\"Wednesday\"][\"temperatures\"][1] += 1\n",
    "weather_data2[\"Wednesday\"][\"temperatures\"][2] += 1\n",
    "weather_data2[\"Wednesday\"][\"temperatures\"][3] += 1\n",
    "\n",
    "weather_data2[\"Thursday\"][\"temperatures\"][0] += 1\n",
    "weather_data2[\"Thursday\"][\"temperatures\"][1] += 1\n",
    "weather_data2[\"Thursday\"][\"temperatures\"][2] += 1\n",
    "weather_data2[\"Thursday\"][\"temperatures\"][3] += 1\n",
    "\n",
    "weather_data2[\"Friday\"][\"temperatures\"][0] += 1\n",
    "weather_data2[\"Friday\"][\"temperatures\"][1] += 1\n",
    "weather_data2[\"Friday\"][\"temperatures\"][2] += 1\n",
    "weather_data2[\"Friday\"][\"temperatures\"][3] += 1\n",
    "\n",
    "print(weather_data2)"
   ]
  },
  {
   "cell_type": "code",
   "execution_count": 3,
   "metadata": {},
   "outputs": [
    {
     "name": "stdout",
     "output_type": "stream",
     "text": [
      "{'Monday': {'temperatures': [24.4, 25.8, 22.0, 20.5], 'wind_speeds': [5, 15, 20, 10], 'precipitation': [0, 0.5, 0, 0]}, 'Tuesday': {'temperatures': [23.0, 24.5, 21.5, 19.5], 'wind_speeds': [10, 15, 10, 5], 'precipitation': [0.2, 0, 0, 0.3]}, 'Wednesday': {'temperatures': [22.2, 24.1, 22.5, 20.8], 'wind_speeds': [5, 7, 25, 10], 'precipitation': [0, 0, 0.1, 0.5]}, 'Thursday': {'temperatures': [24.8, 23.9, 21.0, 20.2], 'wind_speeds': [10, 20, 15, 5], 'precipitation': [0, 0.1, 0, 0]}, 'Friday': {'temperatures': [23.5, 24.4, 22.1, 21.3], 'wind_speeds': [20, 15, 10, 15], 'precipitation': [0.1, 0.2, 0.2, 0]}}\n"
     ]
    }
   ],
   "source": [
    "# Incrementing using loops\n",
    "for day in weather_data2:\n",
    "    for i in range(len(weather_data2[day][\"temperatures\"])):\n",
    "        weather_data2[day][\"temperatures\"][i] += 1\n",
    "\n",
    "print(weather_data2)"
   ]
  },
  {
   "cell_type": "code",
   "execution_count": 4,
   "metadata": {},
   "outputs": [],
   "source": [
    "# function to increment the temperature reading by 1\n",
    "def increment_temperatures(data):\n",
    "    \"\"\"Function to increase temperature value by 1\"\"\" \n",
    "    for day in data:\n",
    "        for i in range(len(data[day][\"temperatures\"])):\n",
    "            data[day][\"temperatures\"][i] += 1"
   ]
  },
  {
   "cell_type": "code",
   "execution_count": 5,
   "metadata": {},
   "outputs": [
    {
     "name": "stdout",
     "output_type": "stream",
     "text": [
      "{'Monday': {'temperatures': [25.4, 26.8, 23.0, 21.5], 'wind_speeds': [5, 15, 20, 10], 'precipitation': [0, 0.5, 0, 0]}, 'Tuesday': {'temperatures': [24.0, 25.5, 22.5, 20.5], 'wind_speeds': [10, 15, 10, 5], 'precipitation': [0.2, 0, 0, 0.3]}, 'Wednesday': {'temperatures': [23.2, 25.1, 23.5, 21.8], 'wind_speeds': [5, 7, 25, 10], 'precipitation': [0, 0, 0.1, 0.5]}, 'Thursday': {'temperatures': [25.8, 24.9, 22.0, 21.2], 'wind_speeds': [10, 20, 15, 5], 'precipitation': [0, 0.1, 0, 0]}, 'Friday': {'temperatures': [24.5, 25.4, 23.1, 22.3], 'wind_speeds': [20, 15, 10, 15], 'precipitation': [0.1, 0.2, 0.2, 0]}}\n"
     ]
    }
   ],
   "source": [
    "increment_temperatures(weather_data2)\n",
    "\n",
    "print(weather_data2)"
   ]
  },
  {
   "cell_type": "code",
   "execution_count": 6,
   "metadata": {},
   "outputs": [],
   "source": [
    "# syntax of function\n",
    "def greet(name):\n",
    "    print(f'Hello, {name}!')"
   ]
  },
  {
   "cell_type": "code",
   "execution_count": 7,
   "metadata": {},
   "outputs": [
    {
     "name": "stdout",
     "output_type": "stream",
     "text": [
      "Hello, Chandan!\n"
     ]
    }
   ],
   "source": [
    "# calling a function\n",
    "greet('Chandan')"
   ]
  },
  {
   "cell_type": "code",
   "execution_count": 8,
   "metadata": {},
   "outputs": [],
   "source": [
    "# positional arguments, pass in a specific order\n",
    "def divide(a, b):\n",
    "    return a/b"
   ]
  },
  {
   "cell_type": "code",
   "execution_count": 9,
   "metadata": {},
   "outputs": [
    {
     "data": {
      "text/plain": [
       "0.6666666666666666"
      ]
     },
     "execution_count": 9,
     "metadata": {},
     "output_type": "execute_result"
    }
   ],
   "source": [
    "divide(2, 3) # here order matters"
   ]
  },
  {
   "cell_type": "code",
   "execution_count": 10,
   "metadata": {},
   "outputs": [
    {
     "data": {
      "text/plain": [
       "0.6666666666666666"
      ]
     },
     "execution_count": 10,
     "metadata": {},
     "output_type": "execute_result"
    }
   ],
   "source": [
    "# keyword arguments\n",
    "divide(b=3, a=2)  # here order does not matters, since we are using key words"
   ]
  },
  {
   "cell_type": "code",
   "execution_count": 11,
   "metadata": {},
   "outputs": [],
   "source": [
    "# default arguments, you specify some default arguments\n",
    "def greet1(name, message= 'hi'):\n",
    "    print(f'{message}, {name}')\n",
    "    "
   ]
  },
  {
   "cell_type": "code",
   "execution_count": 12,
   "metadata": {},
   "outputs": [
    {
     "name": "stdout",
     "output_type": "stream",
     "text": [
      "hi, Ayush\n"
     ]
    }
   ],
   "source": [
    "greet1('Ayush') # it can take only one argument, since other is by default set to Hi"
   ]
  },
  {
   "cell_type": "code",
   "execution_count": 13,
   "metadata": {},
   "outputs": [
    {
     "name": "stdout",
     "output_type": "stream",
     "text": [
      "hello, Ayush\n"
     ]
    }
   ],
   "source": [
    "greet1('Ayush', 'hello') # but you can anyway specify some other arguments"
   ]
  },
  {
   "cell_type": "code",
   "execution_count": 14,
   "metadata": {},
   "outputs": [],
   "source": [
    "\n",
    "# local vs global variable\n",
    "def local_variable():\n",
    "    # local variable\n",
    "    g = 12\n",
    "    x = 5*g\n",
    "    print(\"inside function:\", x)"
   ]
  },
  {
   "cell_type": "code",
   "execution_count": 15,
   "metadata": {},
   "outputs": [
    {
     "name": "stdout",
     "output_type": "stream",
     "text": [
      "inside function: 60\n"
     ]
    }
   ],
   "source": [
    "local_variable()"
   ]
  },
  {
   "cell_type": "code",
   "execution_count": 16,
   "metadata": {},
   "outputs": [
    {
     "ename": "NameError",
     "evalue": "name 'g' is not defined",
     "output_type": "error",
     "traceback": [
      "\u001b[1;31m---------------------------------------------------------------------------\u001b[0m",
      "\u001b[1;31mNameError\u001b[0m                                 Traceback (most recent call last)",
      "Cell \u001b[1;32mIn[16], line 1\u001b[0m\n\u001b[1;32m----> 1\u001b[0m \u001b[43mg\u001b[49m \u001b[38;5;66;03m# since g is a local variable\u001b[39;00m\n",
      "\u001b[1;31mNameError\u001b[0m: name 'g' is not defined"
     ]
    }
   ],
   "source": [
    "g # since g is a local variable"
   ]
  },
  {
   "cell_type": "code",
   "execution_count": 17,
   "metadata": {},
   "outputs": [
    {
     "name": "stdout",
     "output_type": "stream",
     "text": [
      "Function to increase temperature value by 1\n"
     ]
    }
   ],
   "source": [
    "# documentation, remember we did documentation for increment_temperatures in special triple quotes (\"\"\" your documentation here \"\"\")\n",
    "print(increment_temperatures.__doc__)"
   ]
  },
  {
   "cell_type": "code",
   "execution_count": 18,
   "metadata": {},
   "outputs": [],
   "source": [
    "# higher order function: function as argument\n",
    "def apply_function(func, values):\n",
    "    return [func(value) for value in values]\n",
    "\n",
    "def add_ten(x):\n",
    "    return x + 10"
   ]
  },
  {
   "cell_type": "code",
   "execution_count": 19,
   "metadata": {},
   "outputs": [],
   "source": [
    "numbers = [1, 2, 3, 4, 5]\n",
    "incre_list = apply_function(add_ten, numbers)"
   ]
  },
  {
   "cell_type": "code",
   "execution_count": 20,
   "metadata": {},
   "outputs": [
    {
     "data": {
      "text/plain": [
       "[11, 12, 13, 14, 15]"
      ]
     },
     "execution_count": 20,
     "metadata": {},
     "output_type": "execute_result"
    }
   ],
   "source": [
    "incre_list"
   ]
  },
  {
   "cell_type": "code",
   "execution_count": 21,
   "metadata": {},
   "outputs": [
    {
     "name": "stdout",
     "output_type": "stream",
     "text": [
      "The final price after discount and tax is: Rs 97.20\n"
     ]
    }
   ],
   "source": [
    "# nested functions\n",
    "def calculate_final_price(base_price, discount):\n",
    "    def apply_discount(price):\n",
    "        return price - (price * discount / 100)\n",
    "    \n",
    "    def calculate_tax(price):\n",
    "        tax_rate = 0.08  # 8% tax rate\n",
    "        return price + (price * tax_rate)\n",
    "    \n",
    "    # Apply discount to the base price\n",
    "    discounted_price = apply_discount(base_price)\n",
    "    # Apply tax to the discounted price\n",
    "    final_price = calculate_tax(discounted_price)\n",
    "    \n",
    "    return final_price\n",
    "\n",
    "# Example usage\n",
    "base_price = 100.0\n",
    "discount = 10  \n",
    "final_price = calculate_final_price(base_price, discount)\n",
    "print(f\"The final price after discount and tax is: Rs {final_price:.2f}\") # Note: Here .kf specifies how many digits after decimal, 2 (.2f) in this case"
   ]
  },
  {
   "cell_type": "code",
   "execution_count": 22,
   "metadata": {},
   "outputs": [
    {
     "name": "stdout",
     "output_type": "stream",
     "text": [
      "mdlva'dfm is not a palindrome\n"
     ]
    }
   ],
   "source": [
    "# taking input, here we will use 'input' to prompt\n",
    "def is_palindrome(word):\n",
    "    return word == word[::-1]\n",
    "\n",
    "word = input(\"Enter a word: \")\n",
    "if is_palindrome(word):\n",
    "    print(f\"{word} is a palindrome\")\n",
    "else:\n",
    "    print(f\"{word} is not a palindrome\")"
   ]
  },
  {
   "cell_type": "code",
   "execution_count": 23,
   "metadata": {},
   "outputs": [],
   "source": [
    "# this function will return boolean, remember first class\n",
    "def is_palindrome(word):\n",
    "    return word == word[::-1]"
   ]
  },
  {
   "cell_type": "code",
   "execution_count": 24,
   "metadata": {},
   "outputs": [
    {
     "data": {
      "text/plain": [
       "True"
      ]
     },
     "execution_count": 24,
     "metadata": {},
     "output_type": "execute_result"
    }
   ],
   "source": [
    "is_palindrome('aba')"
   ]
  },
  {
   "cell_type": "code",
   "execution_count": 25,
   "metadata": {},
   "outputs": [
    {
     "name": "stdout",
     "output_type": "stream",
     "text": [
      "Wind chill is 26.55°F\n"
     ]
    }
   ],
   "source": [
    "# Example of function, using prompt\n",
    "def wind_chill(temp_f, wind_speed):\n",
    "    \"\"\"Calculate wind chill given temperature in Fahrenheit and wind speed in mph.\"\"\"\n",
    "    if temp_f > 50 or wind_speed <= 3:\n",
    "        return temp_f\n",
    "    else:\n",
    "        return 35.74 + 0.6215 * temp_f - 35.75 * (wind_speed ** 0.16) + 0.4275 * temp_f * (wind_speed ** 0.16)\n",
    "\n",
    "temp_f = float(input(\"Enter temperature in Fahrenheit: \"))\n",
    "wind_speed = float(input(\"Enter wind speed in mph: \"))\n",
    "wc = wind_chill(temp_f, wind_speed)\n",
    "print(f\"Wind chill is {wc:.2f}°F\")"
   ]
  },
  {
   "cell_type": "code",
   "execution_count": 26,
   "metadata": {},
   "outputs": [],
   "source": [
    "import numpy as np\n",
    "# transform = 1/b(log(sinh(a + b*data))), logsinh transformation formula\n",
    "# Log-sinh transformation function\n",
    "def log_sinh_transform(data, a, b):\n",
    "    # broadcast a and b to the shape of data\n",
    "    a = np.broadcast_to(a, len(data)) # if you donot broadcast a, b (try it by making it comment), then the dimension will mismatch\n",
    "    b = np.broadcast_to(b, len(data))\n",
    "    \n",
    "    # Compute the log-sinh transformation\n",
    "    sinh_term = np.sinh(a + b * data)\n",
    "    transformed_data = (1 / b) * np.log(np.abs(sinh_term))\n",
    "    return transformed_data"
   ]
  },
  {
   "cell_type": "code",
   "execution_count": 27,
   "metadata": {},
   "outputs": [],
   "source": [
    "data1 = [1.0, 2.0, 3.0, 4.0, 5.0]\n",
    "transformed_data2 = log_sinh_transform(data1, 0.05, 0.95)"
   ]
  },
  {
   "cell_type": "code",
   "execution_count": 28,
   "metadata": {},
   "outputs": [
    {
     "data": {
      "text/plain": [
       "array([0.16993617, 1.30147709, 2.31981123, 3.3225262 , 4.32293167])"
      ]
     },
     "execution_count": 28,
     "metadata": {},
     "output_type": "execute_result"
    }
   ],
   "source": [
    "transformed_data2"
   ]
  },
  {
   "cell_type": "code",
   "execution_count": 29,
   "metadata": {},
   "outputs": [],
   "source": [
    "# broadcast a and b to the shape of data\n",
    "a = np.broadcast_to(0.05, len(data1))\n",
    "b = np.broadcast_to(0.95, len(data1))"
   ]
  },
  {
   "cell_type": "code",
   "execution_count": 30,
   "metadata": {},
   "outputs": [
    {
     "data": {
      "text/plain": [
       "(array([0.05, 0.05, 0.05, 0.05, 0.05]), array([0.95, 0.95, 0.95, 0.95, 0.95]))"
      ]
     },
     "execution_count": 30,
     "metadata": {},
     "output_type": "execute_result"
    }
   ],
   "source": [
    "a, b # a, b got repeated 5 times"
   ]
  },
  {
   "cell_type": "code",
   "execution_count": 31,
   "metadata": {},
   "outputs": [
    {
     "ename": "TypeError",
     "evalue": "can't multiply sequence by non-int of type 'float'",
     "output_type": "error",
     "traceback": [
      "\u001b[1;31m---------------------------------------------------------------------------\u001b[0m",
      "\u001b[1;31mTypeError\u001b[0m                                 Traceback (most recent call last)",
      "Cell \u001b[1;32mIn[31], line 1\u001b[0m\n\u001b[1;32m----> 1\u001b[0m sinh_term \u001b[38;5;241m=\u001b[39m np\u001b[38;5;241m.\u001b[39msinh(\u001b[38;5;241m0.05\u001b[39m \u001b[38;5;241m+\u001b[39m \u001b[38;5;241;43m0.95\u001b[39;49m\u001b[43m \u001b[49m\u001b[38;5;241;43m*\u001b[39;49m\u001b[43m \u001b[49m\u001b[43mdata1\u001b[49m) \u001b[38;5;66;03m# it will not work, since broadcasting is not done\u001b[39;00m\n",
      "\u001b[1;31mTypeError\u001b[0m: can't multiply sequence by non-int of type 'float'"
     ]
    }
   ],
   "source": [
    "sinh_term = np.sinh(0.05 + 0.95 * data1) # it will not work, since broadcasting is not done"
   ]
  },
  {
   "cell_type": "code",
   "execution_count": 32,
   "metadata": {},
   "outputs": [],
   "source": [
    "sinh_term = np.sinh(a + b * data1)"
   ]
  },
  {
   "cell_type": "code",
   "execution_count": 33,
   "metadata": {},
   "outputs": [
    {
     "data": {
      "text/plain": [
       "array([ 1.17520119,  3.44320675,  9.05956107, 23.48589175, 60.75109389])"
      ]
     },
     "execution_count": 33,
     "metadata": {},
     "output_type": "execute_result"
    }
   ],
   "source": [
    "sinh_term"
   ]
  },
  {
   "cell_type": "code",
   "execution_count": 34,
   "metadata": {},
   "outputs": [],
   "source": [
    "transformed_data = (1 / b) * np.log(np.abs(sinh_term))"
   ]
  },
  {
   "cell_type": "code",
   "execution_count": 35,
   "metadata": {},
   "outputs": [
    {
     "data": {
      "text/plain": [
       "array([0.16993617, 1.30147709, 2.31981123, 3.3225262 , 4.32293167])"
      ]
     },
     "execution_count": 35,
     "metadata": {},
     "output_type": "execute_result"
    }
   ],
   "source": [
    "transformed_data"
   ]
  },
  {
   "cell_type": "code",
   "execution_count": 36,
   "metadata": {},
   "outputs": [
    {
     "name": "stdout",
     "output_type": "stream",
     "text": [
      "Shape of original elevation data: (10, 10)\n",
      "Shape of broadcasted data: (365, 10, 10)\n",
      "\n",
      "Elevation data (first day):\n",
      " [[37.45401188 95.07143064 73.19939418 59.86584842 15.60186404 15.59945203\n",
      "   5.80836122 86.61761458 60.11150117 70.80725778]\n",
      " [ 2.05844943 96.99098522 83.24426408 21.23391107 18.18249672 18.34045099\n",
      "  30.4242243  52.47564316 43.19450186 29.12291402]\n",
      " [61.18528947 13.94938607 29.21446485 36.63618433 45.60699842 78.51759614\n",
      "  19.96737822 51.42344384 59.24145689  4.64504127]\n",
      " [60.75448519 17.05241237  6.5051593  94.88855373 96.56320331 80.83973481\n",
      "  30.46137692  9.7672114  68.42330265 44.01524937]\n",
      " [12.20382348 49.51769101  3.43885211 90.93204021 25.87799816 66.25222844\n",
      "  31.17110761 52.00680212 54.67102793 18.48544555]\n",
      " [96.95846278 77.51328234 93.94989416 89.48273504 59.78999788 92.1874235\n",
      "   8.84925021 19.59828624  4.52272889 32.53303308]\n",
      " [38.86772897 27.13490318 82.87375092 35.67533267 28.09345097 54.26960832\n",
      "  14.0924225  80.21969808  7.45506437 98.68869366]\n",
      " [77.22447693 19.87156815  0.55221171 81.54614285 70.68573438 72.9007168\n",
      "  77.12703467  7.40446517 35.84657285 11.58690595]\n",
      " [86.31034259 62.32981268 33.08980249  6.35583503 31.09823217 32.5183322\n",
      "  72.96061783 63.75574714 88.72127426 47.22149252]\n",
      " [11.95942459 71.32447872 76.07850486 56.12771976 77.096718   49.37955964\n",
      "  52.27328294 42.75410184  2.54191267 10.7891427 ]]\n"
     ]
    }
   ],
   "source": [
    "# Here we broadcast static elevation data to broadcast to match dimension of precipitation data, let say (365, 10, 10)\n",
    "# Generate a 10x10 grid of random data to represent elevation data\n",
    "np.random.seed(42) \n",
    "elevation_data = np.random.rand(10, 10) * 100  # Random elevation values between 0 and 100\n",
    "\n",
    "# Broadcast the 10x10 grid to a shape of (365, 10, 10)\n",
    "broadcasted_data = np.broadcast_to(elevation_data, (365, 10, 10))\n",
    "\n",
    "# Verify the shape\n",
    "print(\"Shape of original elevation data:\", elevation_data.shape)\n",
    "print(\"Shape of broadcasted data:\", broadcasted_data.shape)\n",
    "\n",
    "# Display the first \"day\" of the broadcasted data to verify\n",
    "print(\"\\nElevation data (first day):\\n\", broadcasted_data[10]) # you can change the day index and observe that each day's elevation data is same"
   ]
  },
  {
   "cell_type": "code",
   "execution_count": 37,
   "metadata": {},
   "outputs": [],
   "source": [
    "# Create a random precipitation dataset for 365 days with a grid size of 10x10\n",
    "np.random.seed(0)  \n",
    "precipitation_data = np.random.rand(365, 10, 10) * 100  # Random values between 0 and 100 mm"
   ]
  },
  {
   "cell_type": "code",
   "execution_count": 38,
   "metadata": {},
   "outputs": [
    {
     "data": {
      "text/plain": [
       "array([[[54.88135039, 71.51893664, 60.27633761, ..., 89.17730008,\n",
       "         96.36627605, 38.34415188],\n",
       "        [79.17250381, 52.88949198, 56.80445611, ..., 83.26198455,\n",
       "         77.81567509, 87.00121482],\n",
       "        [97.86183422, 79.91585642, 46.14793623, ..., 94.4668917 ,\n",
       "         52.18483218, 41.466194  ],\n",
       "        ...,\n",
       "        [97.6459465 , 46.86512016, 97.67610882, ..., 12.01965612,\n",
       "         29.61401975, 11.8727719 ],\n",
       "        [31.79831794, 41.42629945,  6.41474963, ...,  9.39405108,\n",
       "         57.59464956, 92.92961976],\n",
       "        [31.85689525, 66.741038  , 13.17978624, ...,  2.01075462,\n",
       "         82.89400292,  0.46954762]],\n",
       "\n",
       "       [[67.78165368, 27.00079732, 73.51940221, ..., 57.22519058,\n",
       "         22.30816326, 95.27490115],\n",
       "        [44.71253786, 84.64086725, 69.94792753, ..., 58.12728726,\n",
       "         88.17353619, 69.25315901],\n",
       "        [72.52542798, 50.13243819, 95.60836347, ..., 30.15748167,\n",
       "         66.01735375, 29.00776072],\n",
       "        ...,\n",
       "        [52.10366062,  5.43379883, 19.99965249, ..., 92.80812935,\n",
       "         70.44144019,  3.18389295],\n",
       "        [16.46941565, 62.14784015, 57.72285886, ..., 58.99099764,\n",
       "         73.01220295, 31.19449955],\n",
       "        [39.82210622, 20.9843749 , 18.61930059, ..., 25.43564818,\n",
       "          5.80291603, 43.44166256]],\n",
       "\n",
       "       [[31.1795882 , 69.63434888, 37.77518393, ..., 45.36968446,\n",
       "         53.65792111, 89.6671293 ],\n",
       "        [99.03389474, 21.68969844, 66.30782031, ..., 38.34638942,\n",
       "         58.83171136, 83.10484552],\n",
       "        [62.89818436, 87.26506554, 27.35420348, ..., 21.55076771,\n",
       "         94.73705905, 73.08558068],\n",
       "        ...,\n",
       "        [97.74951397, 87.65052453, 33.81589518, ..., 79.92025874,\n",
       "         63.04479369, 87.42879666],\n",
       "        [29.30202845, 84.89435553, 61.78766919, ..., 47.8370307 ,\n",
       "         49.73913655, 63.94725164],\n",
       "        [36.85846061, 13.69002717, 82.21177332, ..., 86.21915174,\n",
       "         97.2919489 , 96.08346581]],\n",
       "\n",
       "       ...,\n",
       "\n",
       "       [[78.66680672, 31.46114474, 60.47227158, ..., 17.3955458 ,\n",
       "          8.65138884, 65.17195323],\n",
       "        [60.24036639,  2.04554038, 58.34812759, ..., 96.38848214,\n",
       "         71.00624661, 42.7014652 ],\n",
       "        [14.85937434, 45.75694225, 39.06348194, ..., 86.74405952,\n",
       "         79.10758675, 83.32034172],\n",
       "        ...,\n",
       "        [29.42088463, 22.45973821, 21.13717375, ..., 71.002038  ,\n",
       "         39.00962496, 54.72675161],\n",
       "        [21.47629712, 64.75209025, 75.75969654, ..., 68.90639315,\n",
       "         34.34013539, 61.65716609],\n",
       "        [68.23527929, 26.57518711, 90.07853288, ..., 83.3503944 ,\n",
       "         19.9233686 , 86.02910108]],\n",
       "\n",
       "       [[ 8.7225994 , 64.7822305 ,  5.49882269, ..., 56.45597573,\n",
       "         63.97839761, 20.61903068],\n",
       "        [79.5019189 , 68.33282125, 21.55338467, ..., 37.40380803,\n",
       "         15.40494952, 66.05622633],\n",
       "        [34.29104885, 39.11605624, 60.95114626, ..., 65.47074196,\n",
       "         43.00066405,  5.43955332],\n",
       "        ...,\n",
       "        [30.80885747, 16.40073223, 55.26386827, ...,  5.98288311,\n",
       "         91.93304722, 63.23747415],\n",
       "        [16.31912573, 30.23655718, 10.79553289, ..., 44.37110326,\n",
       "         28.07992069, 93.67918674],\n",
       "        [92.23510435, 61.61085479, 58.47434982, ..., 52.81331784,\n",
       "         77.46124423, 79.72932503]],\n",
       "\n",
       "       [[47.32968809, 69.60452947, 55.01274272, ..., 64.01372736,\n",
       "         65.78277548, 68.02064393],\n",
       "        [51.92927863, 71.58829764, 70.26693543, ..., 98.06874279,\n",
       "          1.22902777, 28.88361236],\n",
       "        [ 6.48435559, 32.34610726, 50.40616048, ..., 76.54854782,\n",
       "         77.79530896, 66.43202319],\n",
       "        ...,\n",
       "        [11.10688787, 98.27262181, 40.36167231, ..., 99.28727591,\n",
       "          6.77705279, 54.30102307],\n",
       "        [65.63375655, 40.90622834, 12.62173426, ..., 34.21113808,\n",
       "          3.41921016, 15.78907922],\n",
       "        [ 8.75280677, 15.13591903, 90.15830525, ..., 53.36021577,\n",
       "          3.32057465, 19.04677961]]])"
      ]
     },
     "execution_count": 38,
     "metadata": {},
     "output_type": "execute_result"
    }
   ],
   "source": [
    "precipitation_data"
   ]
  },
  {
   "cell_type": "code",
   "execution_count": 39,
   "metadata": {},
   "outputs": [],
   "source": [
    "# This function will normalize the between 0-1 scale\n",
    "def normalize_precipitation(data):\n",
    "    \"\"\"Normalize the precipitation data to a 0-1 scale.\"\"\"\n",
    "    min_val = np.min(data)\n",
    "    max_val = np.max(data)\n",
    "    normalized_data = (data - min_val) / (max_val - min_val)\n",
    "    return normalized_data\n",
    "\n",
    "normalized_precipitation_data = normalize_precipitation(precipitation_data)"
   ]
  },
  {
   "cell_type": "code",
   "execution_count": 40,
   "metadata": {},
   "outputs": [
    {
     "data": {
      "text/plain": [
       "array([[[0.54879291, 0.7151845 , 0.60274788, ..., 0.89178482,\n",
       "         0.96368138, 0.3834053 ],\n",
       "        [0.7917274 , 0.52887245, 0.56802579, ..., 0.83262608,\n",
       "         0.77815784, 0.87002191],\n",
       "        [0.97863837, 0.79916163, 0.46145052, ..., 0.94468574,\n",
       "         0.52182518, 0.41462867],\n",
       "        ...,\n",
       "        [0.97647929, 0.46862304, 0.97678094, ..., 0.12013546,\n",
       "         0.29609573, 0.11866648],\n",
       "        [0.31794077, 0.41422969, 0.0640811 , ..., 0.09387693,\n",
       "         0.57592847, 0.92931157],\n",
       "        [0.3185266 , 0.667401  , 0.13173786, ..., 0.02003699,\n",
       "         0.82894591, 0.00462346]],\n",
       "\n",
       "       [[0.67780814, 0.26996103, 0.73519105, ..., 0.57223353,\n",
       "         0.22303026, 0.9527666 ],\n",
       "        [0.44709518, 0.84641621, 0.69947292, ..., 0.58125535,\n",
       "         0.88174624, 0.69252458],\n",
       "        [0.72525036, 0.5012993 , 0.95610153, ..., 0.30153086,\n",
       "         0.66016347, 0.29003257],\n",
       "        ...,\n",
       "        [0.52101339, 0.05427067, 0.19994297, ..., 0.92809655,\n",
       "         0.70440852, 0.03176948],\n",
       "        [0.16463726, 0.62146468, 0.57721068, ..., 0.58989327,\n",
       "         0.73011857, 0.31190202],\n",
       "        [0.39818624, 0.20979112, 0.18613815, ..., 0.25430806,\n",
       "         0.05796219, 0.43438522]],\n",
       "\n",
       "       [[0.31175289, 0.69633684, 0.37771508, ..., 0.45366727,\n",
       "         0.53655747, 0.89668358],\n",
       "        [0.99036008, 0.21684503, 0.66306841, ..., 0.38342768,\n",
       "         0.58830026, 0.83105454],\n",
       "        [0.62896883, 0.87266067, 0.27349543, ..., 0.21545559,\n",
       "         0.94738767, 0.73085242],\n",
       "        ...,\n",
       "        [0.97751506, 0.87651562, 0.33811845, ..., 0.79920566,\n",
       "         0.63043506, 0.87429814],\n",
       "        [0.29297552, 0.84895133, 0.61786263, ..., 0.47834306,\n",
       "         0.49736592, 0.63946049],\n",
       "        [0.36854698, 0.13684075, 0.82212297, ..., 0.86220054,\n",
       "         0.97293898, 0.96085301]],\n",
       "\n",
       "       ...,\n",
       "\n",
       "       [[0.78666996, 0.31456872, 0.60470741, ..., 0.17389944,\n",
       "         0.08644961, 0.65170867],\n",
       "        [0.60238814, 0.02038488, 0.58346396, ..., 0.96390346,\n",
       "         0.71005712, 0.42698255],\n",
       "        [0.14853533, 0.45754021, 0.39059928, ..., 0.86745012,\n",
       "         0.79107817, 0.8332097 ],\n",
       "        ...,\n",
       "        [0.29416419, 0.22454615, 0.21131926, ..., 0.71001503,\n",
       "         0.39006066, 0.54724678],\n",
       "        [0.21471081, 0.64750964, 0.75759611, ..., 0.6890566 ,\n",
       "         0.34336135, 0.61655747],\n",
       "        [0.68234482, 0.26570453, 0.900798  , ..., 0.83351026,\n",
       "         0.19918006, 0.86029986]],\n",
       "\n",
       "       [[0.08716178, 0.64781107, 0.05492097, ..., 0.56454066,\n",
       "         0.63977198, 0.20613734],\n",
       "        [0.79502187, 0.68332034, 0.21548176, ..., 0.37400097,\n",
       "         0.1539916 , 0.66055223],\n",
       "        [0.34287044, 0.39112507, 0.60949661, ..., 0.65469684,\n",
       "         0.42997482, 0.05432822],\n",
       "        ...,\n",
       "        [0.30804523, 0.16395037, 0.55261845, ..., 0.05976203,\n",
       "         0.9193449 , 0.63236205],\n",
       "        [0.16313422, 0.30232169, 0.10789307, ..., 0.44368051,\n",
       "         0.28075329, 0.93680794],\n",
       "        [0.92236576, 0.61609432, 0.5847263 , ..., 0.52811063,\n",
       "         0.77461319, 0.79729614]],\n",
       "\n",
       "       [[0.47326915, 0.69603862, 0.55010696, ..., 0.64012531,\n",
       "         0.65781747, 0.68019827],\n",
       "        [0.51926941, 0.71587818, 0.7026633 , ..., 0.98070765,\n",
       "         0.01221898, 0.28879096],\n",
       "        [0.06477723, 0.32341919, 0.50403679, ..., 0.76548537,\n",
       "         0.77795415, 0.66431056],\n",
       "        ...,\n",
       "        [0.11100692, 0.98274664, 0.40358241, ..., 0.99289414,\n",
       "         0.06770448, 0.54298909],\n",
       "        [0.65632714, 0.40902849, 0.12615681, ..., 0.34207126,\n",
       "         0.03412288, 0.15783326],\n",
       "        [0.08746388, 0.15130104, 0.9015958 , ..., 0.53358013,\n",
       "         0.03313643, 0.19041334]]])"
      ]
     },
     "execution_count": 40,
     "metadata": {},
     "output_type": "execute_result"
    }
   ],
   "source": [
    "normalized_precipitation_data"
   ]
  },
  {
   "cell_type": "markdown",
   "metadata": {},
   "source": [
    "# Pandas"
   ]
  },
  {
   "cell_type": "code",
   "execution_count": 41,
   "metadata": {},
   "outputs": [
    {
     "name": "stdout",
     "output_type": "stream",
     "text": [
      "Defaulting to user installation because normal site-packages is not writeable\n",
      "Requirement already satisfied: pandas in c:\\users\\vvagh\\appdata\\local\\packages\\pythonsoftwarefoundation.python.3.12_qbz5n2kfra8p0\\localcache\\local-packages\\python312\\site-packages (2.1.4)\n",
      "Requirement already satisfied: numpy<2,>=1.26.0 in c:\\users\\vvagh\\appdata\\local\\packages\\pythonsoftwarefoundation.python.3.12_qbz5n2kfra8p0\\localcache\\local-packages\\python312\\site-packages (from pandas) (1.26.3)\n",
      "Requirement already satisfied: python-dateutil>=2.8.2 in c:\\users\\vvagh\\appdata\\local\\packages\\pythonsoftwarefoundation.python.3.12_qbz5n2kfra8p0\\localcache\\local-packages\\python312\\site-packages (from pandas) (2.8.2)\n",
      "Requirement already satisfied: pytz>=2020.1 in c:\\users\\vvagh\\appdata\\local\\packages\\pythonsoftwarefoundation.python.3.12_qbz5n2kfra8p0\\localcache\\local-packages\\python312\\site-packages (from pandas) (2023.3.post1)\n",
      "Requirement already satisfied: tzdata>=2022.1 in c:\\users\\vvagh\\appdata\\local\\packages\\pythonsoftwarefoundation.python.3.12_qbz5n2kfra8p0\\localcache\\local-packages\\python312\\site-packages (from pandas) (2023.4)\n",
      "Requirement already satisfied: six>=1.5 in c:\\users\\vvagh\\appdata\\local\\packages\\pythonsoftwarefoundation.python.3.12_qbz5n2kfra8p0\\localcache\\local-packages\\python312\\site-packages (from python-dateutil>=2.8.2->pandas) (1.16.0)\n"
     ]
    }
   ],
   "source": [
    "# install pandas library\n",
    "!pip install pandas "
   ]
  },
  {
   "cell_type": "code",
   "execution_count": 42,
   "metadata": {},
   "outputs": [],
   "source": [
    "import pandas as pd"
   ]
  },
  {
   "cell_type": "code",
   "execution_count": 43,
   "metadata": {},
   "outputs": [
    {
     "data": {
      "text/html": [
       "<div>\n",
       "<style scoped>\n",
       "    .dataframe tbody tr th:only-of-type {\n",
       "        vertical-align: middle;\n",
       "    }\n",
       "\n",
       "    .dataframe tbody tr th {\n",
       "        vertical-align: top;\n",
       "    }\n",
       "\n",
       "    .dataframe thead th {\n",
       "        text-align: right;\n",
       "    }\n",
       "</style>\n",
       "<table border=\"1\" class=\"dataframe\">\n",
       "  <thead>\n",
       "    <tr style=\"text-align: right;\">\n",
       "      <th></th>\n",
       "      <th>Name</th>\n",
       "      <th>Age</th>\n",
       "    </tr>\n",
       "  </thead>\n",
       "  <tbody>\n",
       "    <tr>\n",
       "      <th>0</th>\n",
       "      <td>Rohit</td>\n",
       "      <td>22</td>\n",
       "    </tr>\n",
       "    <tr>\n",
       "      <th>1</th>\n",
       "      <td>Chandan</td>\n",
       "      <td>23</td>\n",
       "    </tr>\n",
       "    <tr>\n",
       "      <th>2</th>\n",
       "      <td>Ayush</td>\n",
       "      <td>24</td>\n",
       "    </tr>\n",
       "  </tbody>\n",
       "</table>\n",
       "</div>"
      ],
      "text/plain": [
       "      Name  Age\n",
       "0    Rohit   22\n",
       "1  Chandan   23\n",
       "2    Ayush   24"
      ]
     },
     "execution_count": 43,
     "metadata": {},
     "output_type": "execute_result"
    }
   ],
   "source": [
    "# from dictionaries and list to dataframe\n",
    "data = {'Name': ['Rohit', 'Chandan', 'Ayush'], 'Age': [22, 23, 24]} # data as dictionary\n",
    "df = pd.DataFrame(data)  # data as data frame\n",
    "df"
   ]
  },
  {
   "cell_type": "code",
   "execution_count": 44,
   "metadata": {},
   "outputs": [],
   "source": [
    "# Generating random data\n",
    "np.random.seed(0)\n",
    "latitudes = np.random.uniform(low=-90.0, high=90.0, size=365)\n",
    "longitudes = np.random.uniform(low=-180.0, high=180.0, size=365)\n",
    "precipitation = np.random.uniform(low=0.0, high=100.0, size=365)\n",
    "dates = pd.date_range(start='1/1/2023', periods=365)    # this i will discuss in next class"
   ]
  },
  {
   "cell_type": "code",
   "execution_count": 45,
   "metadata": {},
   "outputs": [],
   "source": [
    "# covert the data to dictionary format\n",
    "data1 = {\n",
    "    'Date': dates,\n",
    "    'Latitude': latitudes,\n",
    "    'Longitude': longitudes,\n",
    "    'Precipitation': precipitation\n",
    "}"
   ]
  },
  {
   "cell_type": "code",
   "execution_count": 46,
   "metadata": {},
   "outputs": [],
   "source": [
    "# convert the dictionary to a data frame (table)\n",
    "df2 = pd.DataFrame(data1)"
   ]
  },
  {
   "cell_type": "code",
   "execution_count": 47,
   "metadata": {},
   "outputs": [
    {
     "data": {
      "text/html": [
       "<div>\n",
       "<style scoped>\n",
       "    .dataframe tbody tr th:only-of-type {\n",
       "        vertical-align: middle;\n",
       "    }\n",
       "\n",
       "    .dataframe tbody tr th {\n",
       "        vertical-align: top;\n",
       "    }\n",
       "\n",
       "    .dataframe thead th {\n",
       "        text-align: right;\n",
       "    }\n",
       "</style>\n",
       "<table border=\"1\" class=\"dataframe\">\n",
       "  <thead>\n",
       "    <tr style=\"text-align: right;\">\n",
       "      <th></th>\n",
       "      <th>Date</th>\n",
       "      <th>Latitude</th>\n",
       "      <th>Longitude</th>\n",
       "      <th>Precipitation</th>\n",
       "    </tr>\n",
       "  </thead>\n",
       "  <tbody>\n",
       "    <tr>\n",
       "      <th>0</th>\n",
       "      <td>2023-01-01</td>\n",
       "      <td>8.786431</td>\n",
       "      <td>-14.902574</td>\n",
       "      <td>50.106317</td>\n",
       "    </tr>\n",
       "    <tr>\n",
       "      <th>1</th>\n",
       "      <td>2023-01-02</td>\n",
       "      <td>38.734086</td>\n",
       "      <td>80.700349</td>\n",
       "      <td>37.638916</td>\n",
       "    </tr>\n",
       "    <tr>\n",
       "      <th>2</th>\n",
       "      <td>2023-01-03</td>\n",
       "      <td>18.497408</td>\n",
       "      <td>-36.350884</td>\n",
       "      <td>36.491184</td>\n",
       "    </tr>\n",
       "    <tr>\n",
       "      <th>3</th>\n",
       "      <td>2023-01-04</td>\n",
       "      <td>8.078973</td>\n",
       "      <td>145.455981</td>\n",
       "      <td>26.090450</td>\n",
       "    </tr>\n",
       "    <tr>\n",
       "      <th>4</th>\n",
       "      <td>2023-01-05</td>\n",
       "      <td>-13.742136</td>\n",
       "      <td>68.409007</td>\n",
       "      <td>49.597030</td>\n",
       "    </tr>\n",
       "    <tr>\n",
       "      <th>...</th>\n",
       "      <td>...</td>\n",
       "      <td>...</td>\n",
       "      <td>...</td>\n",
       "      <td>...</td>\n",
       "    </tr>\n",
       "    <tr>\n",
       "      <th>360</th>\n",
       "      <td>2023-12-27</td>\n",
       "      <td>-56.316439</td>\n",
       "      <td>136.214098</td>\n",
       "      <td>35.422482</td>\n",
       "    </tr>\n",
       "    <tr>\n",
       "      <th>361</th>\n",
       "      <td>2023-12-28</td>\n",
       "      <td>72.717112</td>\n",
       "      <td>68.682519</td>\n",
       "      <td>12.027734</td>\n",
       "    </tr>\n",
       "    <tr>\n",
       "      <th>362</th>\n",
       "      <td>2023-12-29</td>\n",
       "      <td>7.885071</td>\n",
       "      <td>175.445553</td>\n",
       "      <td>75.490110</td>\n",
       "    </tr>\n",
       "    <tr>\n",
       "      <th>363</th>\n",
       "      <td>2023-12-30</td>\n",
       "      <td>-7.755944</td>\n",
       "      <td>93.341683</td>\n",
       "      <td>88.502185</td>\n",
       "    </tr>\n",
       "    <tr>\n",
       "      <th>364</th>\n",
       "      <td>2023-12-31</td>\n",
       "      <td>68.767454</td>\n",
       "      <td>-48.763935</td>\n",
       "      <td>10.025174</td>\n",
       "    </tr>\n",
       "  </tbody>\n",
       "</table>\n",
       "<p>365 rows × 4 columns</p>\n",
       "</div>"
      ],
      "text/plain": [
       "          Date   Latitude   Longitude  Precipitation\n",
       "0   2023-01-01   8.786431  -14.902574      50.106317\n",
       "1   2023-01-02  38.734086   80.700349      37.638916\n",
       "2   2023-01-03  18.497408  -36.350884      36.491184\n",
       "3   2023-01-04   8.078973  145.455981      26.090450\n",
       "4   2023-01-05 -13.742136   68.409007      49.597030\n",
       "..         ...        ...         ...            ...\n",
       "360 2023-12-27 -56.316439  136.214098      35.422482\n",
       "361 2023-12-28  72.717112   68.682519      12.027734\n",
       "362 2023-12-29   7.885071  175.445553      75.490110\n",
       "363 2023-12-30  -7.755944   93.341683      88.502185\n",
       "364 2023-12-31  68.767454  -48.763935      10.025174\n",
       "\n",
       "[365 rows x 4 columns]"
      ]
     },
     "execution_count": 47,
     "metadata": {},
     "output_type": "execute_result"
    }
   ],
   "source": [
    "df2"
   ]
  },
  {
   "cell_type": "code",
   "execution_count": 48,
   "metadata": {},
   "outputs": [
    {
     "ename": "OSError",
     "evalue": "Cannot save file into a non-existent directory: 'C:\\Users\\Shubham\\Desktop\\PandasTutorial'",
     "output_type": "error",
     "traceback": [
      "\u001b[1;31m---------------------------------------------------------------------------\u001b[0m",
      "\u001b[1;31mOSError\u001b[0m                                   Traceback (most recent call last)",
      "Cell \u001b[1;32mIn[48], line 2\u001b[0m\n\u001b[0;32m      1\u001b[0m \u001b[38;5;66;03m# exporting to the local disc, change the location to your desired location, as i showed in class we can also use r'C:\\Users\\.........'\u001b[39;00m\n\u001b[1;32m----> 2\u001b[0m \u001b[43mdf2\u001b[49m\u001b[38;5;241;43m.\u001b[39;49m\u001b[43mto_csv\u001b[49m\u001b[43m(\u001b[49m\u001b[38;5;124;43m'\u001b[39;49m\u001b[38;5;124;43mC:/Users/Shubham/Desktop/PandasTutorial/precip_data1.csv\u001b[39;49m\u001b[38;5;124;43m'\u001b[39;49m\u001b[43m,\u001b[49m\u001b[43m \u001b[49m\u001b[43mindex\u001b[49m\u001b[38;5;241;43m=\u001b[39;49m\u001b[38;5;28;43;01mFalse\u001b[39;49;00m\u001b[43m)\u001b[49m\n",
      "File \u001b[1;32m~\\AppData\\Local\\Packages\\PythonSoftwareFoundation.Python.3.12_qbz5n2kfra8p0\\LocalCache\\local-packages\\Python312\\site-packages\\pandas\\core\\generic.py:3902\u001b[0m, in \u001b[0;36mNDFrame.to_csv\u001b[1;34m(self, path_or_buf, sep, na_rep, float_format, columns, header, index, index_label, mode, encoding, compression, quoting, quotechar, lineterminator, chunksize, date_format, doublequote, escapechar, decimal, errors, storage_options)\u001b[0m\n\u001b[0;32m   3891\u001b[0m df \u001b[38;5;241m=\u001b[39m \u001b[38;5;28mself\u001b[39m \u001b[38;5;28;01mif\u001b[39;00m \u001b[38;5;28misinstance\u001b[39m(\u001b[38;5;28mself\u001b[39m, ABCDataFrame) \u001b[38;5;28;01melse\u001b[39;00m \u001b[38;5;28mself\u001b[39m\u001b[38;5;241m.\u001b[39mto_frame()\n\u001b[0;32m   3893\u001b[0m formatter \u001b[38;5;241m=\u001b[39m DataFrameFormatter(\n\u001b[0;32m   3894\u001b[0m     frame\u001b[38;5;241m=\u001b[39mdf,\n\u001b[0;32m   3895\u001b[0m     header\u001b[38;5;241m=\u001b[39mheader,\n\u001b[1;32m   (...)\u001b[0m\n\u001b[0;32m   3899\u001b[0m     decimal\u001b[38;5;241m=\u001b[39mdecimal,\n\u001b[0;32m   3900\u001b[0m )\n\u001b[1;32m-> 3902\u001b[0m \u001b[38;5;28;01mreturn\u001b[39;00m \u001b[43mDataFrameRenderer\u001b[49m\u001b[43m(\u001b[49m\u001b[43mformatter\u001b[49m\u001b[43m)\u001b[49m\u001b[38;5;241;43m.\u001b[39;49m\u001b[43mto_csv\u001b[49m\u001b[43m(\u001b[49m\n\u001b[0;32m   3903\u001b[0m \u001b[43m    \u001b[49m\u001b[43mpath_or_buf\u001b[49m\u001b[43m,\u001b[49m\n\u001b[0;32m   3904\u001b[0m \u001b[43m    \u001b[49m\u001b[43mlineterminator\u001b[49m\u001b[38;5;241;43m=\u001b[39;49m\u001b[43mlineterminator\u001b[49m\u001b[43m,\u001b[49m\n\u001b[0;32m   3905\u001b[0m \u001b[43m    \u001b[49m\u001b[43msep\u001b[49m\u001b[38;5;241;43m=\u001b[39;49m\u001b[43msep\u001b[49m\u001b[43m,\u001b[49m\n\u001b[0;32m   3906\u001b[0m \u001b[43m    \u001b[49m\u001b[43mencoding\u001b[49m\u001b[38;5;241;43m=\u001b[39;49m\u001b[43mencoding\u001b[49m\u001b[43m,\u001b[49m\n\u001b[0;32m   3907\u001b[0m \u001b[43m    \u001b[49m\u001b[43merrors\u001b[49m\u001b[38;5;241;43m=\u001b[39;49m\u001b[43merrors\u001b[49m\u001b[43m,\u001b[49m\n\u001b[0;32m   3908\u001b[0m \u001b[43m    \u001b[49m\u001b[43mcompression\u001b[49m\u001b[38;5;241;43m=\u001b[39;49m\u001b[43mcompression\u001b[49m\u001b[43m,\u001b[49m\n\u001b[0;32m   3909\u001b[0m \u001b[43m    \u001b[49m\u001b[43mquoting\u001b[49m\u001b[38;5;241;43m=\u001b[39;49m\u001b[43mquoting\u001b[49m\u001b[43m,\u001b[49m\n\u001b[0;32m   3910\u001b[0m \u001b[43m    \u001b[49m\u001b[43mcolumns\u001b[49m\u001b[38;5;241;43m=\u001b[39;49m\u001b[43mcolumns\u001b[49m\u001b[43m,\u001b[49m\n\u001b[0;32m   3911\u001b[0m \u001b[43m    \u001b[49m\u001b[43mindex_label\u001b[49m\u001b[38;5;241;43m=\u001b[39;49m\u001b[43mindex_label\u001b[49m\u001b[43m,\u001b[49m\n\u001b[0;32m   3912\u001b[0m \u001b[43m    \u001b[49m\u001b[43mmode\u001b[49m\u001b[38;5;241;43m=\u001b[39;49m\u001b[43mmode\u001b[49m\u001b[43m,\u001b[49m\n\u001b[0;32m   3913\u001b[0m \u001b[43m    \u001b[49m\u001b[43mchunksize\u001b[49m\u001b[38;5;241;43m=\u001b[39;49m\u001b[43mchunksize\u001b[49m\u001b[43m,\u001b[49m\n\u001b[0;32m   3914\u001b[0m \u001b[43m    \u001b[49m\u001b[43mquotechar\u001b[49m\u001b[38;5;241;43m=\u001b[39;49m\u001b[43mquotechar\u001b[49m\u001b[43m,\u001b[49m\n\u001b[0;32m   3915\u001b[0m \u001b[43m    \u001b[49m\u001b[43mdate_format\u001b[49m\u001b[38;5;241;43m=\u001b[39;49m\u001b[43mdate_format\u001b[49m\u001b[43m,\u001b[49m\n\u001b[0;32m   3916\u001b[0m \u001b[43m    \u001b[49m\u001b[43mdoublequote\u001b[49m\u001b[38;5;241;43m=\u001b[39;49m\u001b[43mdoublequote\u001b[49m\u001b[43m,\u001b[49m\n\u001b[0;32m   3917\u001b[0m \u001b[43m    \u001b[49m\u001b[43mescapechar\u001b[49m\u001b[38;5;241;43m=\u001b[39;49m\u001b[43mescapechar\u001b[49m\u001b[43m,\u001b[49m\n\u001b[0;32m   3918\u001b[0m \u001b[43m    \u001b[49m\u001b[43mstorage_options\u001b[49m\u001b[38;5;241;43m=\u001b[39;49m\u001b[43mstorage_options\u001b[49m\u001b[43m,\u001b[49m\n\u001b[0;32m   3919\u001b[0m \u001b[43m\u001b[49m\u001b[43m)\u001b[49m\n",
      "File \u001b[1;32m~\\AppData\\Local\\Packages\\PythonSoftwareFoundation.Python.3.12_qbz5n2kfra8p0\\LocalCache\\local-packages\\Python312\\site-packages\\pandas\\io\\formats\\format.py:1152\u001b[0m, in \u001b[0;36mDataFrameRenderer.to_csv\u001b[1;34m(self, path_or_buf, encoding, sep, columns, index_label, mode, compression, quoting, quotechar, lineterminator, chunksize, date_format, doublequote, escapechar, errors, storage_options)\u001b[0m\n\u001b[0;32m   1131\u001b[0m     created_buffer \u001b[38;5;241m=\u001b[39m \u001b[38;5;28;01mFalse\u001b[39;00m\n\u001b[0;32m   1133\u001b[0m csv_formatter \u001b[38;5;241m=\u001b[39m CSVFormatter(\n\u001b[0;32m   1134\u001b[0m     path_or_buf\u001b[38;5;241m=\u001b[39mpath_or_buf,\n\u001b[0;32m   1135\u001b[0m     lineterminator\u001b[38;5;241m=\u001b[39mlineterminator,\n\u001b[1;32m   (...)\u001b[0m\n\u001b[0;32m   1150\u001b[0m     formatter\u001b[38;5;241m=\u001b[39m\u001b[38;5;28mself\u001b[39m\u001b[38;5;241m.\u001b[39mfmt,\n\u001b[0;32m   1151\u001b[0m )\n\u001b[1;32m-> 1152\u001b[0m \u001b[43mcsv_formatter\u001b[49m\u001b[38;5;241;43m.\u001b[39;49m\u001b[43msave\u001b[49m\u001b[43m(\u001b[49m\u001b[43m)\u001b[49m\n\u001b[0;32m   1154\u001b[0m \u001b[38;5;28;01mif\u001b[39;00m created_buffer:\n\u001b[0;32m   1155\u001b[0m     \u001b[38;5;28;01massert\u001b[39;00m \u001b[38;5;28misinstance\u001b[39m(path_or_buf, StringIO)\n",
      "File \u001b[1;32m~\\AppData\\Local\\Packages\\PythonSoftwareFoundation.Python.3.12_qbz5n2kfra8p0\\LocalCache\\local-packages\\Python312\\site-packages\\pandas\\io\\formats\\csvs.py:247\u001b[0m, in \u001b[0;36mCSVFormatter.save\u001b[1;34m(self)\u001b[0m\n\u001b[0;32m    243\u001b[0m \u001b[38;5;250m\u001b[39m\u001b[38;5;124;03m\"\"\"\u001b[39;00m\n\u001b[0;32m    244\u001b[0m \u001b[38;5;124;03mCreate the writer & save.\u001b[39;00m\n\u001b[0;32m    245\u001b[0m \u001b[38;5;124;03m\"\"\"\u001b[39;00m\n\u001b[0;32m    246\u001b[0m \u001b[38;5;66;03m# apply compression and byte/text conversion\u001b[39;00m\n\u001b[1;32m--> 247\u001b[0m \u001b[38;5;28;01mwith\u001b[39;00m \u001b[43mget_handle\u001b[49m\u001b[43m(\u001b[49m\n\u001b[0;32m    248\u001b[0m \u001b[43m    \u001b[49m\u001b[38;5;28;43mself\u001b[39;49m\u001b[38;5;241;43m.\u001b[39;49m\u001b[43mfilepath_or_buffer\u001b[49m\u001b[43m,\u001b[49m\n\u001b[0;32m    249\u001b[0m \u001b[43m    \u001b[49m\u001b[38;5;28;43mself\u001b[39;49m\u001b[38;5;241;43m.\u001b[39;49m\u001b[43mmode\u001b[49m\u001b[43m,\u001b[49m\n\u001b[0;32m    250\u001b[0m \u001b[43m    \u001b[49m\u001b[43mencoding\u001b[49m\u001b[38;5;241;43m=\u001b[39;49m\u001b[38;5;28;43mself\u001b[39;49m\u001b[38;5;241;43m.\u001b[39;49m\u001b[43mencoding\u001b[49m\u001b[43m,\u001b[49m\n\u001b[0;32m    251\u001b[0m \u001b[43m    \u001b[49m\u001b[43merrors\u001b[49m\u001b[38;5;241;43m=\u001b[39;49m\u001b[38;5;28;43mself\u001b[39;49m\u001b[38;5;241;43m.\u001b[39;49m\u001b[43merrors\u001b[49m\u001b[43m,\u001b[49m\n\u001b[0;32m    252\u001b[0m \u001b[43m    \u001b[49m\u001b[43mcompression\u001b[49m\u001b[38;5;241;43m=\u001b[39;49m\u001b[38;5;28;43mself\u001b[39;49m\u001b[38;5;241;43m.\u001b[39;49m\u001b[43mcompression\u001b[49m\u001b[43m,\u001b[49m\n\u001b[0;32m    253\u001b[0m \u001b[43m    \u001b[49m\u001b[43mstorage_options\u001b[49m\u001b[38;5;241;43m=\u001b[39;49m\u001b[38;5;28;43mself\u001b[39;49m\u001b[38;5;241;43m.\u001b[39;49m\u001b[43mstorage_options\u001b[49m\u001b[43m,\u001b[49m\n\u001b[0;32m    254\u001b[0m \u001b[43m\u001b[49m\u001b[43m)\u001b[49m \u001b[38;5;28;01mas\u001b[39;00m handles:\n\u001b[0;32m    255\u001b[0m     \u001b[38;5;66;03m# Note: self.encoding is irrelevant here\u001b[39;00m\n\u001b[0;32m    256\u001b[0m     \u001b[38;5;28mself\u001b[39m\u001b[38;5;241m.\u001b[39mwriter \u001b[38;5;241m=\u001b[39m csvlib\u001b[38;5;241m.\u001b[39mwriter(\n\u001b[0;32m    257\u001b[0m         handles\u001b[38;5;241m.\u001b[39mhandle,\n\u001b[0;32m    258\u001b[0m         lineterminator\u001b[38;5;241m=\u001b[39m\u001b[38;5;28mself\u001b[39m\u001b[38;5;241m.\u001b[39mlineterminator,\n\u001b[1;32m   (...)\u001b[0m\n\u001b[0;32m    263\u001b[0m         quotechar\u001b[38;5;241m=\u001b[39m\u001b[38;5;28mself\u001b[39m\u001b[38;5;241m.\u001b[39mquotechar,\n\u001b[0;32m    264\u001b[0m     )\n\u001b[0;32m    266\u001b[0m     \u001b[38;5;28mself\u001b[39m\u001b[38;5;241m.\u001b[39m_save()\n",
      "File \u001b[1;32m~\\AppData\\Local\\Packages\\PythonSoftwareFoundation.Python.3.12_qbz5n2kfra8p0\\LocalCache\\local-packages\\Python312\\site-packages\\pandas\\io\\common.py:739\u001b[0m, in \u001b[0;36mget_handle\u001b[1;34m(path_or_buf, mode, encoding, compression, memory_map, is_text, errors, storage_options)\u001b[0m\n\u001b[0;32m    737\u001b[0m \u001b[38;5;66;03m# Only for write methods\u001b[39;00m\n\u001b[0;32m    738\u001b[0m \u001b[38;5;28;01mif\u001b[39;00m \u001b[38;5;124m\"\u001b[39m\u001b[38;5;124mr\u001b[39m\u001b[38;5;124m\"\u001b[39m \u001b[38;5;129;01mnot\u001b[39;00m \u001b[38;5;129;01min\u001b[39;00m mode \u001b[38;5;129;01mand\u001b[39;00m is_path:\n\u001b[1;32m--> 739\u001b[0m     \u001b[43mcheck_parent_directory\u001b[49m\u001b[43m(\u001b[49m\u001b[38;5;28;43mstr\u001b[39;49m\u001b[43m(\u001b[49m\u001b[43mhandle\u001b[49m\u001b[43m)\u001b[49m\u001b[43m)\u001b[49m\n\u001b[0;32m    741\u001b[0m \u001b[38;5;28;01mif\u001b[39;00m compression:\n\u001b[0;32m    742\u001b[0m     \u001b[38;5;28;01mif\u001b[39;00m compression \u001b[38;5;241m!=\u001b[39m \u001b[38;5;124m\"\u001b[39m\u001b[38;5;124mzstd\u001b[39m\u001b[38;5;124m\"\u001b[39m:\n\u001b[0;32m    743\u001b[0m         \u001b[38;5;66;03m# compression libraries do not like an explicit text-mode\u001b[39;00m\n",
      "File \u001b[1;32m~\\AppData\\Local\\Packages\\PythonSoftwareFoundation.Python.3.12_qbz5n2kfra8p0\\LocalCache\\local-packages\\Python312\\site-packages\\pandas\\io\\common.py:604\u001b[0m, in \u001b[0;36mcheck_parent_directory\u001b[1;34m(path)\u001b[0m\n\u001b[0;32m    602\u001b[0m parent \u001b[38;5;241m=\u001b[39m Path(path)\u001b[38;5;241m.\u001b[39mparent\n\u001b[0;32m    603\u001b[0m \u001b[38;5;28;01mif\u001b[39;00m \u001b[38;5;129;01mnot\u001b[39;00m parent\u001b[38;5;241m.\u001b[39mis_dir():\n\u001b[1;32m--> 604\u001b[0m     \u001b[38;5;28;01mraise\u001b[39;00m \u001b[38;5;167;01mOSError\u001b[39;00m(\u001b[38;5;124mrf\u001b[39m\u001b[38;5;124m\"\u001b[39m\u001b[38;5;124mCannot save file into a non-existent directory: \u001b[39m\u001b[38;5;124m'\u001b[39m\u001b[38;5;132;01m{\u001b[39;00mparent\u001b[38;5;132;01m}\u001b[39;00m\u001b[38;5;124m'\u001b[39m\u001b[38;5;124m\"\u001b[39m)\n",
      "\u001b[1;31mOSError\u001b[0m: Cannot save file into a non-existent directory: 'C:\\Users\\Shubham\\Desktop\\PandasTutorial'"
     ]
    }
   ],
   "source": [
    "# exporting to the local disc, change the location to your desired location, as i showed in class we can also use r'C:\\Users\\.........'\n",
    "df2.to_csv('C:/Users/Shubham/Desktop/PandasTutorial/precip_data1.csv', index=False)"
   ]
  },
  {
   "cell_type": "code",
   "execution_count": null,
   "metadata": {},
   "outputs": [],
   "source": [
    "# loading the dat\n",
    "df3 = pd.read_csv('C:/Users/Shubham/Desktop/PandasTutorial/precipitation_data.csv')"
   ]
  },
  {
   "cell_type": "code",
   "execution_count": null,
   "metadata": {},
   "outputs": [
    {
     "data": {
      "text/html": [
       "<div>\n",
       "<style scoped>\n",
       "    .dataframe tbody tr th:only-of-type {\n",
       "        vertical-align: middle;\n",
       "    }\n",
       "\n",
       "    .dataframe tbody tr th {\n",
       "        vertical-align: top;\n",
       "    }\n",
       "\n",
       "    .dataframe thead th {\n",
       "        text-align: right;\n",
       "    }\n",
       "</style>\n",
       "<table border=\"1\" class=\"dataframe\">\n",
       "  <thead>\n",
       "    <tr style=\"text-align: right;\">\n",
       "      <th></th>\n",
       "      <th>Date</th>\n",
       "      <th>Latitude</th>\n",
       "      <th>Longitude</th>\n",
       "      <th>Precipitation</th>\n",
       "    </tr>\n",
       "  </thead>\n",
       "  <tbody>\n",
       "    <tr>\n",
       "      <th>0</th>\n",
       "      <td>2023-01-01</td>\n",
       "      <td>8.786431</td>\n",
       "      <td>-14.902574</td>\n",
       "      <td>50.106317</td>\n",
       "    </tr>\n",
       "    <tr>\n",
       "      <th>1</th>\n",
       "      <td>2023-01-02</td>\n",
       "      <td>38.734086</td>\n",
       "      <td>80.700349</td>\n",
       "      <td>37.638916</td>\n",
       "    </tr>\n",
       "    <tr>\n",
       "      <th>2</th>\n",
       "      <td>2023-01-03</td>\n",
       "      <td>18.497408</td>\n",
       "      <td>-36.350884</td>\n",
       "      <td>36.491184</td>\n",
       "    </tr>\n",
       "    <tr>\n",
       "      <th>3</th>\n",
       "      <td>2023-01-04</td>\n",
       "      <td>8.078973</td>\n",
       "      <td>145.455981</td>\n",
       "      <td>26.090450</td>\n",
       "    </tr>\n",
       "    <tr>\n",
       "      <th>4</th>\n",
       "      <td>2023-01-05</td>\n",
       "      <td>-13.742136</td>\n",
       "      <td>68.409007</td>\n",
       "      <td>49.597030</td>\n",
       "    </tr>\n",
       "    <tr>\n",
       "      <th>...</th>\n",
       "      <td>...</td>\n",
       "      <td>...</td>\n",
       "      <td>...</td>\n",
       "      <td>...</td>\n",
       "    </tr>\n",
       "    <tr>\n",
       "      <th>360</th>\n",
       "      <td>2023-12-27</td>\n",
       "      <td>-56.316439</td>\n",
       "      <td>136.214098</td>\n",
       "      <td>35.422482</td>\n",
       "    </tr>\n",
       "    <tr>\n",
       "      <th>361</th>\n",
       "      <td>2023-12-28</td>\n",
       "      <td>72.717112</td>\n",
       "      <td>68.682519</td>\n",
       "      <td>12.027734</td>\n",
       "    </tr>\n",
       "    <tr>\n",
       "      <th>362</th>\n",
       "      <td>2023-12-29</td>\n",
       "      <td>7.885071</td>\n",
       "      <td>175.445553</td>\n",
       "      <td>75.490110</td>\n",
       "    </tr>\n",
       "    <tr>\n",
       "      <th>363</th>\n",
       "      <td>2023-12-30</td>\n",
       "      <td>-7.755944</td>\n",
       "      <td>93.341683</td>\n",
       "      <td>88.502185</td>\n",
       "    </tr>\n",
       "    <tr>\n",
       "      <th>364</th>\n",
       "      <td>2023-12-31</td>\n",
       "      <td>68.767454</td>\n",
       "      <td>-48.763935</td>\n",
       "      <td>10.025174</td>\n",
       "    </tr>\n",
       "  </tbody>\n",
       "</table>\n",
       "<p>365 rows × 4 columns</p>\n",
       "</div>"
      ],
      "text/plain": [
       "           Date   Latitude   Longitude  Precipitation\n",
       "0    2023-01-01   8.786431  -14.902574      50.106317\n",
       "1    2023-01-02  38.734086   80.700349      37.638916\n",
       "2    2023-01-03  18.497408  -36.350884      36.491184\n",
       "3    2023-01-04   8.078973  145.455981      26.090450\n",
       "4    2023-01-05 -13.742136   68.409007      49.597030\n",
       "..          ...        ...         ...            ...\n",
       "360  2023-12-27 -56.316439  136.214098      35.422482\n",
       "361  2023-12-28  72.717112   68.682519      12.027734\n",
       "362  2023-12-29   7.885071  175.445553      75.490110\n",
       "363  2023-12-30  -7.755944   93.341683      88.502185\n",
       "364  2023-12-31  68.767454  -48.763935      10.025174\n",
       "\n",
       "[365 rows x 4 columns]"
      ]
     },
     "execution_count": 276,
     "metadata": {},
     "output_type": "execute_result"
    }
   ],
   "source": [
    "df3"
   ]
  },
  {
   "cell_type": "code",
   "execution_count": null,
   "metadata": {},
   "outputs": [
    {
     "data": {
      "text/html": [
       "<div>\n",
       "<style scoped>\n",
       "    .dataframe tbody tr th:only-of-type {\n",
       "        vertical-align: middle;\n",
       "    }\n",
       "\n",
       "    .dataframe tbody tr th {\n",
       "        vertical-align: top;\n",
       "    }\n",
       "\n",
       "    .dataframe thead th {\n",
       "        text-align: right;\n",
       "    }\n",
       "</style>\n",
       "<table border=\"1\" class=\"dataframe\">\n",
       "  <thead>\n",
       "    <tr style=\"text-align: right;\">\n",
       "      <th></th>\n",
       "      <th>Date</th>\n",
       "      <th>Latitude</th>\n",
       "      <th>Longitude</th>\n",
       "      <th>Precipitation</th>\n",
       "    </tr>\n",
       "  </thead>\n",
       "  <tbody>\n",
       "    <tr>\n",
       "      <th>0</th>\n",
       "      <td>2023-01-01</td>\n",
       "      <td>8.786431</td>\n",
       "      <td>-14.902574</td>\n",
       "      <td>50.106317</td>\n",
       "    </tr>\n",
       "    <tr>\n",
       "      <th>1</th>\n",
       "      <td>2023-01-02</td>\n",
       "      <td>38.734086</td>\n",
       "      <td>80.700349</td>\n",
       "      <td>37.638916</td>\n",
       "    </tr>\n",
       "    <tr>\n",
       "      <th>2</th>\n",
       "      <td>2023-01-03</td>\n",
       "      <td>18.497408</td>\n",
       "      <td>-36.350884</td>\n",
       "      <td>36.491184</td>\n",
       "    </tr>\n",
       "    <tr>\n",
       "      <th>3</th>\n",
       "      <td>2023-01-04</td>\n",
       "      <td>8.078973</td>\n",
       "      <td>145.455981</td>\n",
       "      <td>26.090450</td>\n",
       "    </tr>\n",
       "    <tr>\n",
       "      <th>4</th>\n",
       "      <td>2023-01-05</td>\n",
       "      <td>-13.742136</td>\n",
       "      <td>68.409007</td>\n",
       "      <td>49.597030</td>\n",
       "    </tr>\n",
       "    <tr>\n",
       "      <th>5</th>\n",
       "      <td>2023-01-06</td>\n",
       "      <td>26.260940</td>\n",
       "      <td>71.863940</td>\n",
       "      <td>68.173995</td>\n",
       "    </tr>\n",
       "    <tr>\n",
       "      <th>6</th>\n",
       "      <td>2023-01-07</td>\n",
       "      <td>-11.234302</td>\n",
       "      <td>-62.020655</td>\n",
       "      <td>27.734027</td>\n",
       "    </tr>\n",
       "    <tr>\n",
       "      <th>7</th>\n",
       "      <td>2023-01-08</td>\n",
       "      <td>70.519140</td>\n",
       "      <td>92.440311</td>\n",
       "      <td>52.437981</td>\n",
       "    </tr>\n",
       "    <tr>\n",
       "      <th>8</th>\n",
       "      <td>2023-01-09</td>\n",
       "      <td>83.459297</td>\n",
       "      <td>48.981980</td>\n",
       "      <td>11.738029</td>\n",
       "    </tr>\n",
       "    <tr>\n",
       "      <th>9</th>\n",
       "      <td>2023-01-10</td>\n",
       "      <td>-20.980527</td>\n",
       "      <td>-93.592702</td>\n",
       "      <td>15.984529</td>\n",
       "    </tr>\n",
       "  </tbody>\n",
       "</table>\n",
       "</div>"
      ],
      "text/plain": [
       "         Date   Latitude   Longitude  Precipitation\n",
       "0  2023-01-01   8.786431  -14.902574      50.106317\n",
       "1  2023-01-02  38.734086   80.700349      37.638916\n",
       "2  2023-01-03  18.497408  -36.350884      36.491184\n",
       "3  2023-01-04   8.078973  145.455981      26.090450\n",
       "4  2023-01-05 -13.742136   68.409007      49.597030\n",
       "5  2023-01-06  26.260940   71.863940      68.173995\n",
       "6  2023-01-07 -11.234302  -62.020655      27.734027\n",
       "7  2023-01-08  70.519140   92.440311      52.437981\n",
       "8  2023-01-09  83.459297   48.981980      11.738029\n",
       "9  2023-01-10 -20.980527  -93.592702      15.984529"
      ]
     },
     "execution_count": 277,
     "metadata": {},
     "output_type": "execute_result"
    }
   ],
   "source": [
    "# extract information about data\n",
    "df3.head(10)  # by default it will show 5 entries"
   ]
  },
  {
   "cell_type": "code",
   "execution_count": null,
   "metadata": {},
   "outputs": [
    {
     "data": {
      "text/html": [
       "<div>\n",
       "<style scoped>\n",
       "    .dataframe tbody tr th:only-of-type {\n",
       "        vertical-align: middle;\n",
       "    }\n",
       "\n",
       "    .dataframe tbody tr th {\n",
       "        vertical-align: top;\n",
       "    }\n",
       "\n",
       "    .dataframe thead th {\n",
       "        text-align: right;\n",
       "    }\n",
       "</style>\n",
       "<table border=\"1\" class=\"dataframe\">\n",
       "  <thead>\n",
       "    <tr style=\"text-align: right;\">\n",
       "      <th></th>\n",
       "      <th>Date</th>\n",
       "      <th>Latitude</th>\n",
       "      <th>Longitude</th>\n",
       "      <th>Precipitation</th>\n",
       "    </tr>\n",
       "  </thead>\n",
       "  <tbody>\n",
       "    <tr>\n",
       "      <th>358</th>\n",
       "      <td>2023-12-25</td>\n",
       "      <td>-19.318378</td>\n",
       "      <td>142.448865</td>\n",
       "      <td>91.328434</td>\n",
       "    </tr>\n",
       "    <tr>\n",
       "      <th>359</th>\n",
       "      <td>2023-12-26</td>\n",
       "      <td>82.153030</td>\n",
       "      <td>-38.675236</td>\n",
       "      <td>52.457707</td>\n",
       "    </tr>\n",
       "    <tr>\n",
       "      <th>360</th>\n",
       "      <td>2023-12-27</td>\n",
       "      <td>-56.316439</td>\n",
       "      <td>136.214098</td>\n",
       "      <td>35.422482</td>\n",
       "    </tr>\n",
       "    <tr>\n",
       "      <th>361</th>\n",
       "      <td>2023-12-28</td>\n",
       "      <td>72.717112</td>\n",
       "      <td>68.682519</td>\n",
       "      <td>12.027734</td>\n",
       "    </tr>\n",
       "    <tr>\n",
       "      <th>362</th>\n",
       "      <td>2023-12-29</td>\n",
       "      <td>7.885071</td>\n",
       "      <td>175.445553</td>\n",
       "      <td>75.490110</td>\n",
       "    </tr>\n",
       "    <tr>\n",
       "      <th>363</th>\n",
       "      <td>2023-12-30</td>\n",
       "      <td>-7.755944</td>\n",
       "      <td>93.341683</td>\n",
       "      <td>88.502185</td>\n",
       "    </tr>\n",
       "    <tr>\n",
       "      <th>364</th>\n",
       "      <td>2023-12-31</td>\n",
       "      <td>68.767454</td>\n",
       "      <td>-48.763935</td>\n",
       "      <td>10.025174</td>\n",
       "    </tr>\n",
       "  </tbody>\n",
       "</table>\n",
       "</div>"
      ],
      "text/plain": [
       "           Date   Latitude   Longitude  Precipitation\n",
       "358  2023-12-25 -19.318378  142.448865      91.328434\n",
       "359  2023-12-26  82.153030  -38.675236      52.457707\n",
       "360  2023-12-27 -56.316439  136.214098      35.422482\n",
       "361  2023-12-28  72.717112   68.682519      12.027734\n",
       "362  2023-12-29   7.885071  175.445553      75.490110\n",
       "363  2023-12-30  -7.755944   93.341683      88.502185\n",
       "364  2023-12-31  68.767454  -48.763935      10.025174"
      ]
     },
     "execution_count": 278,
     "metadata": {},
     "output_type": "execute_result"
    }
   ],
   "source": [
    "df3.tail(7)  # by default it will show 5 entries"
   ]
  },
  {
   "cell_type": "code",
   "execution_count": null,
   "metadata": {},
   "outputs": [
    {
     "name": "stdout",
     "output_type": "stream",
     "text": [
      "<class 'pandas.core.frame.DataFrame'>\n",
      "RangeIndex: 365 entries, 0 to 364\n",
      "Data columns (total 4 columns):\n",
      " #   Column         Non-Null Count  Dtype  \n",
      "---  ------         --------------  -----  \n",
      " 0   Date           365 non-null    object \n",
      " 1   Latitude       365 non-null    float64\n",
      " 2   Longitude      365 non-null    float64\n",
      " 3   Precipitation  365 non-null    float64\n",
      "dtypes: float64(3), object(1)\n",
      "memory usage: 11.5+ KB\n"
     ]
    }
   ],
   "source": [
    "# summary of the data\n",
    "df3.info()"
   ]
  },
  {
   "cell_type": "code",
   "execution_count": null,
   "metadata": {},
   "outputs": [
    {
     "data": {
      "text/html": [
       "<div>\n",
       "<style scoped>\n",
       "    .dataframe tbody tr th:only-of-type {\n",
       "        vertical-align: middle;\n",
       "    }\n",
       "\n",
       "    .dataframe tbody tr th {\n",
       "        vertical-align: top;\n",
       "    }\n",
       "\n",
       "    .dataframe thead th {\n",
       "        text-align: right;\n",
       "    }\n",
       "</style>\n",
       "<table border=\"1\" class=\"dataframe\">\n",
       "  <thead>\n",
       "    <tr style=\"text-align: right;\">\n",
       "      <th></th>\n",
       "      <th>Latitude</th>\n",
       "      <th>Longitude</th>\n",
       "      <th>Precipitation</th>\n",
       "    </tr>\n",
       "  </thead>\n",
       "  <tbody>\n",
       "    <tr>\n",
       "      <th>count</th>\n",
       "      <td>365.000000</td>\n",
       "      <td>365.000000</td>\n",
       "      <td>365.000000</td>\n",
       "    </tr>\n",
       "    <tr>\n",
       "      <th>mean</th>\n",
       "      <td>-1.503927</td>\n",
       "      <td>-1.053158</td>\n",
       "      <td>49.363195</td>\n",
       "    </tr>\n",
       "    <tr>\n",
       "      <th>std</th>\n",
       "      <td>52.055694</td>\n",
       "      <td>106.368446</td>\n",
       "      <td>29.353477</td>\n",
       "    </tr>\n",
       "    <tr>\n",
       "      <th>min</th>\n",
       "      <td>-89.154814</td>\n",
       "      <td>-179.026843</td>\n",
       "      <td>0.054596</td>\n",
       "    </tr>\n",
       "    <tr>\n",
       "      <th>25%</th>\n",
       "      <td>-46.650820</td>\n",
       "      <td>-90.571153</td>\n",
       "      <td>24.488948</td>\n",
       "    </tr>\n",
       "    <tr>\n",
       "      <th>50%</th>\n",
       "      <td>0.238389</td>\n",
       "      <td>-15.399557</td>\n",
       "      <td>48.339354</td>\n",
       "    </tr>\n",
       "    <tr>\n",
       "      <th>75%</th>\n",
       "      <td>40.545770</td>\n",
       "      <td>86.435109</td>\n",
       "      <td>75.490110</td>\n",
       "    </tr>\n",
       "    <tr>\n",
       "      <th>max</th>\n",
       "      <td>89.792461</td>\n",
       "      <td>179.740078</td>\n",
       "      <td>99.980858</td>\n",
       "    </tr>\n",
       "  </tbody>\n",
       "</table>\n",
       "</div>"
      ],
      "text/plain": [
       "         Latitude   Longitude  Precipitation\n",
       "count  365.000000  365.000000     365.000000\n",
       "mean    -1.503927   -1.053158      49.363195\n",
       "std     52.055694  106.368446      29.353477\n",
       "min    -89.154814 -179.026843       0.054596\n",
       "25%    -46.650820  -90.571153      24.488948\n",
       "50%      0.238389  -15.399557      48.339354\n",
       "75%     40.545770   86.435109      75.490110\n",
       "max     89.792461  179.740078      99.980858"
      ]
     },
     "execution_count": 283,
     "metadata": {},
     "output_type": "execute_result"
    }
   ],
   "source": [
    "# statistical description of the data\n",
    "k = df3.describe()\n",
    "k"
   ]
  },
  {
   "cell_type": "code",
   "execution_count": null,
   "metadata": {},
   "outputs": [
    {
     "data": {
      "text/plain": [
       "49.36319533188268"
      ]
     },
     "execution_count": 290,
     "metadata": {},
     "output_type": "execute_result"
    }
   ],
   "source": [
    "k.loc['mean']['Precipitation'] # you can extract only mean of precipitation"
   ]
  },
  {
   "cell_type": "code",
   "execution_count": null,
   "metadata": {},
   "outputs": [
    {
     "data": {
      "text/plain": [
       "0      50.106317\n",
       "1      37.638916\n",
       "2      36.491184\n",
       "3      26.090450\n",
       "4      49.597030\n",
       "         ...    \n",
       "360    35.422482\n",
       "361    12.027734\n",
       "362    75.490110\n",
       "363    88.502185\n",
       "364    10.025174\n",
       "Name: Precipitation, Length: 365, dtype: float64"
      ]
     },
     "execution_count": 291,
     "metadata": {},
     "output_type": "execute_result"
    }
   ],
   "source": [
    "# Extracting the data, column by name\n",
    "df3['Precipitation']"
   ]
  },
  {
   "cell_type": "code",
   "execution_count": null,
   "metadata": {},
   "outputs": [
    {
     "data": {
      "text/plain": [
       "4    49.597030\n",
       "5    68.173995\n",
       "6    27.734027\n",
       "7    52.437981\n",
       "8    11.738029\n",
       "9    15.984529\n",
       "Name: Precipitation, dtype: float64"
      ]
     },
     "execution_count": 292,
     "metadata": {},
     "output_type": "execute_result"
    }
   ],
   "source": [
    "# slice the column\n",
    "df3['Precipitation'][4:10]"
   ]
  },
  {
   "cell_type": "code",
   "execution_count": null,
   "metadata": {},
   "outputs": [
    {
     "data": {
      "text/plain": [
       "Date             2023-01-01\n",
       "Latitude           8.786431\n",
       "Longitude        -14.902574\n",
       "Precipitation     50.106317\n",
       "Name: 0, dtype: object"
      ]
     },
     "execution_count": 293,
     "metadata": {},
     "output_type": "execute_result"
    }
   ],
   "source": [
    "# extract row by index\n",
    "df3.loc[0]"
   ]
  },
  {
   "cell_type": "code",
   "execution_count": null,
   "metadata": {},
   "outputs": [
    {
     "data": {
      "text/html": [
       "<div>\n",
       "<style scoped>\n",
       "    .dataframe tbody tr th:only-of-type {\n",
       "        vertical-align: middle;\n",
       "    }\n",
       "\n",
       "    .dataframe tbody tr th {\n",
       "        vertical-align: top;\n",
       "    }\n",
       "\n",
       "    .dataframe thead th {\n",
       "        text-align: right;\n",
       "    }\n",
       "</style>\n",
       "<table border=\"1\" class=\"dataframe\">\n",
       "  <thead>\n",
       "    <tr style=\"text-align: right;\">\n",
       "      <th></th>\n",
       "      <th>Date</th>\n",
       "      <th>Latitude</th>\n",
       "      <th>Longitude</th>\n",
       "      <th>Precipitation</th>\n",
       "    </tr>\n",
       "  </thead>\n",
       "  <tbody>\n",
       "    <tr>\n",
       "      <th>2</th>\n",
       "      <td>2023-01-03</td>\n",
       "      <td>18.497408</td>\n",
       "      <td>-36.350884</td>\n",
       "      <td>36.491184</td>\n",
       "    </tr>\n",
       "    <tr>\n",
       "      <th>3</th>\n",
       "      <td>2023-01-04</td>\n",
       "      <td>8.078973</td>\n",
       "      <td>145.455981</td>\n",
       "      <td>26.090450</td>\n",
       "    </tr>\n",
       "    <tr>\n",
       "      <th>4</th>\n",
       "      <td>2023-01-05</td>\n",
       "      <td>-13.742136</td>\n",
       "      <td>68.409007</td>\n",
       "      <td>49.597030</td>\n",
       "    </tr>\n",
       "    <tr>\n",
       "      <th>5</th>\n",
       "      <td>2023-01-06</td>\n",
       "      <td>26.260940</td>\n",
       "      <td>71.863940</td>\n",
       "      <td>68.173995</td>\n",
       "    </tr>\n",
       "    <tr>\n",
       "      <th>6</th>\n",
       "      <td>2023-01-07</td>\n",
       "      <td>-11.234302</td>\n",
       "      <td>-62.020655</td>\n",
       "      <td>27.734027</td>\n",
       "    </tr>\n",
       "    <tr>\n",
       "      <th>7</th>\n",
       "      <td>2023-01-08</td>\n",
       "      <td>70.519140</td>\n",
       "      <td>92.440311</td>\n",
       "      <td>52.437981</td>\n",
       "    </tr>\n",
       "    <tr>\n",
       "      <th>8</th>\n",
       "      <td>2023-01-09</td>\n",
       "      <td>83.459297</td>\n",
       "      <td>48.981980</td>\n",
       "      <td>11.738029</td>\n",
       "    </tr>\n",
       "    <tr>\n",
       "      <th>9</th>\n",
       "      <td>2023-01-10</td>\n",
       "      <td>-20.980527</td>\n",
       "      <td>-93.592702</td>\n",
       "      <td>15.984529</td>\n",
       "    </tr>\n",
       "  </tbody>\n",
       "</table>\n",
       "</div>"
      ],
      "text/plain": [
       "         Date   Latitude   Longitude  Precipitation\n",
       "2  2023-01-03  18.497408  -36.350884      36.491184\n",
       "3  2023-01-04   8.078973  145.455981      26.090450\n",
       "4  2023-01-05 -13.742136   68.409007      49.597030\n",
       "5  2023-01-06  26.260940   71.863940      68.173995\n",
       "6  2023-01-07 -11.234302  -62.020655      27.734027\n",
       "7  2023-01-08  70.519140   92.440311      52.437981\n",
       "8  2023-01-09  83.459297   48.981980      11.738029\n",
       "9  2023-01-10 -20.980527  -93.592702      15.984529"
      ]
     },
     "execution_count": 296,
     "metadata": {},
     "output_type": "execute_result"
    }
   ],
   "source": [
    "# extract rows, slicing the dataframe\n",
    "df3.loc[2:9]"
   ]
  },
  {
   "cell_type": "code",
   "execution_count": null,
   "metadata": {},
   "outputs": [],
   "source": [
    "# conditional extraction of data\n",
    "high_precipitation = df3[df3['Precipitation'] > 50]"
   ]
  },
  {
   "cell_type": "code",
   "execution_count": null,
   "metadata": {},
   "outputs": [
    {
     "data": {
      "text/html": [
       "<div>\n",
       "<style scoped>\n",
       "    .dataframe tbody tr th:only-of-type {\n",
       "        vertical-align: middle;\n",
       "    }\n",
       "\n",
       "    .dataframe tbody tr th {\n",
       "        vertical-align: top;\n",
       "    }\n",
       "\n",
       "    .dataframe thead th {\n",
       "        text-align: right;\n",
       "    }\n",
       "</style>\n",
       "<table border=\"1\" class=\"dataframe\">\n",
       "  <thead>\n",
       "    <tr style=\"text-align: right;\">\n",
       "      <th></th>\n",
       "      <th>Date</th>\n",
       "      <th>Latitude</th>\n",
       "      <th>Longitude</th>\n",
       "      <th>Precipitation</th>\n",
       "    </tr>\n",
       "  </thead>\n",
       "  <tbody>\n",
       "    <tr>\n",
       "      <th>0</th>\n",
       "      <td>2023-01-01</td>\n",
       "      <td>8.786431</td>\n",
       "      <td>-14.902574</td>\n",
       "      <td>50.106317</td>\n",
       "    </tr>\n",
       "    <tr>\n",
       "      <th>5</th>\n",
       "      <td>2023-01-06</td>\n",
       "      <td>26.260940</td>\n",
       "      <td>71.863940</td>\n",
       "      <td>68.173995</td>\n",
       "    </tr>\n",
       "    <tr>\n",
       "      <th>7</th>\n",
       "      <td>2023-01-08</td>\n",
       "      <td>70.519140</td>\n",
       "      <td>92.440311</td>\n",
       "      <td>52.437981</td>\n",
       "    </tr>\n",
       "    <tr>\n",
       "      <th>11</th>\n",
       "      <td>2023-01-12</td>\n",
       "      <td>5.201086</td>\n",
       "      <td>106.700931</td>\n",
       "      <td>97.073144</td>\n",
       "    </tr>\n",
       "    <tr>\n",
       "      <th>14</th>\n",
       "      <td>2023-01-15</td>\n",
       "      <td>-77.213510</td>\n",
       "      <td>32.754300</td>\n",
       "      <td>61.286675</td>\n",
       "    </tr>\n",
       "    <tr>\n",
       "      <th>...</th>\n",
       "      <td>...</td>\n",
       "      <td>...</td>\n",
       "      <td>...</td>\n",
       "      <td>...</td>\n",
       "    </tr>\n",
       "    <tr>\n",
       "      <th>357</th>\n",
       "      <td>2023-12-24</td>\n",
       "      <td>-66.805098</td>\n",
       "      <td>-169.577082</td>\n",
       "      <td>70.085565</td>\n",
       "    </tr>\n",
       "    <tr>\n",
       "      <th>358</th>\n",
       "      <td>2023-12-25</td>\n",
       "      <td>-19.318378</td>\n",
       "      <td>142.448865</td>\n",
       "      <td>91.328434</td>\n",
       "    </tr>\n",
       "    <tr>\n",
       "      <th>359</th>\n",
       "      <td>2023-12-26</td>\n",
       "      <td>82.153030</td>\n",
       "      <td>-38.675236</td>\n",
       "      <td>52.457707</td>\n",
       "    </tr>\n",
       "    <tr>\n",
       "      <th>362</th>\n",
       "      <td>2023-12-29</td>\n",
       "      <td>7.885071</td>\n",
       "      <td>175.445553</td>\n",
       "      <td>75.490110</td>\n",
       "    </tr>\n",
       "    <tr>\n",
       "      <th>363</th>\n",
       "      <td>2023-12-30</td>\n",
       "      <td>-7.755944</td>\n",
       "      <td>93.341683</td>\n",
       "      <td>88.502185</td>\n",
       "    </tr>\n",
       "  </tbody>\n",
       "</table>\n",
       "<p>170 rows × 4 columns</p>\n",
       "</div>"
      ],
      "text/plain": [
       "           Date   Latitude   Longitude  Precipitation\n",
       "0    2023-01-01   8.786431  -14.902574      50.106317\n",
       "5    2023-01-06  26.260940   71.863940      68.173995\n",
       "7    2023-01-08  70.519140   92.440311      52.437981\n",
       "11   2023-01-12   5.201086  106.700931      97.073144\n",
       "14   2023-01-15 -77.213510   32.754300      61.286675\n",
       "..          ...        ...         ...            ...\n",
       "357  2023-12-24 -66.805098 -169.577082      70.085565\n",
       "358  2023-12-25 -19.318378  142.448865      91.328434\n",
       "359  2023-12-26  82.153030  -38.675236      52.457707\n",
       "362  2023-12-29   7.885071  175.445553      75.490110\n",
       "363  2023-12-30  -7.755944   93.341683      88.502185\n",
       "\n",
       "[170 rows x 4 columns]"
      ]
     },
     "execution_count": 298,
     "metadata": {},
     "output_type": "execute_result"
    }
   ],
   "source": [
    "high_precipitation"
   ]
  },
  {
   "cell_type": "code",
   "execution_count": 49,
   "metadata": {},
   "outputs": [],
   "source": [
    "# Handling and cleaning data, first define a bad data\n",
    "data = {\n",
    "    'A': [1, 2, 0, 4, np.inf],\n",
    "    'B': [5, np.nan, np.nan, 8, 10],\n",
    "    'C': [np.inf, 1, 2, np.nan, 5]\n",
    "}"
   ]
  },
  {
   "cell_type": "code",
   "execution_count": 50,
   "metadata": {},
   "outputs": [
    {
     "data": {
      "text/html": [
       "<div>\n",
       "<style scoped>\n",
       "    .dataframe tbody tr th:only-of-type {\n",
       "        vertical-align: middle;\n",
       "    }\n",
       "\n",
       "    .dataframe tbody tr th {\n",
       "        vertical-align: top;\n",
       "    }\n",
       "\n",
       "    .dataframe thead th {\n",
       "        text-align: right;\n",
       "    }\n",
       "</style>\n",
       "<table border=\"1\" class=\"dataframe\">\n",
       "  <thead>\n",
       "    <tr style=\"text-align: right;\">\n",
       "      <th></th>\n",
       "      <th>A</th>\n",
       "      <th>B</th>\n",
       "      <th>C</th>\n",
       "    </tr>\n",
       "  </thead>\n",
       "  <tbody>\n",
       "    <tr>\n",
       "      <th>0</th>\n",
       "      <td>1.0</td>\n",
       "      <td>5.0</td>\n",
       "      <td>inf</td>\n",
       "    </tr>\n",
       "    <tr>\n",
       "      <th>1</th>\n",
       "      <td>2.0</td>\n",
       "      <td>NaN</td>\n",
       "      <td>1.0</td>\n",
       "    </tr>\n",
       "    <tr>\n",
       "      <th>2</th>\n",
       "      <td>0.0</td>\n",
       "      <td>NaN</td>\n",
       "      <td>2.0</td>\n",
       "    </tr>\n",
       "    <tr>\n",
       "      <th>3</th>\n",
       "      <td>4.0</td>\n",
       "      <td>8.0</td>\n",
       "      <td>NaN</td>\n",
       "    </tr>\n",
       "    <tr>\n",
       "      <th>4</th>\n",
       "      <td>inf</td>\n",
       "      <td>10.0</td>\n",
       "      <td>5.0</td>\n",
       "    </tr>\n",
       "  </tbody>\n",
       "</table>\n",
       "</div>"
      ],
      "text/plain": [
       "     A     B    C\n",
       "0  1.0   5.0  inf\n",
       "1  2.0   NaN  1.0\n",
       "2  0.0   NaN  2.0\n",
       "3  4.0   8.0  NaN\n",
       "4  inf  10.0  5.0"
      ]
     },
     "execution_count": 50,
     "metadata": {},
     "output_type": "execute_result"
    }
   ],
   "source": [
    "df5 = pd.DataFrame(data)\n",
    "df5"
   ]
  },
  {
   "cell_type": "code",
   "execution_count": 51,
   "metadata": {},
   "outputs": [
    {
     "data": {
      "text/plain": [
       "A    0\n",
       "B    2\n",
       "C    1\n",
       "dtype: int64"
      ]
     },
     "execution_count": 51,
     "metadata": {},
     "output_type": "execute_result"
    }
   ],
   "source": [
    "# check for NaN, .sum() will tell you how many, try also by removing .sum()\n",
    "df5.isna().sum()"
   ]
  },
  {
   "cell_type": "code",
   "execution_count": 52,
   "metadata": {},
   "outputs": [
    {
     "name": "stderr",
     "output_type": "stream",
     "text": [
      "C:\\Users\\vvagh\\AppData\\Local\\Temp\\ipykernel_8252\\2515071919.py:2: FutureWarning: DataFrame.applymap has been deprecated. Use DataFrame.map instead.\n",
      "  df5.applymap(np.isinf).sum()\n"
     ]
    },
    {
     "data": {
      "text/plain": [
       "A    1\n",
       "B    0\n",
       "C    1\n",
       "dtype: int64"
      ]
     },
     "execution_count": 52,
     "metadata": {},
     "output_type": "execute_result"
    }
   ],
   "source": [
    "# check for infinity values\n",
    "df5.applymap(np.isinf).sum()"
   ]
  },
  {
   "cell_type": "code",
   "execution_count": 53,
   "metadata": {},
   "outputs": [],
   "source": [
    "# 1) We can Replace infinity with Nan\n",
    "df5.replace([np.inf, -np.inf], np.nan, inplace=True)"
   ]
  },
  {
   "cell_type": "code",
   "execution_count": 54,
   "metadata": {},
   "outputs": [
    {
     "data": {
      "text/html": [
       "<div>\n",
       "<style scoped>\n",
       "    .dataframe tbody tr th:only-of-type {\n",
       "        vertical-align: middle;\n",
       "    }\n",
       "\n",
       "    .dataframe tbody tr th {\n",
       "        vertical-align: top;\n",
       "    }\n",
       "\n",
       "    .dataframe thead th {\n",
       "        text-align: right;\n",
       "    }\n",
       "</style>\n",
       "<table border=\"1\" class=\"dataframe\">\n",
       "  <thead>\n",
       "    <tr style=\"text-align: right;\">\n",
       "      <th></th>\n",
       "      <th>A</th>\n",
       "      <th>B</th>\n",
       "      <th>C</th>\n",
       "    </tr>\n",
       "  </thead>\n",
       "  <tbody>\n",
       "    <tr>\n",
       "      <th>0</th>\n",
       "      <td>1.0</td>\n",
       "      <td>5.0</td>\n",
       "      <td>NaN</td>\n",
       "    </tr>\n",
       "    <tr>\n",
       "      <th>1</th>\n",
       "      <td>2.0</td>\n",
       "      <td>NaN</td>\n",
       "      <td>1.0</td>\n",
       "    </tr>\n",
       "    <tr>\n",
       "      <th>2</th>\n",
       "      <td>0.0</td>\n",
       "      <td>NaN</td>\n",
       "      <td>2.0</td>\n",
       "    </tr>\n",
       "    <tr>\n",
       "      <th>3</th>\n",
       "      <td>4.0</td>\n",
       "      <td>8.0</td>\n",
       "      <td>NaN</td>\n",
       "    </tr>\n",
       "    <tr>\n",
       "      <th>4</th>\n",
       "      <td>NaN</td>\n",
       "      <td>10.0</td>\n",
       "      <td>5.0</td>\n",
       "    </tr>\n",
       "  </tbody>\n",
       "</table>\n",
       "</div>"
      ],
      "text/plain": [
       "     A     B    C\n",
       "0  1.0   5.0  NaN\n",
       "1  2.0   NaN  1.0\n",
       "2  0.0   NaN  2.0\n",
       "3  4.0   8.0  NaN\n",
       "4  NaN  10.0  5.0"
      ]
     },
     "execution_count": 54,
     "metadata": {},
     "output_type": "execute_result"
    }
   ],
   "source": [
    "df5"
   ]
  },
  {
   "cell_type": "code",
   "execution_count": 55,
   "metadata": {},
   "outputs": [],
   "source": [
    "# cleaning, we can drop all the rows that contains NaN\n",
    "df_cleaned = df5.dropna()"
   ]
  },
  {
   "cell_type": "code",
   "execution_count": 56,
   "metadata": {},
   "outputs": [
    {
     "data": {
      "text/html": [
       "<div>\n",
       "<style scoped>\n",
       "    .dataframe tbody tr th:only-of-type {\n",
       "        vertical-align: middle;\n",
       "    }\n",
       "\n",
       "    .dataframe tbody tr th {\n",
       "        vertical-align: top;\n",
       "    }\n",
       "\n",
       "    .dataframe thead th {\n",
       "        text-align: right;\n",
       "    }\n",
       "</style>\n",
       "<table border=\"1\" class=\"dataframe\">\n",
       "  <thead>\n",
       "    <tr style=\"text-align: right;\">\n",
       "      <th></th>\n",
       "      <th>A</th>\n",
       "      <th>B</th>\n",
       "      <th>C</th>\n",
       "    </tr>\n",
       "  </thead>\n",
       "  <tbody>\n",
       "  </tbody>\n",
       "</table>\n",
       "</div>"
      ],
      "text/plain": [
       "Empty DataFrame\n",
       "Columns: [A, B, C]\n",
       "Index: []"
      ]
     },
     "execution_count": 56,
     "metadata": {},
     "output_type": "execute_result"
    }
   ],
   "source": [
    "df_cleaned # since all row had NaN"
   ]
  },
  {
   "cell_type": "code",
   "execution_count": 57,
   "metadata": {},
   "outputs": [],
   "source": [
    "# filling zeros, we can fill all NaN with zeros\n",
    "df_filled = df5.fillna(0)"
   ]
  },
  {
   "cell_type": "code",
   "execution_count": 58,
   "metadata": {},
   "outputs": [
    {
     "data": {
      "text/html": [
       "<div>\n",
       "<style scoped>\n",
       "    .dataframe tbody tr th:only-of-type {\n",
       "        vertical-align: middle;\n",
       "    }\n",
       "\n",
       "    .dataframe tbody tr th {\n",
       "        vertical-align: top;\n",
       "    }\n",
       "\n",
       "    .dataframe thead th {\n",
       "        text-align: right;\n",
       "    }\n",
       "</style>\n",
       "<table border=\"1\" class=\"dataframe\">\n",
       "  <thead>\n",
       "    <tr style=\"text-align: right;\">\n",
       "      <th></th>\n",
       "      <th>A</th>\n",
       "      <th>B</th>\n",
       "      <th>C</th>\n",
       "    </tr>\n",
       "  </thead>\n",
       "  <tbody>\n",
       "    <tr>\n",
       "      <th>0</th>\n",
       "      <td>1.0</td>\n",
       "      <td>5.0</td>\n",
       "      <td>0.0</td>\n",
       "    </tr>\n",
       "    <tr>\n",
       "      <th>1</th>\n",
       "      <td>2.0</td>\n",
       "      <td>0.0</td>\n",
       "      <td>1.0</td>\n",
       "    </tr>\n",
       "    <tr>\n",
       "      <th>2</th>\n",
       "      <td>0.0</td>\n",
       "      <td>0.0</td>\n",
       "      <td>2.0</td>\n",
       "    </tr>\n",
       "    <tr>\n",
       "      <th>3</th>\n",
       "      <td>4.0</td>\n",
       "      <td>8.0</td>\n",
       "      <td>0.0</td>\n",
       "    </tr>\n",
       "    <tr>\n",
       "      <th>4</th>\n",
       "      <td>0.0</td>\n",
       "      <td>10.0</td>\n",
       "      <td>5.0</td>\n",
       "    </tr>\n",
       "  </tbody>\n",
       "</table>\n",
       "</div>"
      ],
      "text/plain": [
       "     A     B    C\n",
       "0  1.0   5.0  0.0\n",
       "1  2.0   0.0  1.0\n",
       "2  0.0   0.0  2.0\n",
       "3  4.0   8.0  0.0\n",
       "4  0.0  10.0  5.0"
      ]
     },
     "execution_count": 58,
     "metadata": {},
     "output_type": "execute_result"
    }
   ],
   "source": [
    "df_filled"
   ]
  },
  {
   "cell_type": "code",
   "execution_count": 59,
   "metadata": {},
   "outputs": [],
   "source": [
    "# filling mean, actually we can fill anything, mean in this case\n",
    "df_filled_mean = df5.fillna(df5.mean())"
   ]
  },
  {
   "cell_type": "code",
   "execution_count": 60,
   "metadata": {},
   "outputs": [
    {
     "data": {
      "text/html": [
       "<div>\n",
       "<style scoped>\n",
       "    .dataframe tbody tr th:only-of-type {\n",
       "        vertical-align: middle;\n",
       "    }\n",
       "\n",
       "    .dataframe tbody tr th {\n",
       "        vertical-align: top;\n",
       "    }\n",
       "\n",
       "    .dataframe thead th {\n",
       "        text-align: right;\n",
       "    }\n",
       "</style>\n",
       "<table border=\"1\" class=\"dataframe\">\n",
       "  <thead>\n",
       "    <tr style=\"text-align: right;\">\n",
       "      <th></th>\n",
       "      <th>A</th>\n",
       "      <th>B</th>\n",
       "      <th>C</th>\n",
       "    </tr>\n",
       "  </thead>\n",
       "  <tbody>\n",
       "    <tr>\n",
       "      <th>0</th>\n",
       "      <td>1.00</td>\n",
       "      <td>5.000000</td>\n",
       "      <td>2.666667</td>\n",
       "    </tr>\n",
       "    <tr>\n",
       "      <th>1</th>\n",
       "      <td>2.00</td>\n",
       "      <td>7.666667</td>\n",
       "      <td>1.000000</td>\n",
       "    </tr>\n",
       "    <tr>\n",
       "      <th>2</th>\n",
       "      <td>0.00</td>\n",
       "      <td>7.666667</td>\n",
       "      <td>2.000000</td>\n",
       "    </tr>\n",
       "    <tr>\n",
       "      <th>3</th>\n",
       "      <td>4.00</td>\n",
       "      <td>8.000000</td>\n",
       "      <td>2.666667</td>\n",
       "    </tr>\n",
       "    <tr>\n",
       "      <th>4</th>\n",
       "      <td>1.75</td>\n",
       "      <td>10.000000</td>\n",
       "      <td>5.000000</td>\n",
       "    </tr>\n",
       "  </tbody>\n",
       "</table>\n",
       "</div>"
      ],
      "text/plain": [
       "      A          B         C\n",
       "0  1.00   5.000000  2.666667\n",
       "1  2.00   7.666667  1.000000\n",
       "2  0.00   7.666667  2.000000\n",
       "3  4.00   8.000000  2.666667\n",
       "4  1.75  10.000000  5.000000"
      ]
     },
     "execution_count": 60,
     "metadata": {},
     "output_type": "execute_result"
    }
   ],
   "source": [
    "df_filled_mean"
   ]
  },
  {
   "cell_type": "code",
   "execution_count": null,
   "metadata": {},
   "outputs": [],
   "source": []
  }
 ],
 "metadata": {
  "kernelspec": {
   "display_name": "Python 3",
   "language": "python",
   "name": "python3"
  },
  "language_info": {
   "codemirror_mode": {
    "name": "ipython",
    "version": 3
   },
   "file_extension": ".py",
   "mimetype": "text/x-python",
   "name": "python",
   "nbconvert_exporter": "python",
   "pygments_lexer": "ipython3",
   "version": "3.12.1"
  }
 },
 "nbformat": 4,
 "nbformat_minor": 2
}
