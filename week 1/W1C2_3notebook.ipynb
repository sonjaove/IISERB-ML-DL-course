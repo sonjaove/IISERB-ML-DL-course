{
 "cells": [
  {
   "cell_type": "markdown",
   "metadata": {},
   "source": [
    "# Control Flow in python"
   ]
  },
  {
   "cell_type": "markdown",
   "metadata": {},
   "source": [
    "Indentation is important in Python!"
   ]
  },
  {
   "cell_type": "code",
   "execution_count": 3,
   "metadata": {},
   "outputs": [
    {
     "name": "stdout",
     "output_type": "stream",
     "text": [
      "a is lesser than b\n"
     ]
    }
   ],
   "source": [
    "# Indentation is important in python!\n",
    "a = 7\n",
    "b = 9\n",
    "if a > b:\n",
    "    print('a is greater than b')\n",
    "else:\n",
    "    print('a is lesser than b')"
   ]
  },
  {
   "cell_type": "code",
   "execution_count": 8,
   "metadata": {},
   "outputs": [
    {
     "name": "stdout",
     "output_type": "stream",
     "text": [
      "*\n",
      "**\n",
      "***\n",
      "****\n",
      "*****\n"
     ]
    }
   ],
   "source": [
    "height = 5\n",
    "for i in range(1, height + 1):\n",
    "    for j in range(i):\n",
    "        print('*', end='')\n",
    "    print() # By shifting the position of this print, the output patterns will change, as it will go inside other loop or will exit loop"
   ]
  },
  {
   "cell_type": "markdown",
   "metadata": {},
   "source": [
    "Conitional Statements: 'if', 'elif' and 'else'"
   ]
  },
  {
   "cell_type": "code",
   "execution_count": 13,
   "metadata": {},
   "outputs": [
    {
     "name": "stdout",
     "output_type": "stream",
     "text": [
      "water level is within range\n"
     ]
    }
   ],
   "source": [
    "# a simple example, to demonstrate if, elif and else\n",
    "water_level = 2.0\n",
    "if water_level > 3.0:\n",
    "    print('warning: High water level!')\n",
    "elif water_level < 1.5:\n",
    "    print(\"Älert: Low water level!\")\n",
    "else:\n",
    "    print('water level is within range')"
   ]
  },
  {
   "cell_type": "markdown",
   "metadata": {},
   "source": [
    "Nested conditional statements"
   ]
  },
  {
   "cell_type": "code",
   "execution_count": 21,
   "metadata": {},
   "outputs": [
    {
     "name": "stdout",
     "output_type": "stream",
     "text": [
      "water is not safe for drinking\n"
     ]
    }
   ],
   "source": [
    "# nested conditional statement, you can change the value of turbidity and pH to change conditions\n",
    "turbidity = 9.0\n",
    "pH = 6.7\n",
    "if pH >= 6.5 and pH <= 8.5:\n",
    "    if turbidity <= 8.5:\n",
    "        print('water is safe for drinking')\n",
    "    else:\n",
    "        print('water is not safe for drinking')\n",
    "else:\n",
    "    print(\"water is not safe for drinking: ph\")"
   ]
  },
  {
   "cell_type": "markdown",
   "metadata": {},
   "source": [
    "Loops: 'for' and 'while'"
   ]
  },
  {
   "cell_type": "code",
   "execution_count": 108,
   "metadata": {},
   "outputs": [
    {
     "name": "stdout",
     "output_type": "stream",
     "text": [
      "1\n",
      "2\n",
      "3\n",
      "4\n",
      "5\n"
     ]
    }
   ],
   "source": [
    "# basic structure of for loop\n",
    "for k in [1, 2, 3, 4, 5]:\n",
    "    print(k)"
   ]
  },
  {
   "cell_type": "code",
   "execution_count": 109,
   "metadata": {},
   "outputs": [
    {
     "name": "stdout",
     "output_type": "stream",
     "text": [
      "name\n",
      "name\n",
      "name\n",
      "name\n",
      "name\n"
     ]
    }
   ],
   "source": [
    "# you can do any thing inside the loop\n",
    "for k in [1, 2, 3, 4, 5]:\n",
    "    print('name')"
   ]
  },
  {
   "cell_type": "code",
   "execution_count": 27,
   "metadata": {},
   "outputs": [
    {
     "name": "stdout",
     "output_type": "stream",
     "text": [
      "b: 1\n",
      "1\n",
      "b: 2\n",
      "3\n",
      "b: 3\n",
      "6\n",
      "b: 4\n",
      "10\n",
      "b: 5\n",
      "15\n",
      "b: 6\n",
      "21\n"
     ]
    },
    {
     "data": {
      "text/plain": [
       "21"
      ]
     },
     "execution_count": 27,
     "metadata": {},
     "output_type": "execute_result"
    }
   ],
   "source": [
    "# how update a variable by accumulation using loop\n",
    "a = 0\n",
    "for b in [1, 2, 3, 4, 5, 6]:\n",
    "    print('b:', b)\n",
    "    a += b\n",
    "    print(a)\n",
    "a\n"
   ]
  },
  {
   "cell_type": "code",
   "execution_count": 32,
   "metadata": {},
   "outputs": [],
   "source": [
    "# how to update alist using append\n",
    "h = [0]\n",
    "for j in [1, 2, 3, 4, 5, 6]:\n",
    "    h.append(j+1)"
   ]
  },
  {
   "cell_type": "code",
   "execution_count": 33,
   "metadata": {},
   "outputs": [
    {
     "data": {
      "text/plain": [
       "[0, 2, 3, 4, 5, 6, 7]"
      ]
     },
     "execution_count": 33,
     "metadata": {},
     "output_type": "execute_result"
    }
   ],
   "source": [
    "h"
   ]
  },
  {
   "cell_type": "markdown",
   "metadata": {},
   "source": [
    "Nested loops"
   ]
  },
  {
   "cell_type": "code",
   "execution_count": 34,
   "metadata": {},
   "outputs": [],
   "source": [
    "# here i have created condition inside loop to have more control over updation of the list\n",
    "h = []\n",
    "for j in [1, 2, 3, 4, 5, 6]:\n",
    "    if j < 4:\n",
    "        h.append(j)"
   ]
  },
  {
   "cell_type": "code",
   "execution_count": 35,
   "metadata": {},
   "outputs": [
    {
     "data": {
      "text/plain": [
       "[1, 2, 3]"
      ]
     },
     "execution_count": 35,
     "metadata": {},
     "output_type": "execute_result"
    }
   ],
   "source": [
    "h"
   ]
  },
  {
   "cell_type": "code",
   "execution_count": 107,
   "metadata": {},
   "outputs": [
    {
     "name": "stdout",
     "output_type": "stream",
     "text": [
      "1 * 1 = 1\t1 * 2 = 2\t1 * 3 = 3\t1 * 4 = 4\t1 * 5 = 5\t\n",
      "2 * 1 = 2\t2 * 2 = 4\t2 * 3 = 6\t2 * 4 = 8\t2 * 5 = 10\t\n",
      "3 * 1 = 3\t3 * 2 = 6\t3 * 3 = 9\t3 * 4 = 12\t3 * 5 = 15\t\n",
      "4 * 1 = 4\t4 * 2 = 8\t4 * 3 = 12\t4 * 4 = 16\t4 * 5 = 20\t\n",
      "5 * 1 = 5\t5 * 2 = 10\t5 * 3 = 15\t5 * 4 = 20\t5 * 5 = 25\t\n"
     ]
    }
   ],
   "source": [
    "for i in range(1, 6):\n",
    "    for j in range(1, 6):  # to create steps you can do range(1, 6, step_size), let say step_size = 2\n",
    "        print(f\"{i} * {j} = {i*j}\", end= '\\t') # print(f\"A + B = {C}\"), this is called formating while printing, you can refer to github repo. i shared\n",
    "    print()"
   ]
  },
  {
   "cell_type": "markdown",
   "metadata": {},
   "source": [
    "A practical example"
   ]
  },
  {
   "cell_type": "code",
   "execution_count": 110,
   "metadata": {},
   "outputs": [
    {
     "name": "stdout",
     "output_type": "stream",
     "text": [
      "Average daily rainfall: 19.00 mm\n"
     ]
    }
   ],
   "source": [
    "rainfall_measurements = [20, 15.5, 22, 19, 18.5]\n",
    "total_rainfall = 0\n",
    "for rainfall in rainfall_measurements:\n",
    "    total_rainfall += rainfall\n",
    "average_rainfall = total_rainfall / len(rainfall_measurements)\n",
    "print(f\"Average daily rainfall: {average_rainfall:.2f} mm\")"
   ]
  },
  {
   "cell_type": "code",
   "execution_count": 111,
   "metadata": {},
   "outputs": [
    {
     "name": "stdout",
     "output_type": "stream",
     "text": [
      "Rainfall of 20 mm exceeds the daily average!\n",
      "Rainfall of 22 mm exceeds the daily average!\n"
     ]
    }
   ],
   "source": [
    "for rainfall in rainfall_measurements:\n",
    "    if rainfall > average_rainfall:\n",
    "        print(f\"Rainfall of {rainfall} mm exceeds the daily average!\")"
   ]
  },
  {
   "cell_type": "code",
   "execution_count": 46,
   "metadata": {},
   "outputs": [
    {
     "name": "stdout",
     "output_type": "stream",
     "text": [
      "***************\n"
     ]
    }
   ],
   "source": [
    "# observe changing pattern by shifting last print statement, this shows how nested loops work\n",
    "height = 5\n",
    "for i in range(1, height + 1):\n",
    "    for j in range(i):\n",
    "        print(\"*\", end=\"\")\n",
    "print()"
   ]
  },
  {
   "cell_type": "code",
   "execution_count": 47,
   "metadata": {},
   "outputs": [
    {
     "name": "stdout",
     "output_type": "stream",
     "text": [
      "10\n",
      "9\n",
      "8\n",
      "7\n",
      "6\n",
      "5\n",
      "4\n",
      "3\n",
      "2\n",
      "1\n"
     ]
    }
   ],
   "source": [
    "# basic structure of while loops, it needs a condition, and the loop will run untill the condition is true\n",
    "count = 10\n",
    "while count > 0:\n",
    "    print(count)\n",
    "    count -= 1"
   ]
  },
  {
   "cell_type": "code",
   "execution_count": 112,
   "metadata": {},
   "outputs": [
    {
     "name": "stdout",
     "output_type": "stream",
     "text": [
      "1 * 1 = 1\t1 * 2 = 2\t1 * 3 = 3\t1 * 4 = 4\t1 * 5 = 5\t\n",
      "2 * 1 = 2\t2 * 2 = 4\t2 * 3 = 6\t2 * 4 = 8\t2 * 5 = 10\t\n",
      "3 * 1 = 3\t3 * 2 = 6\t3 * 3 = 9\t3 * 4 = 12\t3 * 5 = 15\t\n",
      "4 * 1 = 4\t4 * 2 = 8\t4 * 3 = 12\t4 * 4 = 16\t4 * 5 = 20\t\n",
      "5 * 1 = 5\t5 * 2 = 10\t5 * 3 = 15\t5 * 4 = 20\t5 * 5 = 25\t\n"
     ]
    }
   ],
   "source": [
    "# you can also create table using while loop, observe the difference\n",
    "i = 1\n",
    "while i <= 5:\n",
    "    j = 1\n",
    "    while j <= 5:\n",
    "        print(f\"{i} * {j} = {i*j}\", end='\\t')\n",
    "        j += 1\n",
    "    print()\n",
    "    i += 1"
   ]
  },
  {
   "cell_type": "markdown",
   "metadata": {},
   "source": [
    "creating your own custom grid"
   ]
  },
  {
   "cell_type": "code",
   "execution_count": 48,
   "metadata": {},
   "outputs": [],
   "source": [
    "# first create all x values (lon values) using while loop, within a range e.g. 10 to 20 with a spacing (resolution) of 0.25\n",
    "minx = 10\n",
    "max_x = 20\n",
    "\n",
    "x_values = []\n",
    "\n",
    "current_x = minx\n",
    "increment = 0.25\n",
    "\n",
    "while current_x <= max_x:\n",
    "    x_values.append(current_x)\n",
    "    current_x += increment"
   ]
  },
  {
   "cell_type": "code",
   "execution_count": 50,
   "metadata": {},
   "outputs": [
    {
     "data": {
      "text/plain": [
       "41"
      ]
     },
     "execution_count": 50,
     "metadata": {},
     "output_type": "execute_result"
    }
   ],
   "source": [
    "len(x_values)"
   ]
  },
  {
   "cell_type": "code",
   "execution_count": 57,
   "metadata": {},
   "outputs": [
    {
     "data": {
      "text/plain": [
       "61"
      ]
     },
     "execution_count": 57,
     "metadata": {},
     "output_type": "execute_result"
    }
   ],
   "source": [
    "# similarily create y values within a range\n",
    "miny = 40\n",
    "max_y = 55\n",
    "\n",
    "y_values = []\n",
    "current_y = miny\n",
    "increment = 0.25\n",
    "\n",
    "while current_y <= max_y:\n",
    "    y_values.append(current_y)\n",
    "    current_y += increment\n",
    "\n",
    "len(y_values)\n",
    "    "
   ]
  },
  {
   "cell_type": "code",
   "execution_count": 105,
   "metadata": {},
   "outputs": [
    {
     "data": {
      "image/png": "[encoded data removed]",
      "text/plain": [
       "<Figure size 800x600 with 1 Axes>"
      ]
     },
     "metadata": {},
     "output_type": "display_data"
    }
   ],
   "source": [
    "import numpy as np\n",
    "import matplotlib.pyplot as plt\n",
    "# we have 41 x values and 61 y values, to create all grid points (41 * 61), we will use meshgrid in numpy\n",
    "X, Y = np.meshgrid(x_values, y_values)\n",
    "\n",
    "# plot to visualize\n",
    "plt.figure(figsize=(8, 6))\n",
    "plt.plot(X, Y, marker='.', color='b', linestyle='none')  # Plot grid points\n",
    "plt.xlabel('X-axis')\n",
    "plt.ylabel('Y-axis')\n",
    "plt.title('Meshgrid Plot')\n",
    "plt.grid(True)\n",
    "plt.show()"
   ]
  },
  {
   "cell_type": "code",
   "execution_count": null,
   "metadata": {},
   "outputs": [],
   "source": []
  },
  {
   "cell_type": "markdown",
   "metadata": {},
   "source": [
    "Break, Pass and Continue"
   ]
  },
  {
   "cell_type": "code",
   "execution_count": 51,
   "metadata": {},
   "outputs": [
    {
     "name": "stdout",
     "output_type": "stream",
     "text": [
      "current number: 1\n",
      "current number: 2\n",
      "current number: 9\n",
      "current number: 0\n",
      "found 3, breaking loop\n"
     ]
    }
   ],
   "source": [
    "# Break\n",
    "numbers = [1, 2, 3, 4, 5, 6]\n",
    "for x in [1, 2, 9, 0,3, 5,8]:\n",
    "    if x == 3:\n",
    "        print('found 3, breaking loop')\n",
    "        break\n",
    "    print('current number:', x)"
   ]
  },
  {
   "cell_type": "code",
   "execution_count": 49,
   "metadata": {},
   "outputs": [
    {
     "name": "stdout",
     "output_type": "stream",
     "text": [
      "current value: 1\n",
      "current value: 2\n",
      "current value: 9\n",
      "current value: 0\n",
      "3\n",
      "current value: 5\n",
      "current value: 8\n",
      "current value: 10\n",
      "current value: 23\n"
     ]
    }
   ],
   "source": [
    "# pass\n",
    "y = 1 + 2\n",
    "for x in [1, 2, 9, 0,3, 5,8, 10, 23]:\n",
    "    if x == 3:\n",
    "        \n",
    "        pass # for place\n",
    "        print(y)\n",
    "    else:\n",
    "        print('current value:', x)"
   ]
  },
  {
   "cell_type": "code",
   "execution_count": 50,
   "metadata": {},
   "outputs": [
    {
     "name": "stdout",
     "output_type": "stream",
     "text": [
      "current number: 1\n",
      "current number: 2\n",
      "current number: 9\n",
      "current number: 0\n",
      "current number: 5\n",
      "current number: 8\n",
      "current number: 10\n",
      "current number: 23\n"
     ]
    }
   ],
   "source": [
    "# continue\n",
    "for x in [1, 2, 9, 0,3, 5,8, 10, 23]:\n",
    "    if x == 3:\n",
    "        \n",
    "        continue\n",
    "        print(y)\n",
    "    print('current number:', x)"
   ]
  },
  {
   "cell_type": "markdown",
   "metadata": {},
   "source": [
    "An example"
   ]
  },
  {
   "cell_type": "code",
   "execution_count": 57,
   "metadata": {},
   "outputs": [
    {
     "name": "stdout",
     "output_type": "stream",
     "text": [
      "warning: critical water level at 5.1\n"
     ]
    }
   ],
   "source": [
    "water_levels = [4.5, 4.7, 4.9, 5.1, 5.2, 5.5]\n",
    "i = 0\n",
    "while i < len(water_levels):\n",
    "    if water_levels[i] > 5.0:\n",
    "        print(f\"warning: critical water level at {water_levels[i]}\")\n",
    "        break\n",
    "    i += 1"
   ]
  },
  {
   "cell_type": "markdown",
   "metadata": {},
   "source": [
    "# NumPy"
   ]
  },
  {
   "cell_type": "code",
   "execution_count": 2,
   "metadata": {},
   "outputs": [],
   "source": [
    "import numpy as np"
   ]
  },
  {
   "cell_type": "code",
   "execution_count": 61,
   "metadata": {},
   "outputs": [],
   "source": [
    "randon3 = np.arange(10, 20.1, 0.25)"
   ]
  },
  {
   "cell_type": "code",
   "execution_count": 63,
   "metadata": {},
   "outputs": [
    {
     "data": {
      "text/plain": [
       "array([10.  , 10.25, 10.5 , 10.75, 11.  , 11.25, 11.5 , 11.75, 12.  ,\n",
       "       12.25, 12.5 , 12.75, 13.  , 13.25, 13.5 , 13.75, 14.  , 14.25,\n",
       "       14.5 , 14.75, 15.  , 15.25, 15.5 , 15.75, 16.  , 16.25, 16.5 ,\n",
       "       16.75, 17.  , 17.25, 17.5 , 17.75, 18.  , 18.25, 18.5 , 18.75,\n",
       "       19.  , 19.25, 19.5 , 19.75, 20.  ])"
      ]
     },
     "execution_count": 63,
     "metadata": {},
     "output_type": "execute_result"
    }
   ],
   "source": [
    "randon3"
   ]
  },
  {
   "cell_type": "code",
   "execution_count": 3,
   "metadata": {},
   "outputs": [],
   "source": [
    "# If you already have list you can convert it to numpy data structure\n",
    "list1 = [1, 2, 3, 4, 5, 6]\n",
    "numpy1 = np.array(list1, dtype=float) # use dtype to fix the datatype, by default it will automatically detect"
   ]
  },
  {
   "cell_type": "code",
   "execution_count": 4,
   "metadata": {},
   "outputs": [
    {
     "data": {
      "text/plain": [
       "(list, numpy.ndarray)"
      ]
     },
     "execution_count": 4,
     "metadata": {},
     "output_type": "execute_result"
    }
   ],
   "source": [
    "# numpy is a different data structure, you can see its type\n",
    "type(list1), type(numpy1)"
   ]
  },
  {
   "cell_type": "code",
   "execution_count": 5,
   "metadata": {},
   "outputs": [
    {
     "data": {
      "text/plain": [
       "array([1., 2., 3., 4., 5., 6.])"
      ]
     },
     "execution_count": 5,
     "metadata": {},
     "output_type": "execute_result"
    }
   ],
   "source": [
    "# by default it was int, but i specified it to be float while conversion\n",
    "numpy1"
   ]
  },
  {
   "cell_type": "code",
   "execution_count": 6,
   "metadata": {},
   "outputs": [
    {
     "data": {
      "text/plain": [
       "array([1, 2, 3])"
      ]
     },
     "execution_count": 6,
     "metadata": {},
     "output_type": "execute_result"
    }
   ],
   "source": [
    "# generate array, similar to writing list inside np.array([your_list])\n",
    "arr = np.array([1, 2.9, 3], dtype=int)\n",
    "arr"
   ]
  },
  {
   "cell_type": "code",
   "execution_count": 7,
   "metadata": {},
   "outputs": [
    {
     "data": {
      "text/plain": [
       "array([[0., 0., 0.],\n",
       "       [0., 0., 0.]])"
      ]
     },
     "execution_count": 7,
     "metadata": {},
     "output_type": "execute_result"
    }
   ],
   "source": [
    "# numpy have several inbuilt functions to create customized array\n",
    "# np.zeros to create an array of zeros, np.zeros((specify the size))\n",
    "zero1 = np.zeros((2, 3))\n",
    "zero1"
   ]
  },
  {
   "cell_type": "code",
   "execution_count": 8,
   "metadata": {},
   "outputs": [
    {
     "data": {
      "text/plain": [
       "array([[1., 1., 1.],\n",
       "       [1., 1., 1.],\n",
       "       [1., 1., 1.]])"
      ]
     },
     "execution_count": 8,
     "metadata": {},
     "output_type": "execute_result"
    }
   ],
   "source": [
    "# np.ones to create an array of ones, np.ones((specify the size))\n",
    "one1 = np.ones((3, 3))\n",
    "one1"
   ]
  },
  {
   "cell_type": "code",
   "execution_count": 9,
   "metadata": {},
   "outputs": [
    {
     "data": {
      "text/plain": [
       "array([ 0,  3,  6,  9, 12, 15, 18])"
      ]
     },
     "execution_count": 9,
     "metadata": {},
     "output_type": "execute_result"
    }
   ],
   "source": [
    "# arange fuction will create one dimensional array, by default step size is 1, but you can specify np.arange(start, end, step size #optional)\n",
    "arange1 = np.arange(0, 19, 3)\n",
    "arange1"
   ]
  },
  {
   "cell_type": "code",
   "execution_count": 10,
   "metadata": {},
   "outputs": [
    {
     "data": {
      "text/plain": [
       "array([0, 1, 2, 3, 4, 5, 6, 7, 8, 9])"
      ]
     },
     "execution_count": 10,
     "metadata": {},
     "output_type": "execute_result"
    }
   ],
   "source": [
    "arr2 = np.arange(0, 10)\n",
    "arr2"
   ]
  },
  {
   "cell_type": "code",
   "execution_count": 11,
   "metadata": {},
   "outputs": [
    {
     "data": {
      "text/plain": [
       "array([ 0. ,  5.5, 11. , 16.5, 22. ])"
      ]
     },
     "execution_count": 11,
     "metadata": {},
     "output_type": "execute_result"
    }
   ],
   "source": [
    "# linspace will create linearly spaced, desired number values within a fixed range, np.linspace(start, end, num values you want)\n",
    "linspace1 = np.linspace(0, 22, 5, endpoint=True, dtype=float)\n",
    "linspace1"
   ]
  },
  {
   "cell_type": "code",
   "execution_count": 73,
   "metadata": {},
   "outputs": [
    {
     "data": {
      "text/plain": [
       "array([[0.77132064, 0.02075195, 0.63364823],\n",
       "       [0.74880388, 0.49850701, 0.22479665]])"
      ]
     },
     "execution_count": 73,
     "metadata": {},
     "output_type": "execute_result"
    }
   ],
   "source": [
    "# np.random to generate a fixed size array with random values np.random.random((shape of array))\n",
    "np.random.seed(10) # if you will not use this line then python will create new random array every time you run this code, you can try by removing it\n",
    "random1 = np.random.random((2, 3))\n",
    "random1"
   ]
  },
  {
   "cell_type": "code",
   "execution_count": 189,
   "metadata": {},
   "outputs": [],
   "source": [
    "random2 = np.random.randint(2, 20, size=(10, 11)) # creating a grid of size (10, 11), with integer values within 2 to 20"
   ]
  },
  {
   "cell_type": "code",
   "execution_count": 190,
   "metadata": {},
   "outputs": [
    {
     "data": {
      "text/plain": [
       "array([[ 4, 18, 16, 16, 19, 13, 13,  4, 12, 11, 16],\n",
       "       [12,  2,  5,  9, 14, 18, 16,  2,  4, 18,  5],\n",
       "       [ 9, 16,  9, 15,  7, 16, 10,  6, 14,  8, 18],\n",
       "       [ 9,  6,  8,  9,  8, 13,  7,  5,  4,  6,  9],\n",
       "       [ 6, 14, 11,  7,  2, 12, 10, 17, 16,  6, 16],\n",
       "       [ 2, 16,  5, 17,  8,  9,  3, 13,  3, 15,  7],\n",
       "       [18,  4, 11, 14, 19, 18,  9, 19,  8, 12,  4],\n",
       "       [ 3, 12,  9, 12,  3, 13, 10,  7, 13, 19,  6],\n",
       "       [18, 17, 13,  3, 17,  2,  3, 14, 17,  2,  5],\n",
       "       [ 4,  3, 13, 14, 19,  6, 13,  2, 10,  2, 19]])"
      ]
     },
     "execution_count": 190,
     "metadata": {},
     "output_type": "execute_result"
    }
   ],
   "source": [
    "random2"
   ]
  },
  {
   "cell_type": "code",
   "execution_count": 191,
   "metadata": {},
   "outputs": [
    {
     "name": "stdout",
     "output_type": "stream",
     "text": [
      "Random Grid:\n",
      " [[[4.64741152 4.56601155 8.29962619 ... 5.57004776 5.57144897 9.2934628 ]\n",
      "  [7.51204639 8.73569069 6.69918524 ... 7.72831239 9.24481304 8.18418577]\n",
      "  [7.06667148 5.87117971 9.3225805  ... 4.20424561 5.23260361 4.2111709 ]\n",
      "  ...\n",
      "  [5.62314176 4.73281001 4.25484055 ... 5.48488196 7.26104949 4.54223513]\n",
      "  [6.78706603 5.06583396 5.26714935 ... 7.03213466 9.21647067 9.80952769]\n",
      "  [7.82482561 6.10411894 8.16072072 ... 7.70904712 8.73276966 8.86209127]]\n",
      "\n",
      " [[9.9546667  4.52653436 6.95882061 ... 9.39664719 6.37148177 9.25763199]\n",
      "  [4.1965269  5.88522446 8.36087109 ... 6.13677044 5.86728023 9.28079343]\n",
      "  [5.53177912 6.12076599 4.85700325 ... 4.80158536 9.37934328 4.40706692]\n",
      "  ...\n",
      "  [6.65120274 5.46773247 6.39506021 ... 7.99435008 4.43997347 7.96032845]\n",
      "  [9.58344934 4.44701481 6.49412937 ... 8.60550081 9.77922689 7.62997254]\n",
      "  [9.57459316 8.14261417 9.4533085  ... 4.26118817 9.88182627 7.99879657]]\n",
      "\n",
      " [[9.41087304 9.99449552 6.35180042 ... 5.00963538 6.65115774 4.51145882]\n",
      "  [9.19028655 4.28141591 6.28387637 ... 9.45186923 5.49790625 8.31795806]\n",
      "  [4.18170516 4.79111078 6.99683422 ... 7.37847573 9.49541667 9.35130094]\n",
      "  ...\n",
      "  [9.40095824 6.91732308 7.39904239 ... 4.63153207 4.25989612 5.92026712]\n",
      "  [6.38937545 4.56709386 7.29478597 ... 8.66528118 7.90200477 4.97148637]\n",
      "  [5.52015984 8.50144232 7.39693469 ... 7.45825391 8.03955584 6.91066878]]\n",
      "\n",
      " ...\n",
      "\n",
      " [[7.97967936 4.68265116 6.56889872 ... 4.10118274 5.82149251 9.3108331 ]\n",
      "  [4.32913618 5.50030777 9.24409317 ... 7.49051086 9.93510315 6.28862858]\n",
      "  [6.9816597  4.88003155 8.97687596 ... 6.67959588 8.68004057 9.80179598]\n",
      "  ...\n",
      "  [7.16185688 4.28103916 4.62617444 ... 7.64393725 4.07862527 8.23997347]\n",
      "  [9.5177977  4.28557725 6.37924319 ... 4.18536257 4.73541006 6.18838548]\n",
      "  [7.10022074 5.44767238 9.50532336 ... 5.00371996 7.77871738 6.04602575]]\n",
      "\n",
      " [[7.84366744 7.3879227  5.65080177 ... 6.36370742 7.10097612 6.31256091]\n",
      "  [4.34330271 7.1082126  6.07619697 ... 5.61585419 6.33921237 8.86002059]\n",
      "  [8.75237137 8.71591259 5.94725669 ... 9.03031589 7.05342142 9.04333786]\n",
      "  ...\n",
      "  [4.66543621 6.85054311 6.82553223 ... 6.41046992 5.76837695 8.4336701 ]\n",
      "  [8.17740905 9.08205118 8.74953422 ... 9.582489   8.2910065  5.75184759]\n",
      "  [5.5278365  4.67954787 8.1535825  ... 4.84342295 9.95077115 6.11260956]]\n",
      "\n",
      " [[5.19479065 9.03186882 4.47758312 ... 5.24809925 4.57624247 9.56143673]\n",
      "  [5.37839788 9.59934515 6.11752354 ... 9.6564047  8.97047514 4.05455057]\n",
      "  [9.34187208 5.24440489 5.48952299 ... 4.5534807  7.31480401 4.07467215]\n",
      "  ...\n",
      "  [7.29241175 6.20220489 8.87383354 ... 6.06899212 7.49110109 4.68719599]\n",
      "  [9.70147122 4.34441583 4.08638055 ... 5.65078725 9.01310743 8.58761249]\n",
      "  [9.07424907 7.28904384 7.47624934 ... 4.38113439 4.00571279 7.1416864 ]]]\n"
     ]
    }
   ],
   "source": [
    "# Generate random float values between 4 and 10 on a 10x10 grid\n",
    "random_grid = np.random.uniform(4, 10, size=(365*4, 10, 12)) # I have used .uniform command\n",
    "print(\"Random Grid:\\n\", random_grid)"
   ]
  },
  {
   "cell_type": "code",
   "execution_count": 193,
   "metadata": {},
   "outputs": [
    {
     "data": {
      "image/png": "[encoded data removed]",
      "text/plain": [
       "<Figure size 800x600 with 2 Axes>"
      ]
     },
     "metadata": {},
     "output_type": "display_data"
    }
   ],
   "source": [
    "import matplotlib.pyplot as plt\n",
    "# Plot the grid\n",
    "plt.figure(figsize=(8, 6))\n",
    "plt.imshow(random_grid[0, :, :], cmap='viridis', interpolation='nearest')\n",
    "plt.colorbar(label='Random Values')\n",
    "plt.title('Random Values on a 10x10 Grid')\n",
    "plt.xlabel('X-axis')\n",
    "plt.ylabel('Y-axis')\n",
    "plt.show()"
   ]
  },
  {
   "cell_type": "code",
   "execution_count": 92,
   "metadata": {},
   "outputs": [
    {
     "data": {
      "text/plain": [
       "array([4, 5, 6, 7])"
      ]
     },
     "execution_count": 92,
     "metadata": {},
     "output_type": "execute_result"
    }
   ],
   "source": [
    "# array operations, summing two matrix\n",
    "arr1 = np.array([1, 2, 3, 4])\n",
    "arr2 = np.array([5, 6, 7,8])\n",
    "resut1 = arr1 + 3\n",
    "resut1"
   ]
  },
  {
   "cell_type": "code",
   "execution_count": 98,
   "metadata": {},
   "outputs": [],
   "source": [
    "# 2 d array\n",
    "arr3 = np.array([[1, 2, 3, 4], [5, 6, 7, 8]])"
   ]
  },
  {
   "cell_type": "code",
   "execution_count": 99,
   "metadata": {},
   "outputs": [
    {
     "data": {
      "text/plain": [
       "array([[1, 2, 3, 4],\n",
       "       [5, 6, 7, 8]])"
      ]
     },
     "execution_count": 99,
     "metadata": {},
     "output_type": "execute_result"
    }
   ],
   "source": [
    "arr3"
   ]
  },
  {
   "cell_type": "code",
   "execution_count": 194,
   "metadata": {},
   "outputs": [
    {
     "data": {
      "text/plain": [
       "array([[1, 2, 3],\n",
       "       [4, 5, 6],\n",
       "       [7, 8, 9]])"
      ]
     },
     "execution_count": 194,
     "metadata": {},
     "output_type": "execute_result"
    }
   ],
   "source": [
    "# indexing in ndarray, 2d in our case\n",
    "arr4 = np.array([[1, 2, 3], [4,5,6], [7,8,9]])\n",
    "arr4"
   ]
  },
  {
   "cell_type": "code",
   "execution_count": 195,
   "metadata": {},
   "outputs": [
    {
     "data": {
      "text/plain": [
       "9"
      ]
     },
     "execution_count": 195,
     "metadata": {},
     "output_type": "execute_result"
    }
   ],
   "source": [
    "# accessing element\n",
    "arr4[2, 2] # keep in mind that python starts indexing from 0, not 1"
   ]
  },
  {
   "cell_type": "code",
   "execution_count": 196,
   "metadata": {},
   "outputs": [
    {
     "data": {
      "text/plain": [
       "array([1, 4, 7])"
      ]
     },
     "execution_count": 196,
     "metadata": {},
     "output_type": "execute_result"
    }
   ],
   "source": [
    "# first column\n",
    "arr4[:, 0]"
   ]
  },
  {
   "cell_type": "code",
   "execution_count": 197,
   "metadata": {},
   "outputs": [
    {
     "data": {
      "text/plain": [
       "array([1, 2, 3])"
      ]
     },
     "execution_count": 197,
     "metadata": {},
     "output_type": "execute_result"
    }
   ],
   "source": [
    "# first row\n",
    "arr4[0,:]"
   ]
  },
  {
   "cell_type": "code",
   "execution_count": 198,
   "metadata": {},
   "outputs": [
    {
     "data": {
      "text/plain": [
       "array([ 0,  1,  2,  3,  4,  5,  6,  7,  8,  9, 10, 11])"
      ]
     },
     "execution_count": 198,
     "metadata": {},
     "output_type": "execute_result"
    }
   ],
   "source": [
    "# reshaping\n",
    "arr5 = np.arange(12) # 1d array with 12 integers in range(0, 12) arranged\n",
    "arr5"
   ]
  },
  {
   "cell_type": "code",
   "execution_count": 119,
   "metadata": {},
   "outputs": [
    {
     "data": {
      "text/plain": [
       "(12,)"
      ]
     },
     "execution_count": 119,
     "metadata": {},
     "output_type": "execute_result"
    }
   ],
   "source": [
    "arr5.shape"
   ]
  },
  {
   "cell_type": "code",
   "execution_count": 199,
   "metadata": {},
   "outputs": [
    {
     "data": {
      "text/plain": [
       "(6, 2)"
      ]
     },
     "execution_count": 199,
     "metadata": {},
     "output_type": "execute_result"
    }
   ],
   "source": [
    "# we try to reshape (12, ) array to (6, 2) array\n",
    "arr6 = arr5.reshape((6,2))\n",
    "arr6.shape"
   ]
  },
  {
   "cell_type": "code",
   "execution_count": 200,
   "metadata": {},
   "outputs": [
    {
     "data": {
      "text/plain": [
       "(2, 2, 3)"
      ]
     },
     "execution_count": 200,
     "metadata": {},
     "output_type": "execute_result"
    }
   ],
   "source": [
    "# we try to reshape (6, 2) array to (2, 2, 3) array\n",
    "arr7 = arr6.reshape((2,2,3))\n",
    "arr7.shape"
   ]
  },
  {
   "cell_type": "code",
   "execution_count": 201,
   "metadata": {},
   "outputs": [],
   "source": [
    "# flattening, flattens (2, 2, 3) array to 1d array\n",
    "arr7\n",
    "arr8 = arr7.flatten()"
   ]
  },
  {
   "cell_type": "code",
   "execution_count": 202,
   "metadata": {},
   "outputs": [
    {
     "data": {
      "text/plain": [
       "array([ 0,  1,  2,  3,  4,  5,  6,  7,  8,  9, 10, 11])"
      ]
     },
     "execution_count": 202,
     "metadata": {},
     "output_type": "execute_result"
    }
   ],
   "source": [
    "arr8"
   ]
  },
  {
   "cell_type": "code",
   "execution_count": 203,
   "metadata": {},
   "outputs": [],
   "source": [
    "# meshgrid and column stack\n",
    "x = np.linspace(-5, 5, 5)\n",
    "y = np.linspace(-5, 5, 6)\n",
    "X, Y = np.meshgrid(x, y)"
   ]
  },
  {
   "cell_type": "code",
   "execution_count": 204,
   "metadata": {},
   "outputs": [
    {
     "data": {
      "text/plain": [
       "array([[-5. , -2.5,  0. ,  2.5,  5. ],\n",
       "       [-5. , -2.5,  0. ,  2.5,  5. ],\n",
       "       [-5. , -2.5,  0. ,  2.5,  5. ],\n",
       "       [-5. , -2.5,  0. ,  2.5,  5. ],\n",
       "       [-5. , -2.5,  0. ,  2.5,  5. ],\n",
       "       [-5. , -2.5,  0. ,  2.5,  5. ]])"
      ]
     },
     "execution_count": 204,
     "metadata": {},
     "output_type": "execute_result"
    }
   ],
   "source": [
    "X"
   ]
  },
  {
   "cell_type": "code",
   "execution_count": 205,
   "metadata": {},
   "outputs": [
    {
     "data": {
      "text/plain": [
       "array([[-5., -5., -5., -5., -5.],\n",
       "       [-3., -3., -3., -3., -3.],\n",
       "       [-1., -1., -1., -1., -1.],\n",
       "       [ 1.,  1.,  1.,  1.,  1.],\n",
       "       [ 3.,  3.,  3.,  3.,  3.],\n",
       "       [ 5.,  5.,  5.,  5.,  5.]])"
      ]
     },
     "execution_count": 205,
     "metadata": {},
     "output_type": "execute_result"
    }
   ],
   "source": [
    "Y"
   ]
  },
  {
   "cell_type": "code",
   "execution_count": 206,
   "metadata": {},
   "outputs": [],
   "source": [
    "point1 = (X[0, 0], Y[0, 0])"
   ]
  },
  {
   "cell_type": "code",
   "execution_count": 207,
   "metadata": {},
   "outputs": [
    {
     "data": {
      "text/plain": [
       "(-5.0, -5.0)"
      ]
     },
     "execution_count": 207,
     "metadata": {},
     "output_type": "execute_result"
    }
   ],
   "source": [
    "point1"
   ]
  },
  {
   "cell_type": "code",
   "execution_count": 208,
   "metadata": {},
   "outputs": [],
   "source": [
    "X_flatten = X.flatten()\n",
    "Y_flatten = Y.flatten()\n",
    "stacked_ponts = np.column_stack((X_flatten, Y_flatten))"
   ]
  },
  {
   "cell_type": "code",
   "execution_count": 209,
   "metadata": {},
   "outputs": [
    {
     "data": {
      "text/plain": [
       "array([[-5. , -5. ],\n",
       "       [-2.5, -5. ],\n",
       "       [ 0. , -5. ],\n",
       "       [ 2.5, -5. ],\n",
       "       [ 5. , -5. ],\n",
       "       [-5. , -3. ],\n",
       "       [-2.5, -3. ],\n",
       "       [ 0. , -3. ],\n",
       "       [ 2.5, -3. ],\n",
       "       [ 5. , -3. ],\n",
       "       [-5. , -1. ],\n",
       "       [-2.5, -1. ],\n",
       "       [ 0. , -1. ],\n",
       "       [ 2.5, -1. ],\n",
       "       [ 5. , -1. ],\n",
       "       [-5. ,  1. ],\n",
       "       [-2.5,  1. ],\n",
       "       [ 0. ,  1. ],\n",
       "       [ 2.5,  1. ],\n",
       "       [ 5. ,  1. ],\n",
       "       [-5. ,  3. ],\n",
       "       [-2.5,  3. ],\n",
       "       [ 0. ,  3. ],\n",
       "       [ 2.5,  3. ],\n",
       "       [ 5. ,  3. ],\n",
       "       [-5. ,  5. ],\n",
       "       [-2.5,  5. ],\n",
       "       [ 0. ,  5. ],\n",
       "       [ 2.5,  5. ],\n",
       "       [ 5. ,  5. ]])"
      ]
     },
     "execution_count": 209,
     "metadata": {},
     "output_type": "execute_result"
    }
   ],
   "source": [
    "stacked_ponts"
   ]
  },
  {
   "cell_type": "code",
   "execution_count": 210,
   "metadata": {},
   "outputs": [],
   "source": [
    "# column stack\n",
    "a = np.array([1, 2, 3])\n",
    "b = np.array([4, 5, 6])\n",
    "stacked = np.column_stack((a, b))"
   ]
  },
  {
   "cell_type": "code",
   "execution_count": 211,
   "metadata": {},
   "outputs": [
    {
     "data": {
      "text/plain": [
       "array([[1, 4],\n",
       "       [2, 5],\n",
       "       [3, 6]])"
      ]
     },
     "execution_count": 211,
     "metadata": {},
     "output_type": "execute_result"
    }
   ],
   "source": [
    "stacked"
   ]
  },
  {
   "cell_type": "code",
   "execution_count": 212,
   "metadata": {},
   "outputs": [],
   "source": [
    "# sorting\n",
    "arr = np.array([3, 1, 2, 5, 4])\n",
    "sort1 = np.sort(arr)"
   ]
  },
  {
   "cell_type": "code",
   "execution_count": 213,
   "metadata": {},
   "outputs": [
    {
     "data": {
      "text/plain": [
       "array([1, 2, 3, 4, 5])"
      ]
     },
     "execution_count": 213,
     "metadata": {},
     "output_type": "execute_result"
    }
   ],
   "source": [
    "sort1"
   ]
  },
  {
   "cell_type": "markdown",
   "metadata": {},
   "source": [
    "# Demonstration"
   ]
  },
  {
   "cell_type": "code",
   "execution_count": 214,
   "metadata": {},
   "outputs": [
    {
     "data": {
      "text/plain": [
       "(365, 10, 10)"
      ]
     },
     "execution_count": 214,
     "metadata": {},
     "output_type": "execute_result"
    }
   ],
   "source": [
    "# Generate random precipitation data\n",
    "np.random.seed(42)\n",
    "time_steps = 365\n",
    "grid_size = (10, 10)\n",
    "\n",
    "# Precipitation data: 365 days, 10 by 10 grid\n",
    "precip_data = np.random.rand(time_steps, *grid_size)\n",
    "\n",
    "precip_data.shape"
   ]
  },
  {
   "cell_type": "code",
   "execution_count": 215,
   "metadata": {},
   "outputs": [
    {
     "data": {
      "text/plain": [
       "(36500,)"
      ]
     },
     "execution_count": 215,
     "metadata": {},
     "output_type": "execute_result"
    }
   ],
   "source": [
    "precip_data.flatten().shape"
   ]
  },
  {
   "cell_type": "code",
   "execution_count": 162,
   "metadata": {},
   "outputs": [],
   "source": [
    "daily_total_precip = np.sum(precip_data, axis=(1, 2)) # this will convert daily data to a point data (sum), but preserve the time dimension"
   ]
  },
  {
   "cell_type": "code",
   "execution_count": 216,
   "metadata": {},
   "outputs": [
    {
     "data": {
      "text/plain": [
       "(365,)"
      ]
     },
     "execution_count": 216,
     "metadata": {},
     "output_type": "execute_result"
    }
   ],
   "source": [
    "daily_total_precip.shape"
   ]
  },
  {
   "cell_type": "code",
   "execution_count": 163,
   "metadata": {},
   "outputs": [],
   "source": [
    "total_precip = np.sum(precip_data, axis= 0) # this will preserve each day spatial grid, but collapse the time dimension (sum)"
   ]
  },
  {
   "cell_type": "code",
   "execution_count": 217,
   "metadata": {},
   "outputs": [
    {
     "data": {
      "text/plain": [
       "(10, 10)"
      ]
     },
     "execution_count": 217,
     "metadata": {},
     "output_type": "execute_result"
    }
   ],
   "source": [
    "total_precip.shape"
   ]
  },
  {
   "cell_type": "code",
   "execution_count": 218,
   "metadata": {},
   "outputs": [],
   "source": [
    "precip_first_month = np.sum(precip_data[:30], axis=0) # index to sum over first month only"
   ]
  },
  {
   "cell_type": "code",
   "execution_count": 219,
   "metadata": {},
   "outputs": [
    {
     "data": {
      "text/plain": [
       "(10, 10)"
      ]
     },
     "execution_count": 219,
     "metadata": {},
     "output_type": "execute_result"
    }
   ],
   "source": [
    "precip_first_month.shape"
   ]
  },
  {
   "cell_type": "code",
   "execution_count": 221,
   "metadata": {},
   "outputs": [],
   "source": [
    "std_daily_precip = np.std(precip_data, axis=0) # standard deviation"
   ]
  },
  {
   "cell_type": "code",
   "execution_count": 222,
   "metadata": {},
   "outputs": [],
   "source": [
    "mean_daily_precip = np.mean(precip_data, axis=0) # mean"
   ]
  },
  {
   "cell_type": "code",
   "execution_count": 224,
   "metadata": {},
   "outputs": [],
   "source": [
    "cell_0_0 = precip_data[:,0,0] # extrct the data for all time steps at first grid cell"
   ]
  },
  {
   "cell_type": "code",
   "execution_count": 226,
   "metadata": {},
   "outputs": [],
   "source": [
    "first_day_grid = precip_data[0, :, :] # extract the first day data for whole grid"
   ]
  },
  {
   "cell_type": "code",
   "execution_count": 227,
   "metadata": {},
   "outputs": [],
   "source": [
    "cropped_data_allday = precip_data[:, 3:6, 3:6] # crop the data"
   ]
  },
  {
   "cell_type": "code",
   "execution_count": null,
   "metadata": {},
   "outputs": [],
   "source": []
  }
 ],
 "metadata": {
  "kernelspec": {
   "display_name": "Python 3",
   "language": "python",
   "name": "python3"
  },
  "language_info": {
   "codemirror_mode": {
    "name": "ipython",
    "version": 3
   },
   "file_extension": ".py",
   "mimetype": "text/x-python",
   "name": "python",
   "nbconvert_exporter": "python",
   "pygments_lexer": "ipython3",
   "version": "3.10.10"
  }
 },
 "nbformat": 4,
 "nbformat_minor": 2
}
