{
 "cells": [
  {
   "cell_type": "markdown",
   "metadata": {},
   "source": [
    "# Functions"
   ]
  },
  {
   "cell_type": "markdown",
   "metadata": {},
   "source": [
    "1) Basic Function Syntax and Arguments:\n",
    "Write a function calculate_evaporation that calculates evaporation based on temperature and humidity. The formula for evaporation is <br>\n",
    "* E=0.5×(T+25)×(100−H), where <br>\n",
    "T is temperature in Celsius and <br>\n",
    "H is relative humidity in percentage.<br>\n",
    "Use random data to showcase your function.\n",
    "\n",
    "2) Positional and Keyword Arguments:\n",
    "Modify the calculate_evaporation function to take default values for temperature and humidity if not provided.\n",
    "\n",
    "3) Local vs Global Variables:\n",
    "Demonstrate the difference between local and global variables using a simple function of your choice that modifies a global variable.\n",
    "\n",
    "4) Higher-Order Functions and Nested Functions:\n",
    "* Write a function scale_censor_data to first scale the data by a factor of 10 and then apply a lower threshod to clip the scaled data ( i.e. if the input contains a values less than the censorship threshold then it will be considered equal to the censorship value only), use 0.01 as censorship value. Intentionally vreate a numpy array with some zeros and values less than 0.01. Hint: Use np.clip command in numpy to apply censorship\n",
    "* Write a two separate functions, a function normalize_data to normalize a given array of values between 0 - 1, and a function logsinh_transformation that applies a given transformation function to the normalized array. Use concept of higher order function such that the output of normalize_data is input to logsinh_transformation. Hint: See classroom notebook for logsinh transformation and normalization.\n",
    "\n",
    "5) Print the documentation you wrote in calculate_evaporation."
   ]
  },
  {
   "cell_type": "markdown",
   "metadata": {},
   "source": [
    "# Pandas"
   ]
  },
  {
   "cell_type": "markdown",
   "metadata": {},
   "source": [
    "1) Creating DataFrame from Dictionaries and Lists:\n",
    "* Create a DataFrame, df1 from a dictionary containing synthetic temperature, precipitation, relative humidity and date. Create data for 2 years, with daily frequency.\n",
    "* Use function you developed to calculate evaporation and introduce a new column in your DataFrame for this new variable.\n",
    "* Define a separate DataFrame, df2 with same data (exclude evaporation) and index it by date.\n",
    "* Create a separate DataFrame, df3 with 3 hour frequency, description is similar to df1.\n",
    "\n",
    "2) Exporting and Loading CSV Files:\n",
    "* Save all the DataFrame to a CSV file and load it back into a new DataFrame. Call the new DataFrames df11, df22 and df33.\n",
    "\n",
    "3) Exploring and extracting Data with Pandas:\n",
    "* Demonstrate main commands to explore the data for df1.\n",
    "* Extract the day when evaporation was minimum. Also extract data (whole row) for days where the temperature was above 25 degrees Celsius. Now extract the day when maximum was minimum given temperature was above 25 degree Celcius. Hint: Use df11 and index it by date.\n",
    "\n",
    "4) Data Cleaning:\n",
    "* Mutate df11 by introducing 3 NaN in precipitation column, 5 NaN and 2 infinities in temperature column, and 2 negative infinities in evaporation column.\n",
    "* Clean mutated_df11. Hint: Consider both dropping the row and filling with mean.\n",
    "\n",
    "5) Date Time Handling:\n",
    "* Check the datatype of Date in df11 and convert it to datetime object.\n",
    "* Use .dt accessor to introduce new columns for month year and day.\n",
    "* Sort df11 by evaporation.\n",
    "* Find the sum of precipitation, temperature and evaporation for the first day of all months. Hint: Use groupby\n",
    "* Create new DataFrame df33_12hourly by reducing the frequency (aggregation) of df3. Hint: use .sum() to accumulate.\n",
    "* Now, increase the frequency of df33_12hourly to 6 hourly and save it to a new variable named df33_6hourly, use interpolate method.\n",
    "* Finally, decrease the frequency of df33 to 6 hourly (use .sum()) and save it to a new variable named df33_6hourly_direct, and report the sum of difference between values of precipitation column."
   ]
  },
  {
   "cell_type": "markdown",
   "metadata": {},
   "source": []
  }
 ],
 "metadata": {
  "kernelspec": {
   "display_name": "Python 3",
   "language": "python",
   "name": "python3"
  },
  "language_info": {
   "name": "python",
   "version": "3.10.10"
  }
 },
 "nbformat": 4,
 "nbformat_minor": 2
}
