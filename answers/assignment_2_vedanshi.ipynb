{
 "cells": [
  {
   "cell_type": "markdown",
   "metadata": {},
   "source": [
    "# Control flow in python"
   ]
  },
  {
   "cell_type": "markdown",
   "metadata": {},
   "source": [
    "Task1\n",
    "1) Identify Extreme Conditions:\n",
    "* Write a program to find and print the indices of all days when the temperature was above 30 degrees Celsius and humidity was below 40%.\n",
    "* Use nested loops and conditional statements.\n",
    "\n",
    "2) Daily Summary:\n",
    "* For each day, print a summary that includes the day index (1 to 30), temperature, and humidity.\n",
    "* If the temperature is above 28 degrees Celsius, add a note \"Heat Alert\".\n",
    "* If the humidity is below 35%, add a note \"Low Humidity\".\n",
    "\n",
    "3) Temperature Fluctuation:\n",
    "* Write a program to find the largest temperature fluctuation between consecutive days.\n",
    "* Print the indices of the days between which this fluctuation occurred and the fluctuation value."
   ]
  },
  {
   "cell_type": "code",
   "execution_count": 2,
   "metadata": {},
   "outputs": [],
   "source": [
    "import numpy as np\n",
    "\n",
    "np.random.seed(0)  \n",
    "\n",
    "# Generate data for 30 days\n",
    "temperature = np.random.uniform(10, 35, size=30)  # Random temperatures between 10 and 35\n",
    "humidity = np.random.uniform(30, 90, size=30)  # Random humidity between 30% and 90%\n"
   ]
  },
  {
   "cell_type": "code",
   "execution_count": 3,
   "metadata": {},
   "outputs": [
    {
     "name": "stdout",
     "output_type": "stream",
     "text": [
      "33.139915957316525 \t 33.61352829775619 \t 30.81549613869845 \t 37.7355778592912\n"
     ]
    },
    {
     "data": {
      "text/plain": [
       "[13, 17]"
      ]
     },
     "execution_count": 3,
     "metadata": {},
     "output_type": "execute_result"
    }
   ],
   "source": [
    "#subtask 1\n",
    "indices=[i for i in range(30) if temperature[i]>30 and humidity[i]<40]\n",
    "print(temperature[13],'\\t',humidity[13],'\\t',temperature[17],'\\t',humidity[17])\n",
    "indices"
   ]
  },
  {
   "cell_type": "code",
   "execution_count": 4,
   "metadata": {},
   "outputs": [
    {
     "name": "stdout",
     "output_type": "stream",
     "text": [
      "Summary:\n",
      "1. Temprature: 23.720337598183118\n",
      "2. Humidity: 45.873336726277614\n",
      "Summary:\n",
      "1. Temprature: 27.879734159310487\n",
      "2. Humidity: 76.454021366053\n",
      "Summary:\n",
      "1. Temprature: 25.069084401791095\n",
      "2. Humidity: 57.36901993299291\n",
      "Summary:\n",
      "1. Temprature: 23.622079574922424\n",
      "2. Humidity: 64.10603693211891\n",
      "Summary:\n",
      "1. Temprature: 20.591369983472617\n",
      "2. Humidity: 31.127388026181308\n",
      "Low humidity\n",
      "Summary:\n",
      "1. Temprature: 26.147352826666403\n",
      "2. Humidity: 67.05812982455262\n",
      "Summary:\n",
      "1. Temprature: 20.939680281567313\n",
      "2. Humidity: 66.72574336334529\n",
      "Summary:\n",
      "1. Temprature: 32.29432501955199\n",
      "2. Humidity: 67.01603981248542\n",
      "Heat Alert\n",
      "Summary:\n",
      "1. Temprature: 34.09156901252573\n",
      "2. Humidity: 86.62488471087745\n",
      "Heat Alert\n",
      "Summary:\n",
      "1. Temprature: 19.58603797064444\n",
      "2. Humidity: 70.909217946209\n",
      "Summary:\n",
      "1. Temprature: 29.793125952066614\n",
      "2. Humidity: 51.570474034427164\n",
      "Heat Alert\n",
      "Summary:\n",
      "1. Temprature: 23.22237299382261\n",
      "2. Humidity: 56.22191722796049\n",
      "Summary:\n",
      "1. Temprature: 24.201114027348307\n",
      "2. Humidity: 71.8578717556359\n",
      "Summary:\n",
      "1. Temprature: 33.139915957316525\n",
      "2. Humidity: 33.61352829775619\n",
      "Heat Alert\n",
      "Low humidity\n",
      "Summary:\n",
      "1. Temprature: 11.775901454947174\n",
      "2. Humidity: 70.00600292674005\n",
      "Summary:\n",
      "1. Temprature: 12.178232492538518\n",
      "2. Humidity: 70.23827217708956\n",
      "Summary:\n",
      "1. Temprature: 10.505459936008142\n",
      "2. Humidity: 42.622953664430455\n",
      "Summary:\n",
      "1. Temprature: 30.81549613869845\n",
      "2. Humidity: 37.7355778592912\n",
      "Heat Alert\n",
      "Summary:\n",
      "1. Temprature: 29.453918773746263\n",
      "2. Humidity: 48.92570105545103\n",
      "Heat Alert\n",
      "Summary:\n",
      "1. Temprature: 31.750303706170477\n",
      "2. Humidity: 51.822646256557356\n",
      "Heat Alert\n",
      "Summary:\n",
      "1. Temprature: 34.4654585558191\n",
      "2. Humidity: 64.21180622507278\n",
      "Heat Alert\n",
      "Summary:\n",
      "1. Temprature: 29.97896410541809\n",
      "2. Humidity: 56.31609080773922\n",
      "Heat Alert\n",
      "Summary:\n",
      "1. Temprature: 21.5369840563233\n",
      "2. Humidity: 89.30243028355358\n",
      "Summary:\n",
      "1. Temprature: 29.513229407161386\n",
      "2. Humidity: 36.122688644881684\n",
      "Heat Alert\n",
      "Summary:\n",
      "1. Temprature: 12.956860646723332\n",
      "2. Humidity: 42.53260536569008\n",
      "Summary:\n",
      "1. Temprature: 25.998025533188095\n",
      "2. Humidity: 39.678571073099775\n",
      "Summary:\n",
      "1. Temprature: 13.58383218522616\n",
      "2. Humidity: 69.1864995279239\n",
      "Summary:\n",
      "1. Temprature: 33.616722926239596\n",
      "2. Humidity: 45.197496152386925\n",
      "Heat Alert\n",
      "Summary:\n",
      "1. Temprature: 23.04620804375179\n",
      "2. Humidity: 57.978646371378375\n",
      "Summary:\n",
      "1. Temprature: 20.36654849976309\n",
      "2. Humidity: 44.665535520096164\n"
     ]
    }
   ],
   "source": [
    "#subtask 2\n",
    "for i in range(30):\n",
    "    print(f'Summary:\\n1. Temprature: {temperature[i]}\\n2. Humidity: {humidity[i]}')\n",
    "    if temperature[i]>28 :\n",
    "        print(\"Heat Alert\")\n",
    "    if humidity[i]<35:\n",
    "        print(\"Low humidity\")"
   ]
  },
  {
   "cell_type": "code",
   "execution_count": 5,
   "metadata": {},
   "outputs": [
    {
     "name": "stdout",
     "output_type": "stream",
     "text": [
      "the heightest fluctuations occured in between the days:  [13, 14] \n",
      "heighest fluctuation value:  21.36401450236935\n"
     ]
    }
   ],
   "source": [
    "#subtask 3\n",
    "fluc_indicies=[]\n",
    "max=0\n",
    "for i in range(1,30):\n",
    "    fluctuations=temperature[i-1]-temperature[i]\n",
    "    if max<=fluctuations:\n",
    "        fluc_indicies+=[[i-1,i]]\n",
    "        max=fluctuations\n",
    "fluc_indicies[:]=fluc_indicies[-1:]\n",
    "fluc_indicies.append(max)\n",
    "print(\"the heightest fluctuations occured in between the days: \",fluc_indicies[0],\"\\nheighest fluctuation value: \",fluc_indicies[1])"
   ]
  },
  {
   "cell_type": "markdown",
   "metadata": {},
   "source": [
    "Task2\n",
    "1) First Extreme Condition:\n",
    "* Write a program to find the first day when the temperature was above 30 degrees Celsius. Use a loop and the 'break' statement to exit the loop once the condition is met.\n",
    "\n",
    "2) Skipping Days with Low Humidity:\n",
    "* Write a program to print the temperature for each day, but skip days when the humidity is below 50%. Use a loop and the 'continue' statement to skip those days.\n",
    "\n",
    "3) Placeholder for Future Code:\n",
    "* Write a program that loops through the temperature data and uses the 'pass' statement as a placeholder for future code where you want to check and handle specific conditions (e.g., checking for a specific temperature range).\n",
    "\n",
    "4) Combined Conditions:\n",
    "* Write a program that processes the weather data to find days with specific conditions:\n",
    "* If the temperature is below 15 degrees Celsius, print \"Cold Day\" and break out of the loop.\n",
    "* If the humidity is above 80%, print \"High Humidity Day\" and continue to the next iteration without printing the temperature.\n",
    "* Otherwise, print the temperature."
   ]
  },
  {
   "cell_type": "code",
   "execution_count": 6,
   "metadata": {},
   "outputs": [
    {
     "name": "stdout",
     "output_type": "stream",
     "text": [
      "first day with temp > 30:  7\n"
     ]
    }
   ],
   "source": [
    "#subtask 1\n",
    "for i in range(30):\n",
    "    if temperature[i]>30:\n",
    "        print(\"first day with temp > 30: \",i)\n",
    "        break"
   ]
  },
  {
   "cell_type": "code",
   "execution_count": 7,
   "metadata": {},
   "outputs": [
    {
     "name": "stdout",
     "output_type": "stream",
     "text": [
      "27.879734159310487\n",
      "25.069084401791095\n",
      "23.622079574922424\n",
      "26.147352826666403\n",
      "20.939680281567313\n",
      "32.29432501955199\n",
      "34.09156901252573\n",
      "19.58603797064444\n",
      "29.793125952066614\n",
      "23.22237299382261\n",
      "24.201114027348307\n",
      "11.775901454947174\n",
      "12.178232492538518\n",
      "31.750303706170477\n",
      "34.4654585558191\n",
      "29.97896410541809\n",
      "21.5369840563233\n",
      "13.58383218522616\n",
      "23.04620804375179\n"
     ]
    }
   ],
   "source": [
    "#subtask 2\n",
    "for i in range(30):\n",
    "    if humidity[i]<50:\n",
    "        continue\n",
    "    print(temperature[i])"
   ]
  },
  {
   "cell_type": "code",
   "execution_count": 8,
   "metadata": {},
   "outputs": [
    {
     "name": "stdout",
     "output_type": "stream",
     "text": [
      "23.720337598183118\n",
      "27.879734159310487\n",
      "25.069084401791095\n",
      "23.622079574922424\n",
      "20.591369983472617\n",
      "26.147352826666403\n",
      "20.939680281567313\n",
      "32.29432501955199\n",
      "high humidity day\n",
      "19.58603797064444\n",
      "29.793125952066614\n",
      "23.22237299382261\n",
      "24.201114027348307\n",
      "33.139915957316525\n",
      "cold day\n"
     ]
    }
   ],
   "source": [
    "#subtask 4\n",
    "for i in range(30):\n",
    "    if temperature[i]<15:\n",
    "        print(\"cold day\")\n",
    "        break\n",
    "    if humidity[i]>80:\n",
    "        print(\"high humidity day\")\n",
    "        continue\n",
    "    print(temperature[i])"
   ]
  },
  {
   "cell_type": "markdown",
   "metadata": {},
   "source": [
    "# Numpy"
   ]
  },
  {
   "cell_type": "markdown",
   "metadata": {},
   "source": [
    "Task1\n",
    "1) Basic Array Generation:\n",
    "* Task 1.1: Create an array of 50 evenly spaced numbers between 0 and 100 using linspace. Print the array.\n",
    "* Task 1.2: Generate a 4x4 array of zeros and a 3x3 array of ones. Print both arrays.\n",
    "* Task 1.3: Create an array of 20 random numbers between 0 and 1. Print the array.\n",
    "\n",
    "2) Array Operations:\n",
    "* Task 2.1: Multiply the temperature data by 1.8 and add 32 to convert it from Celsius to Fahrenheit. Print the converted data for the first day.\n",
    "* Task 2.2: Calculate the mean, median, and standard deviation of the temperature data for the entire year. Print these values.\n",
    "* Task 2.3: Create a boolean array that is True where the temperature is above 25 degrees Celsius and False otherwise. Print the first 10 elements of this array.\n",
    "\n",
    "3) Accessing Elements:\n",
    "* Task 3.1: Access and print the temperature data for the first week (first 7 days).\n",
    "* Task 3.2: Extract and print the temperature data for every hour at noon (12 PM) across all 365 days.\n",
    "* Task 3.3: Slice the data to create a subarray for the temperatures between 6 AM and 6 PM for the first 10 days. Print this subarray."
   ]
  },
  {
   "cell_type": "code",
   "execution_count": 9,
   "metadata": {},
   "outputs": [
    {
     "name": "stdout",
     "output_type": "stream",
     "text": [
      "Generated Data Shape: (365, 24)\n"
     ]
    }
   ],
   "source": [
    "import numpy as np\n",
    "\n",
    "np.random.seed(0) \n",
    "\n",
    "# Generate 2D gridded data for 365 days, temperature readings\n",
    "data = np.random.uniform(10, 35, size=(365, 24))  # 365 days, 24 hours each day\n",
    "\n",
    "# Example data array\n",
    "print(\"Generated Data Shape:\", data.shape)"
   ]
  },
  {
   "cell_type": "code",
   "execution_count": 10,
   "metadata": {},
   "outputs": [
    {
     "data": {
      "text/plain": [
       "array([  0.        ,   2.04081633,   4.08163265,   6.12244898,\n",
       "         8.16326531,  10.20408163,  12.24489796,  14.28571429,\n",
       "        16.32653061,  18.36734694,  20.40816327,  22.44897959,\n",
       "        24.48979592,  26.53061224,  28.57142857,  30.6122449 ,\n",
       "        32.65306122,  34.69387755,  36.73469388,  38.7755102 ,\n",
       "        40.81632653,  42.85714286,  44.89795918,  46.93877551,\n",
       "        48.97959184,  51.02040816,  53.06122449,  55.10204082,\n",
       "        57.14285714,  59.18367347,  61.2244898 ,  63.26530612,\n",
       "        65.30612245,  67.34693878,  69.3877551 ,  71.42857143,\n",
       "        73.46938776,  75.51020408,  77.55102041,  79.59183673,\n",
       "        81.63265306,  83.67346939,  85.71428571,  87.75510204,\n",
       "        89.79591837,  91.83673469,  93.87755102,  95.91836735,\n",
       "        97.95918367, 100.        ])"
      ]
     },
     "execution_count": 10,
     "metadata": {},
     "output_type": "execute_result"
    }
   ],
   "source": [
    "#task 1.1\n",
    "lin_array=np.linspace(0,100,50)\n",
    "lin_array"
   ]
  },
  {
   "cell_type": "code",
   "execution_count": 11,
   "metadata": {},
   "outputs": [
    {
     "name": "stdout",
     "output_type": "stream",
     "text": [
      "[[0. 0. 0. 0.]\n",
      " [0. 0. 0. 0.]\n",
      " [0. 0. 0. 0.]\n",
      " [0. 0. 0. 0.]]\n",
      "\n",
      " [[1. 1. 1.]\n",
      " [1. 1. 1.]\n",
      " [1. 1. 1.]]\n"
     ]
    }
   ],
   "source": [
    "#task 1.2\n",
    "arr4=np.zeros((4,4))\n",
    "print(arr4)\n",
    "arr3=np.ones((3,3))\n",
    "print(\"\\n\",arr3)"
   ]
  },
  {
   "cell_type": "code",
   "execution_count": 12,
   "metadata": {},
   "outputs": [
    {
     "data": {
      "text/plain": [
       "array([0.04637189, 0.21728084, 0.93662887, 0.80497319, 0.07025725,\n",
       "       0.23293203, 0.36519398, 0.31929083, 0.05126782, 0.17071665,\n",
       "       0.2823699 , 0.15313365, 0.8274517 , 0.52041243, 0.22144732,\n",
       "       0.84772471, 0.76066666, 0.38627737, 0.8412092 , 0.63744857])"
      ]
     },
     "execution_count": 12,
     "metadata": {},
     "output_type": "execute_result"
    }
   ],
   "source": [
    "#Task 1.3\n",
    "nums_20=np.random.rand(20)\n",
    "nums_20"
   ]
  },
  {
   "cell_type": "code",
   "execution_count": 13,
   "metadata": {},
   "outputs": [
    {
     "data": {
      "text/plain": [
       "array([[23.7203376 , 27.87973416, 25.0690844 , 23.62207957, 20.59136998,\n",
       "        26.14735283, 20.93968028, 32.29432502, 34.09156901, 19.58603797,\n",
       "        29.79312595, 23.22237299, 24.20111403, 33.13991596, 11.77590145,\n",
       "        12.17823249, 10.50545994, 30.81549614, 29.45391877, 31.75030371,\n",
       "        34.46545856, 29.97896411, 21.53698406, 29.51322941],\n",
       "       [12.95686065, 25.99802553, 13.58383219, 33.61672293, 23.04620804,\n",
       "        20.3665485 , 16.6138903 , 29.35584224, 21.40375831, 24.21084872,\n",
       "        10.46974501, 25.44088743, 25.30239307, 25.42334992, 33.59370196,\n",
       "        27.04550748, 18.98769751, 20.92579884, 27.4407799 , 11.50563679,\n",
       "        26.66916789, 26.76594674, 15.25956403, 13.22315744],\n",
       "       [17.88570877, 19.09276927, 24.25491926, 20.96503784, 34.70934595,\n",
       "        12.55112027, 15.2219189 , 14.03273795, 26.32770814, 16.33229006,\n",
       "        21.65776932, 16.1106398 , 13.97423959, 12.75937853, 26.40823974,\n",
       "        13.45457378, 14.91455904, 19.21812927, 30.52483075, 12.42753189,\n",
       "        30.94862269, 12.4024602 , 34.41148663, 21.71628004],\n",
       "       [34.4190272 , 25.12113799, 28.48158948, 10.97969481, 17.07017406,\n",
       "        13.00491403, 17.40350494, 12.96819297, 17.94957948, 20.35657486,\n",
       "        11.60368741, 27.31180298, 24.16503636, 16.63473727, 23.08120134,\n",
       "        12.34851277, 24.39866239, 33.23240494, 17.96422381, 26.6852595 ,\n",
       "        13.29494656, 27.9081801 , 17.23515232, 14.57978405],\n",
       "       [24.66282337, 10.50268865, 30.72350073, 10.1173869 , 26.94541342,\n",
       "        16.75019933, 28.37985055, 34.05471363, 16.21882859, 24.40393336,\n",
       "        24.80104828, 24.30629764, 15.57704082, 33.81872529, 21.17813447,\n",
       "        31.16021681, 27.48698188, 17.43592377, 30.34494549, 19.91264352,\n",
       "        32.02757993, 24.53182182, 32.04338405, 27.31328975],\n",
       "       [28.131357  , 22.53310955, 33.90209087, 26.09975498, 20.59637621,\n",
       "        25.15983035, 10.47982996, 17.53937042, 26.50433844, 17.25194018,\n",
       "        25.45038572, 20.71921752, 13.38685161, 17.45705815, 24.24912277,\n",
       "        24.77181903, 24.35813122, 26.3300205 , 26.30258175, 20.78546089,\n",
       "        32.4136649 , 19.18904675, 20.89662313, 32.29808388],\n",
       "       [30.15484973, 27.59721459, 12.50567218, 32.98706534, 27.85603249,\n",
       "        34.97117516, 13.73620762, 31.70315143, 14.06232337, 25.38898911,\n",
       "        13.09549957, 31.20020573, 30.18297397, 24.22751847, 20.17958243,\n",
       "        11.72917489, 27.43571933, 21.33856707, 28.05138999, 31.65955815,\n",
       "        34.38803763, 31.39508356, 10.2928521 , 18.99945161]])"
      ]
     },
     "execution_count": 13,
     "metadata": {},
     "output_type": "execute_result"
    }
   ],
   "source": [
    "#task 3.1\n",
    "first_7=data[:7][:]\n",
    "first_7"
   ]
  },
  {
   "cell_type": "code",
   "execution_count": 14,
   "metadata": {},
   "outputs": [
    {
     "data": {
      "text/plain": [
       "array([33.13991596, 25.42334992, 12.75937853, 16.63473727, 33.81872529,\n",
       "       17.45705815, 24.22751847, 25.53696004, 11.68124079, 28.27139517,\n",
       "       28.7165905 , 29.98006468, 29.35118332, 21.40351417, 33.98583352,\n",
       "       25.90152639, 18.91767226, 34.75862504, 18.71298424, 15.94354565,\n",
       "       20.16833365, 18.54245287, 26.17991635, 33.05869954, 32.69332394,\n",
       "       13.33598579, 12.6751035 , 31.42812294, 25.15770333, 31.40690449,\n",
       "       16.52261248, 10.03458375, 20.67260901, 27.7258865 , 13.97865592,\n",
       "       27.35394628, 18.93367199, 18.70479857, 30.67154008, 30.37998488,\n",
       "       22.6578056 , 33.46030054, 25.51249751, 20.75289961, 13.80068068,\n",
       "       32.12554628, 10.87900149, 19.8079735 , 10.45240896, 31.67152284,\n",
       "       11.27518272, 20.04220463, 28.95484291, 34.57475275, 29.22888812,\n",
       "       20.01121337, 19.28217361, 10.75481933, 32.80377383, 33.60506795,\n",
       "       32.91047527, 13.51098803, 30.92475913, 32.70620948, 31.22082564,\n",
       "       18.223844  , 27.84294398, 18.66519527, 34.01305995, 14.16355182,\n",
       "       12.91158135, 32.11555142, 30.86465955, 34.3473331 , 13.60600255,\n",
       "       33.95698335, 20.75452144, 12.02634472, 12.95050778, 27.53142119,\n",
       "       32.13806594, 34.95497382, 28.02608521, 17.57262022, 19.49166108,\n",
       "       16.32134694, 22.16515228, 20.6672853 , 20.22553779, 24.03496794,\n",
       "       34.68587474, 32.25946403, 20.9936328 , 19.06732337, 16.57696951,\n",
       "       28.1083391 , 22.62783597, 14.13708071, 24.37777791, 21.81072113,\n",
       "       10.75721025, 20.23238281, 24.72745898, 23.83626074, 28.92081901,\n",
       "       24.52489547, 23.1580403 , 30.17378219, 27.13781798, 28.28232023,\n",
       "       10.26944409, 19.72126572, 26.6270406 , 14.1620283 , 34.99910046,\n",
       "       19.6534595 , 28.35189194, 22.43407792, 28.26140169, 14.85106373,\n",
       "       27.93714313, 25.43312069, 30.25009652, 13.20974775, 24.0093426 ,\n",
       "       20.73666463, 11.49615789, 28.40652004, 11.92046135, 14.04352987,\n",
       "       30.78259148, 27.64451057, 16.8916332 , 10.34221027, 16.52310021,\n",
       "       20.42418005, 26.21034256, 12.44796997, 34.69994249, 22.795164  ,\n",
       "       19.32312741, 23.46879646, 32.86735749, 32.17483243, 21.62973876,\n",
       "       14.65231828, 30.89911424, 24.07559592, 13.62538974, 24.17241072,\n",
       "       14.17722971, 31.68557655, 32.60992978, 24.17181698, 25.51052762,\n",
       "       20.4998703 , 18.11499998, 18.45257062, 11.12674568, 33.61722608,\n",
       "       15.3320501 , 18.2892451 , 13.52821533, 31.53250891, 25.70812456,\n",
       "       22.5753846 , 30.75007367, 33.2443566 , 31.86114294, 33.36519071,\n",
       "       24.99561458, 23.48564452, 31.91044245, 14.95151196, 19.96515457,\n",
       "       16.39299511, 21.29617079, 29.88751472, 14.9703199 , 19.52210151,\n",
       "       28.72591242, 32.1591332 , 24.43851777, 10.34353983, 31.99108491,\n",
       "       18.10378937, 23.44343734, 28.85101099, 25.26756701, 24.13113394,\n",
       "       21.72099895, 18.29927727, 23.18330962, 22.8326835 , 22.33496276,\n",
       "       12.45346885, 18.50417335, 16.92069476, 10.97001537, 31.67052201,\n",
       "       22.3366735 , 15.86851075, 26.65682081, 24.55878182, 30.31881057,\n",
       "       24.90832359, 10.38072163, 26.83732662, 29.07318345, 27.97147946,\n",
       "       28.16122212, 17.2302128 , 19.50324822, 12.03579589, 10.40925387,\n",
       "       10.65846398, 33.1289045 , 21.81137723, 14.48828508, 24.40827316,\n",
       "       26.21690749, 20.1189427 , 21.10418594, 33.02384582, 25.01390565,\n",
       "       33.62198249, 18.43895263, 12.11551922, 30.41390201, 15.9919222 ,\n",
       "       25.40803571, 30.86190346, 30.09536313, 11.52972211, 16.90251831,\n",
       "       20.43857128, 32.94766114, 22.02172043, 10.17731061, 21.816377  ,\n",
       "       10.19631823, 18.97476322, 20.77171045, 24.67915536, 30.38629526,\n",
       "       11.40711246, 17.92555706, 19.17055911, 10.75957098, 32.96534694,\n",
       "       31.5096261 , 33.26276542, 22.44350004, 16.5708834 , 23.85071339,\n",
       "       12.13532999, 16.03135381, 26.67012057, 13.80898064, 34.60275569,\n",
       "       24.94417697, 30.62955807, 27.04930326, 15.3732386 , 24.2448436 ,\n",
       "       10.26716301, 20.78965174, 32.65532391, 20.44353581, 33.92770521,\n",
       "       10.4834062 , 20.80889132, 12.41416327, 31.95706154, 17.59608868,\n",
       "       10.13061076, 30.20388824, 10.69224666, 15.22922889, 16.50605922,\n",
       "       31.63190383, 32.4076373 , 29.27559214, 14.14651902, 11.07239743,\n",
       "       21.57983652, 32.64031656, 24.21452705, 28.14691098, 15.65394675,\n",
       "       30.52615176, 30.55232562, 29.75270882, 20.72266208, 20.72534277,\n",
       "       17.58865465, 16.1443228 , 20.62808663, 29.31624793, 25.30954572,\n",
       "       18.2605628 , 27.39307627, 22.28599368, 11.3949355 , 25.92713423,\n",
       "       30.67018684, 30.7869037 , 15.04551012, 30.13374562, 33.14510651,\n",
       "       10.58728503, 18.96811322, 11.24751323, 11.09290546, 29.60993548,\n",
       "       23.90969381, 13.7813643 , 25.33606834, 30.44461633, 11.50984678,\n",
       "       26.99893784, 32.08446009, 21.16487126, 27.97925042, 22.42301959,\n",
       "       30.32497393, 18.56386545, 10.25462498, 21.15319039, 30.99286216,\n",
       "       10.62216423, 29.32467401, 23.89288084, 19.15066563, 25.10843616,\n",
       "       29.26885951, 18.18101779, 13.17497913, 27.70097617, 15.49287937,\n",
       "       26.3434567 , 28.15139218, 26.88182504, 19.09039039, 33.39590036,\n",
       "       28.56630276, 26.83542106, 31.11373709, 12.98315347, 23.02102581,\n",
       "       17.11284239, 21.85189436, 32.06653352, 28.82821821, 31.897401  ,\n",
       "       19.00088273, 34.03114442, 19.25352214, 33.67386376, 26.98309832,\n",
       "       16.000984  , 34.04993604, 33.17516962, 25.35017758, 22.17481421])"
      ]
     },
     "execution_count": 14,
     "metadata": {},
     "output_type": "execute_result"
    }
   ],
   "source": [
    "#task 3.2\n",
    "at_12=data[:,13]\n",
    "at_12"
   ]
  },
  {
   "cell_type": "code",
   "execution_count": 15,
   "metadata": {},
   "outputs": [
    {
     "data": {
      "text/plain": [
       "array([[20.93968028, 32.29432502, 34.09156901, 19.58603797, 29.79312595,\n",
       "        23.22237299, 24.20111403, 33.13991596, 11.77590145, 12.17823249,\n",
       "        10.50545994, 30.81549614, 29.45391877],\n",
       "       [16.6138903 , 29.35584224, 21.40375831, 24.21084872, 10.46974501,\n",
       "        25.44088743, 25.30239307, 25.42334992, 33.59370196, 27.04550748,\n",
       "        18.98769751, 20.92579884, 27.4407799 ],\n",
       "       [15.2219189 , 14.03273795, 26.32770814, 16.33229006, 21.65776932,\n",
       "        16.1106398 , 13.97423959, 12.75937853, 26.40823974, 13.45457378,\n",
       "        14.91455904, 19.21812927, 30.52483075],\n",
       "       [17.40350494, 12.96819297, 17.94957948, 20.35657486, 11.60368741,\n",
       "        27.31180298, 24.16503636, 16.63473727, 23.08120134, 12.34851277,\n",
       "        24.39866239, 33.23240494, 17.96422381],\n",
       "       [28.37985055, 34.05471363, 16.21882859, 24.40393336, 24.80104828,\n",
       "        24.30629764, 15.57704082, 33.81872529, 21.17813447, 31.16021681,\n",
       "        27.48698188, 17.43592377, 30.34494549],\n",
       "       [10.47982996, 17.53937042, 26.50433844, 17.25194018, 25.45038572,\n",
       "        20.71921752, 13.38685161, 17.45705815, 24.24912277, 24.77181903,\n",
       "        24.35813122, 26.3300205 , 26.30258175],\n",
       "       [13.73620762, 31.70315143, 14.06232337, 25.38898911, 13.09549957,\n",
       "        31.20020573, 30.18297397, 24.22751847, 20.17958243, 11.72917489,\n",
       "        27.43571933, 21.33856707, 28.05138999],\n",
       "       [29.84244258, 15.5981172 , 18.63379202, 33.20203234, 27.61036005,\n",
       "        10.79597324, 14.11735391, 25.53696004, 24.43071472, 15.94732053,\n",
       "        33.35534995, 25.3491489 , 23.39082008],\n",
       "       [11.45072901, 20.86041564, 17.79489705, 27.40858722, 19.44379598,\n",
       "        14.49009194, 10.61696821, 11.68124079, 26.98481934, 21.34242111,\n",
       "        23.41448028, 32.41678233, 34.75847368],\n",
       "       [16.83855087, 29.95117085, 14.64089861, 33.81979142, 27.18720691,\n",
       "        15.38769193, 33.68426476, 28.27139517, 16.34854106, 15.33279943,\n",
       "        22.95501785, 10.64156795, 15.18675189]])"
      ]
     },
     "execution_count": 15,
     "metadata": {},
     "output_type": "execute_result"
    }
   ],
   "source": [
    "#task 3.3\n",
    "subarray=data[:10,6:19]\n",
    "subarray"
   ]
  },
  {
   "cell_type": "markdown",
   "metadata": {},
   "source": [
    "Task2\n",
    "1) Meshgrid and Column Stack:\n",
    "* Create a meshgrid for x values ranging from 0 to 5 (at interval of 0.1, Hint: Use np.arange) and y values ranging from 0 to 5 (at interval of 0.1). Then, use the provided matplotlib code (in class) to visualize the resulting x and y grids.\n",
    "* Use column_stack to combine the temperature and humidity data for the first 10 days into a single array. Print the combined array. (Hint: use dataset in the control flow task)\n",
    "\n",
    "2) Reshaping and Flattening:\n",
    "* Reshape the data array from shape (365, 24) to shape (24, 365) and print the new shape.\n",
    "* Flatten the reshaped array and print the first 50 elements.\n",
    "\n",
    "3) Statistical Analysis:\n",
    "* Calculate the average temperature for each hour of the day over the entire year. Print the results.\n",
    "* Calculate the total precipitation for each day if we assume that the precipitation data follows the same structure as the temperature data. (Generate random precipitation data and perform the calculation). Print the total precipitation for the first week.\n",
    "\n",
    "4) Advanced Slicing and Indexing:\n",
    "* Crop a subsection of the data array to get the temperatures from the first 5 days and the first 12 hours of each day. Print the cropped data.\n",
    "* Create an array that includes only the temperatures above 30 degrees Celsius. Print the first 20 elements of this array."
   ]
  },
  {
   "cell_type": "code",
   "execution_count": 16,
   "metadata": {},
   "outputs": [
    {
     "data": {
      "image/png": "[encoded data removed]",
      "text/plain": [
       "<Figure size 800x600 with 1 Axes>"
      ]
     },
     "metadata": {},
     "output_type": "display_data"
    }
   ],
   "source": [
    "#subtask 1\n",
    "x_values=np.arange(0,5,0.1)\n",
    "y_values=np.arange(0,5,0.1)\n",
    "x,y=np.meshgrid(x_values,y_values)\n",
    "import matplotlib.pyplot as plt\n",
    "plt.figure(figsize=(8, 6))\n",
    "plt.plot(x, y, marker='.', color='b', linestyle='none')  # Plot grid points\n",
    "plt.xlabel('X-axis')\n",
    "plt.ylabel('Y-axis')\n",
    "plt.title('Meshgrid Plot')\n",
    "plt.grid(True)\n",
    "plt.show()"
   ]
  },
  {
   "cell_type": "code",
   "execution_count": 17,
   "metadata": {},
   "outputs": [
    {
     "data": {
      "text/plain": [
       "array([[23.7203376 , 45.87333673],\n",
       "       [27.87973416, 76.45402137],\n",
       "       [25.0690844 , 57.36901993],\n",
       "       [23.62207957, 64.10603693],\n",
       "       [20.59136998, 31.12738803],\n",
       "       [26.14735283, 67.05812982],\n",
       "       [20.93968028, 66.72574336],\n",
       "       [32.29432502, 67.01603981],\n",
       "       [34.09156901, 86.62488471],\n",
       "       [19.58603797, 70.90921795]])"
      ]
     },
     "execution_count": 17,
     "metadata": {},
     "output_type": "execute_result"
    }
   ],
   "source": [
    "#subtask 1\n",
    "combined=np.column_stack((temperature[:10],humidity[:10]))\n",
    "combined"
   ]
  },
  {
   "cell_type": "code",
   "execution_count": 18,
   "metadata": {},
   "outputs": [
    {
     "name": "stdout",
     "output_type": "stream",
     "text": [
      "the new shape is:  (24, 365)\n",
      "\n",
      "First 50 elements of the falttened data:\n",
      " [23.7203376  27.87973416 25.0690844  23.62207957 20.59136998 26.14735283\n",
      " 20.93968028 32.29432502 34.09156901 19.58603797 29.79312595 23.22237299\n",
      " 24.20111403 33.13991596 11.77590145 12.17823249 10.50545994 30.81549614\n",
      " 29.45391877 31.75030371 34.46545856 29.97896411 21.53698406 29.51322941\n",
      " 12.95686065 25.99802553 13.58383219 33.61672293 23.04620804 20.3665485\n",
      " 16.6138903  29.35584224 21.40375831 24.21084872 10.46974501 25.44088743\n",
      " 25.30239307 25.42334992 33.59370196 27.04550748 18.98769751 20.92579884\n",
      " 27.4407799  11.50563679 26.66916789 26.76594674 15.25956403 13.22315744\n",
      " 17.88570877 19.09276927]\n"
     ]
    }
   ],
   "source": [
    "#subtask 2\n",
    "data_reshape=data.reshape(24,365)\n",
    "print(\"the new shape is: \",data_reshape.shape)\n",
    "flat=data_reshape.flatten()\n",
    "print(\"\\nFirst 50 elements of the falttened data:\\n\",flat[:50])"
   ]
  },
  {
   "cell_type": "code",
   "execution_count": 19,
   "metadata": {},
   "outputs": [
    {
     "name": "stdout",
     "output_type": "stream",
     "text": [
      "0     22.183675\n",
      "1     22.080164\n",
      "2     22.288191\n",
      "3     22.668150\n",
      "4     22.863654\n",
      "5     21.881533\n",
      "6     21.844802\n",
      "7     22.077784\n",
      "8     22.019836\n",
      "9     22.643394\n",
      "10    21.752031\n",
      "11    21.836969\n",
      "12    22.109564\n",
      "13    22.986768\n",
      "14    22.497297\n",
      "15    22.498586\n",
      "16    22.817902\n",
      "17    22.635783\n",
      "18    22.680673\n",
      "19    22.442167\n",
      "20    22.728412\n",
      "21    22.520915\n",
      "22    22.987265\n",
      "23    22.461158\n",
      "Name: mean, dtype: float64\n"
     ]
    },
    {
     "data": {
      "text/plain": [
       "[37447.51364297729,\n",
       " 37160.37395692564,\n",
       " 37737.44144279217,\n",
       " 38791.44758701425,\n",
       " 39333.77604615177,\n",
       " 36609.37152536951,\n",
       " 36507.482002290795,\n",
       " 37153.77365861399,\n",
       " 36993.024865896296,\n",
       " 38722.776176966945,\n",
       " 36250.13318393529,\n",
       " 36485.75088552414,\n",
       " 37241.93147211762,\n",
       " 39675.2945774494,\n",
       " 38317.500941646766,\n",
       " 38321.07884927036,\n",
       " 39206.85964747712,\n",
       " 38701.66341804349,\n",
       " 38826.18722201356,\n",
       " 38164.57076036807,\n",
       " 38958.61378042081,\n",
       " 38383.01745517813,\n",
       " 39676.6729175085,\n",
       " 38217.25107397443]"
      ]
     },
     "execution_count": 19,
     "metadata": {},
     "output_type": "execute_result"
    }
   ],
   "source": [
    "#subtask 3\n",
    "import pandas as pd\n",
    "df=pd.DataFrame(data)\n",
    "df\n",
    "summary=df.describe()\n",
    "hourlymean=summary.loc[\"mean\"]\n",
    "print(hourlymean)\n",
    "np.random.seed(0)\n",
    "tmep_data=np.random.uniform(10,200, size=(365, 24))\n",
    "df2=pd.DataFrame(tmep_data)\n",
    "sum_data=[0]*24\n",
    "for x in range(24):\n",
    "   sum_data[x] = df2.iloc[:, x].sum()\n",
    "sum_data"
   ]
  },
  {
   "cell_type": "code",
   "execution_count": 22,
   "metadata": {},
   "outputs": [
    {
     "name": "stdout",
     "output_type": "stream",
     "text": [
      "          0          1          2          3          4          5   \\\n",
      "0  23.720338  27.879734  25.069084  23.622080  20.591370  26.147353   \n",
      "1  12.956861  25.998026  13.583832  33.616723  23.046208  20.366548   \n",
      "2  17.885709  19.092769  24.254919  20.965038  34.709346  12.551120   \n",
      "3  34.419027  25.121138  28.481589  10.979695  17.070174  13.004914   \n",
      "4  24.662823  10.502689  30.723501  10.117387  26.945413  16.750199   \n",
      "5  28.131357  22.533110  33.902091  26.099755  20.596376  25.159830   \n",
      "\n",
      "          6          7          8          9          10         11         12  \n",
      "0  20.939680  32.294325  34.091569  19.586038  29.793126  23.222373  24.201114  \n",
      "1  16.613890  29.355842  21.403758  24.210849  10.469745  25.440887  25.302393  \n",
      "2  15.221919  14.032738  26.327708  16.332290  21.657769  16.110640  13.974240  \n",
      "3  17.403505  12.968193  17.949579  20.356575  11.603687  27.311803  24.165036  \n",
      "4  28.379851  34.054714  16.218829  24.403933  24.801048  24.306298  15.577041  \n",
      "5  10.479830  17.539370  26.504338  17.251940  25.450386  20.719218  13.386852  \n"
     ]
    },
    {
     "data": {
      "text/plain": [
       "[32.29432501955199,\n",
       " 34.09156901252573,\n",
       " 33.616722926239596,\n",
       " 34.70934595148066,\n",
       " 34.41902720475843,\n",
       " 30.72350073043408,\n",
       " 34.05471362793595,\n",
       " 33.9020908680806]"
      ]
     },
     "execution_count": 22,
     "metadata": {},
     "output_type": "execute_result"
    }
   ],
   "source": [
    "#subtask 4\n",
    "cropped_data=df.iloc[:6,:13]\n",
    "print(cropped_data)\n",
    "above_30=[cropped_data.iloc[i,j] for i in range(6) for j in range(13) if cropped_data.iloc[i,j]>30]\n",
    "above_30[:20]"
   ]
  },
  {
   "cell_type": "code",
   "execution_count": null,
   "metadata": {},
   "outputs": [],
   "source": []
  }
 ],
 "metadata": {
  "kernelspec": {
   "display_name": "Python 3",
   "language": "python",
   "name": "python3"
  },
  "language_info": {
   "codemirror_mode": {
    "name": "ipython",
    "version": 3
   },
   "file_extension": ".py",
   "mimetype": "text/x-python",
   "name": "python",
   "nbconvert_exporter": "python",
   "pygments_lexer": "ipython3",
   "version": "3.12.1"
  }
 },
 "nbformat": 4,
 "nbformat_minor": 2
}
