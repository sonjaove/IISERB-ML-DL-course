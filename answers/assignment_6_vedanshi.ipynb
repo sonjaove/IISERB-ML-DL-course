{
 "cells": [
  {
   "cell_type": "markdown",
   "metadata": {},
   "source": [
    "# Assignment 6a"
   ]
  },
  {
   "cell_type": "markdown",
   "metadata": {},
   "source": [
    "```python \n",
    "    parsed_date = datetime.datetime.strptime(date_string, \"%Y-%m-%d\").date()\n",
    "```\n",
    "- one of the ways to convert date string to datetime object."
   ]
  },
  {
   "cell_type": "code",
   "execution_count": 99,
   "metadata": {},
   "outputs": [],
   "source": [
    "class location():\n",
    "    def __init__(self,city,state,coordinates):\n",
    "        self.city=city\n",
    "        self.state=state\n",
    "        self.coordinates=coordinates\n",
    "        \n",
    "    def __str__(self):\n",
    "        return f'the coordinates {self.coordinates} belong to the city {self.city} in the state {self.state}'\n",
    "    \n",
    "class WeatherData():  \n",
    "    def __init__(self,temperature,humidity,wind_speed,date):\n",
    "        self.temperature=temperature\n",
    "        self.humidity=humidity\n",
    "        self.wind_speed=wind_speed\n",
    "        #year, month, day = map(int, date.split(\"-\"))\n",
    "        self.date=date\n",
    "    def __str__(self):\n",
    "        return f'temp: {self.temperature}\\nhumidity: {self.humidity}\\nwind speed: {self.wind_speed}\\non {self.date}'\n",
    "\n",
    "class WeatherReport:\n",
    "    def __init__(self, average_temperature, average_humidity, average_wind_speed, total_days):\n",
    "        self.average_temperature = average_temperature\n",
    "        self.average_humidity = average_humidity\n",
    "        self.average_wind_speed = average_wind_speed\n",
    "        self.total_days = total_days\n",
    "\n",
    "    def __str__(self):\n",
    "        return (f'Weather Report:\\n'\n",
    "                f'Average Temperature: {self.average_temperature}\\n'\n",
    "                f'Average Humidity: {self.average_humidity}\\n'\n",
    "                f'Average Wind Speed: {self.average_wind_speed}\\n'\n",
    "                f'Total Days: {self.total_days}')\n",
    "    \n",
    "\n",
    "class WeatherStation(): \n",
    "    weather_record=[]\n",
    "    def __init__(self,location):\n",
    "        self.location=location\n",
    "    def add_weather_data(self,weather_data):\n",
    "        self.weather_record.append(weather_data)\n",
    "        print(\"the data has been successfully added to the station\")\n",
    "    def remove_weather_data(self,weather_data):\n",
    "        self.weather_record.remove(weather_data)\n",
    "        print(\"the data has been succssefully been removed form the locaiton\")\n",
    "    def generate_report(self, start_date, end_date):\n",
    "        import datetime\n",
    "        start_date_ob = datetime.datetime.strptime(start_date, \"%Y-%m-%d\").date()\n",
    "        end_date_obj = datetime.datetime.strptime(end_date, \"%Y-%m-%d\").date()\n",
    "        filtered_records = [record for record in self.weather_record if start_date <= record.date <= end_date]\n",
    "        \n",
    "        total_days = (end_date_obj - start_date_ob).days + 1\n",
    "        total_temp = sum(record.temperature for record in filtered_records)\n",
    "        total_humidity = sum(record.humidity for record in filtered_records)\n",
    "        total_wind_speed = sum(record.wind_speed for record in filtered_records)\n",
    "\n",
    "        average_temp = total_temp / total_days\n",
    "        average_humidity = total_humidity / total_days\n",
    "        average_wind_speed = total_wind_speed / total_days\n",
    "\n",
    "        report = WeatherReport(average_temp, average_humidity, average_wind_speed, total_days)\n",
    "        return report\n",
    "    def __str__(self):\n",
    "        record='\\n'.join([str(records) for records in self.weather_record])\n",
    "        return f'the weather staion has the following data\\n{record}'"
   ]
  },
  {
   "cell_type": "code",
   "execution_count": 100,
   "metadata": {},
   "outputs": [],
   "source": [
    "location = location(\"San Francisco\", \"CA\", (37.7749, -122.4194))"
   ]
  },
  {
   "cell_type": "code",
   "execution_count": 101,
   "metadata": {},
   "outputs": [],
   "source": [
    "station = WeatherStation(location)"
   ]
  },
  {
   "cell_type": "code",
   "execution_count": 102,
   "metadata": {},
   "outputs": [
    {
     "name": "stdout",
     "output_type": "stream",
     "text": [
      "the data has been successfully added to the station\n",
      "the data has been successfully added to the station\n",
      "the data has been successfully added to the station\n"
     ]
    }
   ],
   "source": [
    "data1 = WeatherData(68, 55, 15, \"2024-06-01\")\n",
    "data2 = WeatherData(70, 60, 10, \"2024-06-02\")\n",
    "data3 = WeatherData(65, 58, 20, \"2024-06-03\")\n",
    "station.add_weather_data(data1)\n",
    "station.add_weather_data(data2)\n",
    "station.add_weather_data(data3)\n"
   ]
  },
  {
   "cell_type": "code",
   "execution_count": 103,
   "metadata": {},
   "outputs": [],
   "source": [
    "report = station.generate_report(\"2024-06-01\", \"2024-06-03\")"
   ]
  },
  {
   "cell_type": "code",
   "execution_count": 104,
   "metadata": {},
   "outputs": [
    {
     "name": "stdout",
     "output_type": "stream",
     "text": [
      "Weather Report:\n",
      "Average Temperature: 67.66666666666667\n",
      "Average Humidity: 57.666666666666664\n",
      "Average Wind Speed: 15.0\n",
      "Total Days: 3\n"
     ]
    }
   ],
   "source": [
    "print(report)"
   ]
  },
  {
   "cell_type": "code",
   "execution_count": 105,
   "metadata": {},
   "outputs": [
    {
     "name": "stdout",
     "output_type": "stream",
     "text": [
      "the data has been succssefully been removed form the locaiton\n"
     ]
    }
   ],
   "source": [
    "station.remove_weather_data(data1)"
   ]
  },
  {
   "cell_type": "code",
   "execution_count": 106,
   "metadata": {},
   "outputs": [
    {
     "name": "stdout",
     "output_type": "stream",
     "text": [
      "the weather staion has the following data\n",
      "temp: 70\n",
      "humidity: 60\n",
      "wind speed: 10\n",
      "on 2024-06-02\n",
      "temp: 65\n",
      "humidity: 58\n",
      "wind speed: 20\n",
      "on 2024-06-03\n"
     ]
    }
   ],
   "source": [
    "print(station)"
   ]
  }
 ],
 "metadata": {
  "kernelspec": {
   "display_name": "Python 3",
   "language": "python",
   "name": "python3"
  },
  "language_info": {
   "codemirror_mode": {
    "name": "ipython",
    "version": 3
   },
   "file_extension": ".py",
   "mimetype": "text/x-python",
   "name": "python",
   "nbconvert_exporter": "python",
   "pygments_lexer": "ipython3",
   "version": "3.12.3"
  }
 },
 "nbformat": 4,
 "nbformat_minor": 2
}
