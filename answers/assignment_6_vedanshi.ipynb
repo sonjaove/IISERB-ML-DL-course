{
 "cells": [
  {
   "cell_type": "markdown",
   "metadata": {},
   "source": [
    "# Assignment 6a"
   ]
  },
  {
   "cell_type": "code",
   "execution_count": null,
   "metadata": {},
   "outputs": [],
   "source": [
    "class WeatherStation(): #location weather data and weather report would most prolly be its parent class.\n",
    "    def __init__(self,location,weather_records):\n",
    "        self.location=location\n",
    "        self.weather_records=weather_records\n",
    "    def add_weather_data(self,weather_data):\n",
    "        self.weather_records[self.location[1]][self.location[0]][self.location[2]]=weather_data\n",
    "        print(\"the data has been successfully added to the station\")\n",
    "    def remove_weather_data(self,weather_data):\n",
    "        self.weather_records[self.location[1]][self.location[0]][self.location[2]]=0\n",
    "        print(\"the data has been succssefully been removed form the locaiton\")\n",
    "    #def generate_report(start_date, end_date):\n",
    "        #   report=WeatherReport()\n",
    "    #def __str__(self):\n",
    "\n",
    "class WeatherData(): #\n",
    "    def __init__(self,temperature,humidity,wind_speed,date):\n",
    "        self.temperature=temperature\n",
    "        self.humidity=humidity\n",
    "        self.wind_speed=wind_speed\n",
    "        self.date=date\n",
    "    #def __str__(self):\n",
    "\n",
    "\n",
    "class WeatherReport():\n",
    "    def __init__(self,start,end):\n",
    "        self.start=start\n",
    "        self.end=end\n",
    "    "
   ]
  }
 ],
 "metadata": {
  "kernelspec": {
   "display_name": "Python 3",
   "language": "python",
   "name": "python3"
  },
  "language_info": {
   "codemirror_mode": {
    "name": "ipython",
    "version": 3
   },
   "file_extension": ".py",
   "mimetype": "text/x-python",
   "name": "python",
   "nbconvert_exporter": "python",
   "pygments_lexer": "ipython3",
   "version": "3.12.1"
  }
 },
 "nbformat": 4,
 "nbformat_minor": 2
}
