{
 "cells": [
  {
   "cell_type": "markdown",
   "metadata": {},
   "source": [
    "# Assignment 6a"
   ]
  },
  {
   "cell_type": "markdown",
   "metadata": {},
   "source": [
    "```python \n",
    "    parsed_date = datetime.datetime.strptime(date_string, \"%Y-%m-%d\").date()\n",
    "```\n",
    "- one of the ways to convert date string to datetime object."
   ]
  },
  {
   "cell_type": "code",
   "execution_count": 2,
   "metadata": {},
   "outputs": [],
   "source": [
    "class location():\n",
    "    def __init__(self,city,state,coordinates):\n",
    "        loc={}\n",
    "        self.city=city\n",
    "        self.state=state\n",
    "        self.coordinates=coordinates\n",
    "    def __str__(self):\n",
    "        return f'the coordinates {self.coordinates} belong to the city {self.city} in the state {self.state}'\n",
    "    \n",
    "class WeatherData():  \n",
    "    def __init__(self,temperature,humidity,wind_speed,date):\n",
    "        import datetime\n",
    "        self.temperature=temperature\n",
    "        self.humidity=humidity\n",
    "        self.wind_speed=wind_speed\n",
    "        year, month, day = map(int, date.split(\"-\"))\n",
    "        self.date=datetime.date(year,month,day)\n",
    "    def __str__(self):\n",
    "        return f'temp: {self.temperature}\\nhumidity: {self.humidity}\\nwind speed: {self.wind_speed}\\non {self.date}'\n",
    "\n",
    "class WeatherReport(): #an object of this class would exist in the weather sation class.\n",
    "    def __init__(self,start,end,temperature,humidity,wind_speed):\n",
    "        import numpy as np\n",
    "        import datetime\n",
    "        date_st=datetime.datetime.strptime(start, \"%Y-%m-%d\").date()\n",
    "        date_ed=datetime.datetime.strptime(end, \"%Y-%m-%d\").date()\n",
    "        self.total_days=(date_ed-date_st).days\n",
    "        super().__init__()\n",
    "        self.average_temperature=self.temperature/self.total_days\n",
    "        self.average_humidity=self.humidity/self.total_days\n",
    "        self.average_wind_speed=self.wind_speed/self.total_days\n",
    "    def __str__(self):\n",
    "        return f'Report of the satation is:\\n1. average temperature is: {self.average_temperature}\\n2. average humidity is: {self.average_humidity}\\n3. average wind speed is: {self.average_wind_speed}\\n in the given time frame.\\n Have a good day!!'\n",
    "    \n",
    "\n",
    "class WeatherStation(location, WeatherData, WeatherReport): #location weather data and weather report would most prolly be its parent class.\n",
    "    import numpy as np\n",
    "    def __init__(self,location):\n",
    "        super.__init__(location)\n",
    "    def add_weather_data(self,weather_data):\n",
    "        super().__init__(weather_data)\n",
    "        print(\"the data has been successfully added to the station\")\n",
    "    def remove_weather_data(self,weather_data):\n",
    "        self.weather_records[self.location[1]][self.location[0]][self.location[2]]=0\n",
    "        print(\"the data has been succssefully been removed form the locaiton\")\n",
    "    def generate_report(self,start_date, end_date):\n",
    "           super().__init__(start_date,end_date)\n",
    "           self.report=super().__str__()\n",
    "    def __str__(self):\n",
    "        return"
   ]
  },
  {
   "cell_type": "code",
   "execution_count": null,
   "metadata": {},
   "outputs": [],
   "source": []
  }
 ],
 "metadata": {
  "kernelspec": {
   "display_name": "Python 3",
   "language": "python",
   "name": "python3"
  },
  "language_info": {
   "codemirror_mode": {
    "name": "ipython",
    "version": 3
   },
   "file_extension": ".py",
   "mimetype": "text/x-python",
   "name": "python",
   "nbconvert_exporter": "python",
   "pygments_lexer": "ipython3",
   "version": "3.12.1"
  }
 },
 "nbformat": 4,
 "nbformat_minor": 2
}
