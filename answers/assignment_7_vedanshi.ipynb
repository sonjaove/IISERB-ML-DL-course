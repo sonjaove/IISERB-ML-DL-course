{
 "cells": [
  {
   "cell_type": "markdown",
   "metadata": {},
   "source": [
    "## Part 1"
   ]
  },
  {
   "cell_type": "markdown",
   "metadata": {},
   "source": [
    "### path to be followed - \n",
    "1. getting the input features and the target \n",
    "2. designing the hidden layers\n",
    "3. sending in the data \n",
    "4. performing the predictions \n",
    "5. figuring out the loss \n",
    "6. SDG and optimizing the parms\n",
    "7. monituring hte loss."
   ]
  },
  {
   "cell_type": "code",
   "execution_count": null,
   "metadata": {},
   "outputs": [],
   "source": [
    "import numpy as np\n",
    "class ANN_from_scratch:\n",
    "    def __init__(self,features,y_actual):\n",
    "        self.features=features\n",
    "        self.y=y_actual\n",
    "    def ann(self):\n",
    "        "
   ]
  }
 ],
 "metadata": {
  "language_info": {
   "name": "python"
  }
 },
 "nbformat": 4,
 "nbformat_minor": 2
}
