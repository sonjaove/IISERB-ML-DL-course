{
 "cells": [
  {
   "cell_type": "markdown",
   "metadata": {},
   "source": [
    "In the Titanic example and breast cancer example from class, rerun the code in a separate notebook and print the classification report.\n",
    "Task 1: Explain the setup of confusion matrix in both the cases.\n",
    "Task 2: Write a detailed notes on each of the following metrics with respect to each of these examples:\n",
    "1) Accuracy\n",
    "2) Precision\n",
    "3) Recall\n",
    "4) F1-Score\n",
    "(Take help from TAs)\n"
   ]
  },
  {
   "cell_type": "code",
   "execution_count": null,
   "metadata": {},
   "outputs": [],
   "source": []
  }
 ],
 "metadata": {
  "language_info": {
   "name": "python"
  }
 },
 "nbformat": 4,
 "nbformat_minor": 2
}
