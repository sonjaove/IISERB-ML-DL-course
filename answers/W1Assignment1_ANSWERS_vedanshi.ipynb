{
 "cells": [
  {
   "cell_type": "markdown",
   "metadata": {},
   "source": [
    "# Task 1\n",
    "\n",
    "1) Extract Midday Temperatures:\n",
    "Slice the dictionary to extract only the second temperature of each day and store these in a new list called midday_temperatures.\n",
    "\n",
    "2) Calculate the Average Midday Temperature:\n",
    "Compute the average temperature from the midday_temperatures list, ensuring that you correctly handle the float division.\n",
    "\n",
    "3) Adjust Temperature Records:\n",
    "Increase each temperature in the original weather_data by 0.5 degrees to account for a calibration error in the measurement device. Demonstrate understanding of mutability by modifying the lists in place.\n",
    "\n",
    "4) Find the Coldest and Warmest Days:\n",
    "Determine which day had the lowest and highest average temperature. Print both the day and the average temperature.\n",
    "\n",
    "5) Type Conversion and Assignment:\n",
    "Show explicit type conversion by creating a new list of temperatures as integers."
   ]
  },
  {
   "cell_type": "code",
   "execution_count": 1,
   "metadata": {},
   "outputs": [],
   "source": [
    "#data for task 1.\n",
    "weather_data1 = {\n",
    "    \"Monday\": [22.4, 23.8, 20.0, 18.5],\n",
    "    \"Tuesday\": [21.0, 22.5, 19.5, 17.5],\n",
    "    \"Wednesday\": [20.2, 22.1, 20.5, 18.8],\n",
    "    \"Thursday\": [22.8, 21.9, 19.0, 18.2],\n",
    "    \"Friday\": [21.5, 22.4, 20.1, 19.3]\n",
    "}"
   ]
  },
  {
   "cell_type": "code",
   "execution_count": 2,
   "metadata": {},
   "outputs": [],
   "source": [
    "# defining a function using functionla programming as it will be used later to find average of different quantities.\n",
    "avg=lambda x: sum(x)/len(x)"
   ]
  },
  {
   "cell_type": "code",
   "execution_count": 3,
   "metadata": {},
   "outputs": [
    {
     "data": {
      "text/plain": [
       "[23.8, 22.5, 22.1, 21.9, 22.4]"
      ]
     },
     "execution_count": 3,
     "metadata": {},
     "output_type": "execute_result"
    }
   ],
   "source": [
    "# 1st subtask.\n",
    "midday_temps=[]\n",
    "for day in weather_data1:\n",
    "    midday_temps.append(weather_data1[day][1])\n",
    "midday_temps"
   ]
  },
  {
   "cell_type": "code",
   "execution_count": 4,
   "metadata": {},
   "outputs": [
    {
     "data": {
      "text/plain": [
       "22.54"
      ]
     },
     "execution_count": 4,
     "metadata": {},
     "output_type": "execute_result"
    }
   ],
   "source": [
    "#2nd subtask.\n",
    "avg_midday_temp=avg(midday_temps)\n",
    "avg_midday_temp"
   ]
  },
  {
   "cell_type": "code",
   "execution_count": 5,
   "metadata": {},
   "outputs": [
    {
     "data": {
      "text/plain": [
       "{'Monday': [22.9, 24.3, 20.5, 19.0],\n",
       " 'Tuesday': [21.5, 23.0, 20.0, 18.0],\n",
       " 'Wednesday': [20.7, 22.6, 21.0, 19.3],\n",
       " 'Thursday': [23.3, 22.4, 19.5, 18.7],\n",
       " 'Friday': [22.0, 22.9, 20.6, 19.8]}"
      ]
     },
     "execution_count": 5,
     "metadata": {},
     "output_type": "execute_result"
    }
   ],
   "source": [
    "#3rd subtask - increase the temps by 0.5 degrees.\n",
    "for day in weather_data1:\n",
    "    l=weather_data1[day]\n",
    "    for x in range(len(l)):\n",
    "        l[x]+=0.5\n",
    "weather_data1      "
   ]
  },
  {
   "cell_type": "code",
   "execution_count": 6,
   "metadata": {},
   "outputs": [
    {
     "name": "stdout",
     "output_type": "stream",
     "text": [
      "the warmest day is  Monday  with an avg temp of  23.8\n",
      "the coldest day is  Thursday  with the average temp of  21.9\n"
     ]
    }
   ],
   "source": [
    "#4th subtask \n",
    "days=['Monday','Tuesday','Wednesday','Thursday','Friday','Saturday','Sunday']\n",
    "combined_dict=dict(zip(days,midday_temps))\n",
    "for day in combined_dict:\n",
    "    if max(midday_temps)==combined_dict[day]:\n",
    "        print(\"the warmest day is \",day,\" with an avg temp of \",combined_dict[day])\n",
    "    if min(midday_temps)==combined_dict[day]:\n",
    "        print(\"the coldest day is \",day,\" with the average temp of \",combined_dict[day])"
   ]
  },
  {
   "cell_type": "code",
   "execution_count": 7,
   "metadata": {},
   "outputs": [
    {
     "data": {
      "text/plain": [
       "[[22, 24, 20, 19],\n",
       " [21, 23, 20, 18],\n",
       " [20, 22, 21, 19],\n",
       " [23, 22, 19, 18],\n",
       " [22, 22, 20, 19]]"
      ]
     },
     "execution_count": 7,
     "metadata": {},
     "output_type": "execute_result"
    }
   ],
   "source": [
    "#5th subtask - creating a list of temp as intergers \n",
    "l=[]\n",
    "for day in weather_data1:\n",
    "    temp=[]\n",
    "    for x in range(len(weather_data1[day])):\n",
    "        temp.append(int(weather_data1[day][x]))\n",
    "    l.append(temp)\n",
    "l"
   ]
  },
  {
   "cell_type": "markdown",
   "metadata": {},
   "source": [
    "# Task 2\n",
    "\n",
    "1) Detailed Daily Reports:\n",
    "Extract the highest and lowest temperatures using slicing and the built-in functions max() and min().\n",
    "Calculate the average wind speed for each day using slicing and indexing.\n",
    "Compute the total precipitation for each day using a loop with indexing.\n",
    "\n",
    "2) Add Weekend Forecast:\n",
    "Use direct dictionary assignment to add temperature, wind speed, and precipitation data for \"Saturday\" and \"Sunday\".\n",
    "\n",
    "3) Temperature Adjustment:\n",
    "Increment all temperature readings by 1 degree to correct for sensor calibration. Demonstrate understanding of mutability by modifying the list items in place using indexing.\n",
    "\n",
    "4) Wind Chill Calculation:\n",
    "Introduce a new key wind_chill for each day. Calculate using the formula for wind chill, which involves the average temperature and wind speed of the day. Utilize indexing to access and compute based on needed values.\n",
    "\n",
    "T_wc = 35.74 + 0.6215T − 35.75V^0.16 + 0.4275TV^0.16\n",
    "\n",
    "where,\n",
    "T_wc = wind chill factor, \n",
    "T = average temperature of the day, \n",
    "V = average wind speed of the day"
   ]
  },
  {
   "cell_type": "code",
   "execution_count": 8,
   "metadata": {},
   "outputs": [],
   "source": [
    "weather_data2 = {\n",
    "    \"Monday\": {\"temperatures\": [22.4, 23.8, 20.0, 18.5], \"wind_speeds\": [5, 15, 20, 10], \"precipitation\": [0, 0.5, 0, 0]},\n",
    "    \"Tuesday\": {\"temperatures\": [21.0, 22.5, 19.5, 17.5], \"wind_speeds\": [10, 15, 10, 5], \"precipitation\": [0.2, 0, 0, 0.3]},\n",
    "    \"Wednesday\": {\"temperatures\": [20.2, 22.1, 20.5, 18.8], \"wind_speeds\": [5, 7, 25, 10], \"precipitation\": [0, 0, 0.1, 0.5]},\n",
    "    \"Thursday\": {\"temperatures\": [22.8, 21.9, 19.0, 18.2], \"wind_speeds\": [10, 20, 15, 5], \"precipitation\": [0, 0.1, 0, 0]},\n",
    "    \"Friday\": {\"temperatures\": [21.5, 22.4, 20.1, 19.3], \"wind_speeds\": [20, 15, 10, 15], \"precipitation\": [0.1, 0.2, 0.2, 0]}\n",
    "}"
   ]
  },
  {
   "cell_type": "code",
   "execution_count": 9,
   "metadata": {},
   "outputs": [
    {
     "data": {
      "text/plain": [
       "{'Monday': {'temperatures': [22.4, 23.8, 20.0, 18.5],\n",
       "  'wind_speeds': [5, 15, 20, 10],\n",
       "  'precipitation': [0, 0.5, 0, 0]},\n",
       " 'Tuesday': {'temperatures': [21.0, 22.5, 19.5, 17.5],\n",
       "  'wind_speeds': [10, 15, 10, 5],\n",
       "  'precipitation': [0.2, 0, 0, 0.3]},\n",
       " 'Wednesday': {'temperatures': [20.2, 22.1, 20.5, 18.8],\n",
       "  'wind_speeds': [5, 7, 25, 10],\n",
       "  'precipitation': [0, 0, 0.1, 0.5]},\n",
       " 'Thursday': {'temperatures': [22.8, 21.9, 19.0, 18.2],\n",
       "  'wind_speeds': [10, 20, 15, 5],\n",
       "  'precipitation': [0, 0.1, 0, 0]},\n",
       " 'Friday': {'temperatures': [21.5, 22.4, 20.1, 19.3],\n",
       "  'wind_speeds': [20, 15, 10, 15],\n",
       "  'precipitation': [0.1, 0.2, 0.2, 0]},\n",
       " 'Saturday': {'temperatures': [20, 18, 20, 17],\n",
       "  'wind_speeds': [13, 15, 9, 5],\n",
       "  'precipitation': [0.33, 0.45, 0.01, 0.43]},\n",
       " 'Sunday': {'temperatures': [21, 22, 18, 19],\n",
       "  'wind_speeds': [14, 14, 15, 16],\n",
       "  'precipitation': [0.02, 0.42, 0.07, 0.35]}}"
      ]
     },
     "execution_count": 9,
     "metadata": {},
     "output_type": "execute_result"
    }
   ],
   "source": [
    "#2nd subtask\n",
    "#defining it here cause it will be needed later.\n",
    "import random\n",
    "weather_data2[\"Saturday\"]={\"temperatures\":[random.randrange(17,23) for x in range(4)],\"wind_speeds\":[random.randint(5,20) for x in range(4)],\"precipitation\":[random.randrange(0,50)/100 for x in range(4)]}\n",
    "weather_data2[\"Sunday\"]={\"temperatures\":[random.randrange(17,23) for x in range(4)],\"wind_speeds\":[random.randint(5,20) for x in range(4)],\"precipitation\":[random.randrange(0,50)/100 for x in range(4)]}\n",
    "weather_data2"
   ]
  },
  {
   "cell_type": "code",
   "execution_count": 10,
   "metadata": {},
   "outputs": [
    {
     "name": "stdout",
     "output_type": "stream",
     "text": [
      "{'Monday': 12.5, 'Tuesday': 10.0, 'Wednesday': 11.75, 'Thursday': 12.5, 'Friday': 15.0, 'Saturday': 10.5, 'Sunday': 14.75} \n",
      " {'Monday': 0.5, 'Tuesday': 0.5, 'Wednesday': 0.6, 'Thursday': 0.1, 'Friday': 0.5, 'Saturday': 1.22, 'Sunday': 0.86} \n",
      " {'Monday': {'highest': 23.8, 'lowest': 18.5}, 'Tuesday': {'highest': 22.5, 'lowest': 17.5}, 'Wednesday': {'highest': 22.1, 'lowest': 18.8}, 'Thursday': {'highest': 22.8, 'lowest': 18.2}, 'Friday': {'highest': 22.4, 'lowest': 19.3}, 'Saturday': {'highest': 20, 'lowest': 17}, 'Sunday': {'highest': 22, 'lowest': 18}}\n"
     ]
    }
   ],
   "source": [
    "# 1st Subclass.\n",
    "avg_wind_speed={}\n",
    "temps={\"Monday\":{\"highest\":0.0,\"lowest\":0.0},\n",
    "       \"Tuesday\":{\"highest\":0.0,\"lowest\":0.0},\n",
    "       \"Wednesday\":{\"highest\":0.0,\"lowest\":0.0},\n",
    "       \"Thursday\":{\"highest\":0.0,\"lowest\":0.0},\n",
    "       \"Friday\":{\"highest\":0.0,\"lowest\":0.0},\n",
    "       \"Saturday\":{\"highest\":0.0,\"lowest\":0.0},\n",
    "       \"Sunday\":{\"highest\":0.0,\"lowest\":0.0},\n",
    "       }\n",
    "tot_prcp={}\n",
    "for day in weather_data2:\n",
    "    avg_wind_speed[day]=avg(weather_data2[day][\"wind_speeds\"])\n",
    "    tot_prcp[day]=sum(weather_data2[day][\"precipitation\"])\n",
    "    temps[day]['highest']=max(weather_data2[day]['temperatures'])\n",
    "    temps[day]['lowest']=min(weather_data2[day]['temperatures'])\n",
    "\n",
    "print(avg_wind_speed,\"\\n\",tot_prcp,\"\\n\",temps)"
   ]
  },
  {
   "cell_type": "code",
   "execution_count": 11,
   "metadata": {},
   "outputs": [
    {
     "data": {
      "text/plain": [
       "{'Monday': {'temperatures': [23.4, 24.8, 21.0, 19.5],\n",
       "  'wind_speeds': [5, 15, 20, 10],\n",
       "  'precipitation': [0, 0.5, 0, 0]},\n",
       " 'Tuesday': {'temperatures': [22.0, 23.5, 20.5, 18.5],\n",
       "  'wind_speeds': [10, 15, 10, 5],\n",
       "  'precipitation': [0.2, 0, 0, 0.3]},\n",
       " 'Wednesday': {'temperatures': [21.2, 23.1, 21.5, 19.8],\n",
       "  'wind_speeds': [5, 7, 25, 10],\n",
       "  'precipitation': [0, 0, 0.1, 0.5]},\n",
       " 'Thursday': {'temperatures': [23.8, 22.9, 20.0, 19.2],\n",
       "  'wind_speeds': [10, 20, 15, 5],\n",
       "  'precipitation': [0, 0.1, 0, 0]},\n",
       " 'Friday': {'temperatures': [22.5, 23.4, 21.1, 20.3],\n",
       "  'wind_speeds': [20, 15, 10, 15],\n",
       "  'precipitation': [0.1, 0.2, 0.2, 0]},\n",
       " 'Saturday': {'temperatures': [21, 19, 21, 18],\n",
       "  'wind_speeds': [13, 15, 9, 5],\n",
       "  'precipitation': [0.33, 0.45, 0.01, 0.43]},\n",
       " 'Sunday': {'temperatures': [22, 23, 19, 20],\n",
       "  'wind_speeds': [14, 14, 15, 16],\n",
       "  'precipitation': [0.02, 0.42, 0.07, 0.35]}}"
      ]
     },
     "execution_count": 11,
     "metadata": {},
     "output_type": "execute_result"
    }
   ],
   "source": [
    "#3rd subtask.\n",
    "for day in weather_data2:\n",
    "    l=weather_data2[day]['temperatures']\n",
    "    for x in range(len(l)):\n",
    "        l[x]+=1\n",
    "weather_data2"
   ]
  },
  {
   "cell_type": "code",
   "execution_count": 12,
   "metadata": {},
   "outputs": [
    {
     "data": {
      "text/plain": [
       "{'Monday': 10.15849694409985,\n",
       " 'Tuesday': 10.237829425453898,\n",
       " 'Wednesday': 9.573479042611778,\n",
       " 'Thursday': 9.27552685530706,\n",
       " 'Friday': 8.545509358968694,\n",
       " 'Saturday': 8.224977950329,\n",
       " 'Sunday': 7.600117382114197}"
      ]
     },
     "execution_count": 12,
     "metadata": {},
     "output_type": "execute_result"
    }
   ],
   "source": [
    "#4th subtask.\n",
    "#formula = 35.74 + 0.6215T − 35.75V^0.16 + 0.4275TV^0.16\n",
    "wind_chill={\"Monday\":0.0,\"Tuesday\":0.0,\"Wednesday\":0.0,\"Thursday\":0.0,\"Friday\":0.0,\"Saturday\":0.0,\"Sunday\":0.0}\n",
    "for day in weather_data2:\n",
    "    t=avg(weather_data2[day]['temperatures'])\n",
    "    v=avg(weather_data2[day]['wind_speeds'])\n",
    "    wind_chill[day]=35.74+(0.621*t)-(35.75*(v**0.16))+(0.4275*t*(v**0.16))\n",
    "wind_chill"
   ]
  },
  {
   "cell_type": "markdown",
   "metadata": {},
   "source": [
    "# Task 3: \n",
    "\n",
    "Working with Tuples, sets and booleans\n",
    "\n",
    "Create a tuple named weather_conditions that includes the following elements in order: the string 'Clear', the integer 23, and the float 7.5. These represent a type of weather, a temperature in Celsius, and wind speed in km/h, respectively.\n",
    "Access and print each element of the tuple separately by using indexing.\n"
   ]
  },
  {
   "cell_type": "code",
   "execution_count": 13,
   "metadata": {},
   "outputs": [
    {
     "name": "stdout",
     "output_type": "stream",
     "text": [
      "type of weather:  clear \n",
      "temprature in celsius:  23 \n",
      "wind speed in kmph:  7.5\n"
     ]
    }
   ],
   "source": [
    "weather_conditions=('clear',23,7.5)\n",
    "print(\"type of weather: \",weather_conditions[0],\"\\ntemprature in celsius: \",weather_conditions[1],\"\\nwind speed in kmph: \",weather_conditions[2])"
   ]
  },
  {
   "cell_type": "markdown",
   "metadata": {},
   "source": [
    "# Task 4: \n",
    "Given the list temperatures_list = [22, 23, 22, 24, 25, 23, 24, 22], convert this list into a set named unique_temperatures to remove any duplicate entries.\n",
    "Print the set unique_temperatures to show the unique temperature values.\n"
   ]
  },
  {
   "cell_type": "code",
   "execution_count": 14,
   "metadata": {},
   "outputs": [
    {
     "data": {
      "text/plain": [
       "{22, 23, 24, 25}"
      ]
     },
     "execution_count": 14,
     "metadata": {},
     "output_type": "execute_result"
    }
   ],
   "source": [
    "temperatures_list = [22, 23, 22, 24, 25, 23, 24, 22]\n",
    "unique_temp=set(temperatures_list)\n",
    "unique_temp"
   ]
  },
  {
   "cell_type": "markdown",
   "metadata": {},
   "source": [
    "# Task 5:\n",
    "Define a boolean variable is_raining and set it to False.\n",
    "\n",
    "Define a boolean variable is_sunny and set it to True.\n",
    "\n",
    "Print both boolean values with a message that says \"Is it raining?\" and \"Is it sunny?\", respectively.\n"
   ]
  },
  {
   "cell_type": "code",
   "execution_count": 15,
   "metadata": {},
   "outputs": [
    {
     "name": "stdout",
     "output_type": "stream",
     "text": [
      "Is it raining?\t False \n",
      "Is it Sunny?\t True\n"
     ]
    }
   ],
   "source": [
    "is_raining=False\n",
    "is_sunny=True\n",
    "print(\"Is it raining?\\t\",is_raining,\"\\nIs it Sunny?\\t\",is_sunny)"
   ]
  }
 ],
 "metadata": {
  "kernelspec": {
   "display_name": "Python 3",
   "language": "python",
   "name": "python3"
  },
  "language_info": {
   "codemirror_mode": {
    "name": "ipython",
    "version": 3
   },
   "file_extension": ".py",
   "mimetype": "text/x-python",
   "name": "python",
   "nbconvert_exporter": "python",
   "pygments_lexer": "ipython3",
   "version": "3.12.1"
  }
 },
 "nbformat": 4,
 "nbformat_minor": 2
}
