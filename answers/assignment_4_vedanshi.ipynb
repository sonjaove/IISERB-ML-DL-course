{
 "cells": [
  {
   "cell_type": "markdown",
   "metadata": {},
   "source": [
    "### Take four models of polynomials of degree (2, 3, 4, 5), and use the normal equation to optimize theta (with small lambda term, as shown in class). Split the weather data using (80:20) split, print train, and test loss for each model. Write which model you consider best based on train and test loss along with proper explanation.\n"
   ]
  },
  {
   "cell_type": "markdown",
   "metadata": {},
   "source": [
    "normal equation = \\[\n",
    "(X^T X) \\theta - (X^T y)\n",
    "\\]\n"
   ]
  },
  {
   "cell_type": "code",
   "execution_count": null,
   "metadata": {},
   "outputs": [],
   "source": [
    "import numpy as np\n",
    "import xarray as xr\n",
    "import pandas as pd\n",
    "import matplotlib.pyplot as plt\n",
    "from sklearn.preprocessing import StandardScaler, PolynomialFeatures\n",
    "from sklearn.metrics import r2_score, mean_squared_error\n",
    "from sklearn.model_selection import train_test_split"
   ]
  },
  {
   "cell_type": "code",
   "execution_count": null,
   "metadata": {},
   "outputs": [],
   "source": [
    "models=[2,3,4,5]"
   ]
  },
  {
   "cell_type": "code",
   "execution_count": null,
   "metadata": {},
   "outputs": [],
   "source": [
    "#loading data\n",
    "data=xr.open_dataset(r\"C:\\Users\\vvagh\\OneDrive - Indian Institute of Science Education and Research Bhopal\\Documents\\IISERB docs\\workshoop assignments\\PERCDR_0.25deg_2001_2010_precipitation_data.nc\")\n",
    "df=data.to_dataframe().reset_index()\n",
    "df\n",
    "#data"
   ]
  },
  {
   "cell_type": "code",
   "execution_count": null,
   "metadata": {},
   "outputs": [],
   "source": [
    "col=df.columns\n",
    "col\n",
    "y=df[['precip']].values\n",
    "y\n",
    "scale=StandardScaler()"
   ]
  },
  {
   "cell_type": "code",
   "execution_count": null,
   "metadata": {},
   "outputs": [],
   "source": [
    "for x in col[:len(col)-2]:\n",
    "    X_reshaped = df[x].values.reshape(-1, 1)\n",
    "    X_scaled = scale.fit_transform(X_reshaped)\n",
    "    plt.figure(figsize=(10, 6))\n",
    "    plt.scatter(X_scaled, y, color='blue', label='precipitaion')\n",
    "    plt.xlabel(f'parameter: {x} (standardised)')\n",
    "    plt.ylabel('precip')\n",
    "    plt.title('scatter Plot of precip with different variables')\n",
    "    plt.legend()\n",
    "    plt.show()\n"
   ]
  },
  {
   "cell_type": "code",
   "execution_count": null,
   "metadata": {},
   "outputs": [],
   "source": [
    "# Extract features and target variable\n",
    "df['DAY_OF_YEAR'] = df['datetime'].dt.dayofyear\n",
    "# Use 'DAY_OF_YEAR' as the feature and 'TMAX' (maximum temperature) as the target variable\n",
    "X = df[['DAY_OF_YEAR']].values  # Feature: day of the year\n",
    "y = df['precip'].values  # Target: maximum temperature\n",
    "df1 = df.sort_values('datetime').reset_index(drop=True)\n",
    "X_scaled = scale.fit_transform(X)\n",
    "\n",
    "# Plot the data and regression line\n",
    "plt.figure(figsize=(10, 6))\n",
    "plt.scatter(X_scaled, y, color='blue', label='Actual Temperatures')\n",
    "plt.xlabel('Day of the Year (standardized)')\n",
    "plt.ylabel('precipitaion')\n",
    "plt.title('Linear Regression on precipitation.')\n",
    "plt.legend()\n",
    "plt.show()"
   ]
  },
  {
   "cell_type": "code",
   "execution_count": null,
   "metadata": {},
   "outputs": [],
   "source": [
    "# Experiment with different polynomial degrees\n",
    "\n",
    "for degree in models:\n",
    "    print(f\"\\nPolynomial Degree: {degree}\")\n",
    "    \n",
    "    # Create polynomial features\n",
    "    poly = PolynomialFeatures(degree)\n",
    "    X_poly = poly.fit_transform(X)\n",
    "\n",
    "    # Standardize the features\n",
    "    scaler = StandardScaler()\n",
    "    X_scaled = scaler.fit_transform(X_poly)\n",
    "\n",
    "    # Add a column of ones to X to account for the bias term (intercept)\n",
    "    X_b = np.c_[np.ones((X_scaled.shape[0], 1)), X_scaled]\n",
    "\n",
    "    # Add lambda term\n",
    "    lambda_ = 1e-5\n",
    "    I = np.eye(X_b.shape[1])\n",
    "    I[0, 0] = 0  # Do not change intercept term\n",
    "\n",
    "    # Solve for theta using the regularized normal equation\n",
    "    theta = np.linalg.inv(X_b.T.dot(X_b) + lambda_ * I).dot(X_b.T).dot(y)  # Here small constant has been added (Not to intercept term)\n",
    "\n",
    "    # Make predictions\n",
    "    y_pred = X_b.dot(theta)\n",
    "    \n",
    "    # Sort the values by the feature before plotting\n",
    "    sorted_indices = np.argsort(X[:, 0])\n",
    "    X_sorted = X[sorted_indices]\n",
    "    y_pred_sorted = y_pred[sorted_indices]\n",
    "\n",
    "    # Plot the data and regression curve\n",
    "    plt.figure(figsize=(10, 6))\n",
    "    plt.scatter(X, y, color='blue', label='actual precip')\n",
    "    plt.plot(X_sorted, y_pred_sorted, color='red', linewidth=2, label='predicted precip')\n",
    "    plt.xlabel('Day of the Year')\n",
    "    plt.ylabel('precipitaion')\n",
    "    plt.title(f'Polynomial Regression (Degree {degree}) precipitaion')\n",
    "    plt.legend()\n",
    "    plt.show()\n",
    "\n",
    "    # Scatter plot of predicted vs actual values\n",
    "    plt.figure(figsize=(10, 6))\n",
    "    plt.scatter(y, y_pred, color='blue', alpha=0.5)\n",
    "    plt.plot([y.min(), y.max()], [y.min(), y.max()], 'r--', lw=2)\n",
    "    plt.xlabel('Actual precip')\n",
    "    plt.ylabel('Predicted precip')\n",
    "    plt.title(f'Predicted vs Actual pecip (Degree {degree})')\n",
    "    plt.show()\n",
    "\n",
    "    # Calculate and print performance metrics\n",
    "    mse = mean_squared_error(y, y_pred)\n",
    "    r2 = r2_score(y, y_pred)\n",
    "    print(f\"Mean Squared Error (MSE): {mse}\")\n",
    "    print(f\"R-squared (R2): {r2}\")"
   ]
  },
  {
   "cell_type": "markdown",
   "metadata": {},
   "source": [
    "taking single feature into account wont work, we'll also have to see how precipitaion behaves with lat lon as well, as R2 score is pretty low as well along with high error. "
   ]
  },
  {
   "cell_type": "code",
   "execution_count": null,
   "metadata": {},
   "outputs": [],
   "source": [
    "df.columns"
   ]
  },
  {
   "cell_type": "code",
   "execution_count": null,
   "metadata": {},
   "outputs": [],
   "source": [
    "# correlation of datetime with precip\n",
    "df_corr=df.groupby('datetime')[['precip']].corr()\n",
    "df_corr"
   ]
  },
  {
   "cell_type": "code",
   "execution_count": null,
   "metadata": {},
   "outputs": [],
   "source": [
    "# correlation of lon with precip\n",
    "df_corr2=df.groupby('lon')[['precip']].corr()\n",
    "df_corr2"
   ]
  },
  {
   "cell_type": "code",
   "execution_count": null,
   "metadata": {},
   "outputs": [],
   "source": [
    "# correlation of lat with precip\n",
    "df_corr3=df.groupby('lat')[['precip']].corr()\n",
    "df_corr3"
   ]
  },
  {
   "cell_type": "markdown",
   "metadata": {},
   "source": [
    "the above 3 feerures are to be taken into account as they are highly correlated to the precipitation."
   ]
  },
  {
   "cell_type": "code",
   "execution_count": null,
   "metadata": {},
   "outputs": [],
   "source": [
    "#splittiing up the datetime column in day, month, year\n",
    "df['day']=df['datetime'].dt.day\n",
    "df['month']=df['datetime'].dt.month\n",
    "df['year']=df['datetime'].dt.year\n",
    "df"
   ]
  },
  {
   "cell_type": "code",
   "execution_count": null,
   "metadata": {},
   "outputs": [],
   "source": [
    "order=['DAY_OF_YEAR','day','month','year','lon','lat','precip']\n",
    "df_modified=df[order]\n",
    "df_modified"
   ]
  },
  {
   "cell_type": "code",
   "execution_count": null,
   "metadata": {},
   "outputs": [],
   "source": [
    "#splitting the data using scikit learn so as to introduce some randomness in the data as well.\n",
    "# Split the data into training and test sets, using inbuilt command\n",
    "X_train, X_test, y_train, y_test = train_test_split(X, y, test_size=0.2, random_state=42)"
   ]
  },
  {
   "cell_type": "code",
   "execution_count": null,
   "metadata": {},
   "outputs": [],
   "source": [
    "features=['DAY_OF_YEAR','lon','lat']\n",
    "X=df[features].values\n",
    "# Experiment with different polynomial degrees\n",
    "for degree in models:\n",
    "    print(f\"\\nPolynomial Degree: {degree}\")\n",
    "    \n",
    "    # Create polynomial features\n",
    "    poly = PolynomialFeatures(degree)\n",
    "    X_poly = poly.fit_transform(X)\n",
    "\n",
    "    # Standardize the features\n",
    "    scaler = StandardScaler()\n",
    "    X_scaled = scaler.fit_transform(X_poly)\n",
    "\n",
    "    # Add a column of ones to X to account for the bias term (intercept)\n",
    "    X_b = np.c_[np.ones((X_scaled.shape[0], 1)), X_scaled]\n",
    "\n",
    "    # Add lambda term\n",
    "    lambda_ = 1e-5\n",
    "    I = np.eye(X_b.shape[1])\n",
    "    I[0, 0] = 0  # Do not regularize intercept term\n",
    "\n",
    "    # Solve for theta using the regularized normal equation\n",
    "    theta = np.linalg.inv(X_b.T.dot(X_b) + lambda_ * I).dot(X_b.T).dot(y)\n",
    "\n",
    "    # Make predictions\n",
    "    y_pred = X_b.dot(theta)\n",
    "    \n",
    "    # Sorting indices based on the first feature (datetime)\n",
    "    sorted_indices = np.argsort(X[:, 0])\n",
    "    X_sorted = X[sorted_indices]\n",
    "    y_pred_sorted = y_pred[sorted_indices]\n",
    "\n",
    "    # Plot the data and regression curve\n",
    "    plt.figure(figsize=(10, 6))\n",
    "    plt.scatter(X[:, 0], y, color='blue', label='actual precip')  # Scatter plot of actual data\n",
    "    plt.plot(X_sorted[:, 0], y_pred_sorted, color='red', linewidth=2, label='predicted precip')  # Regression curve\n",
    "    plt.xlabel('Day of the Year')  # Assuming datetime is the day of the year\n",
    "    plt.ylabel('Precipitation')\n",
    "    plt.title(f'Polynomial Regression (Degree {degree}) Precipitation')\n",
    "    plt.legend()\n",
    "    plt.show()\n",
    "\n",
    "    # Scatter plot of predicted vs actual values\n",
    "    plt.figure(figsize=(10, 6))\n",
    "    plt.scatter(y, y_pred, color='blue', alpha=0.5)\n",
    "    plt.plot([y.min(), y.max()], [y.min(), y.max()], 'r--', lw=2)\n",
    "    plt.xlabel('Actual Precipitation')\n",
    "    plt.ylabel('Predicted Precipitation')\n",
    "    plt.title(f'Predicted vs Actual Precipitation (Degree {degree})')\n",
    "    plt.show()\n",
    "\n",
    "    # Calculate and print performance metrics\n",
    "    mse = mean_squared_error(y, y_pred)\n",
    "    r2 = r2_score(y, y_pred)\n",
    "    print(f\"Mean Squared Error (MSE): {mse}\")\n",
    "    print(f\"R-squared (R2): {r2}\")\n"
   ]
  },
  {
   "cell_type": "code",
   "execution_count": null,
   "metadata": {},
   "outputs": [],
   "source": [
    "#trying the same model with slightly different features\n",
    "features=['day','month','year','lon','lat']\n",
    "X=df[features].values\n",
    "# Experiment with different polynomial degrees\n",
    "for degree in models:\n",
    "    print(f\"\\nPolynomial Degree: {degree}\")\n",
    "    \n",
    "    # Create polynomial features\n",
    "    poly = PolynomialFeatures(degree)\n",
    "    X_poly = poly.fit_transform(X)\n",
    "\n",
    "    # Standardize the features\n",
    "    scaler = StandardScaler()\n",
    "    X_scaled = scaler.fit_transform(X_poly)\n",
    "\n",
    "    # Add a column of ones to X to account for the bias term (intercept)\n",
    "    X_b = np.c_[np.ones((X_scaled.shape[0], 1)), X_scaled]\n",
    "\n",
    "    # Add lambda term\n",
    "    lambda_ = 1e-5\n",
    "    I = np.eye(X_b.shape[1])\n",
    "    I[0, 0] = 0  # Do not regularize intercept term\n",
    "\n",
    "    # Solve for theta using the regularized normal equation\n",
    "    theta = np.linalg.inv(X_b.T.dot(X_b) + lambda_ * I).dot(X_b.T).dot(y)\n",
    "\n",
    "    # Make predictions\n",
    "    y_pred = X_b.dot(theta)\n",
    "    \n",
    "    # Sorting indices based on the first feature (datetime)\n",
    "    sorted_indices = np.argsort(X[:, 0])\n",
    "    X_sorted = X[sorted_indices]\n",
    "    y_pred_sorted = y_pred[sorted_indices]\n",
    "\n",
    "    # Plot the data and regression curve\n",
    "    plt.figure(figsize=(10, 6))\n",
    "    plt.scatter(X[:, 0], y, color='blue', label='actual precip')  # Scatter plot of actual data\n",
    "    plt.plot(X_sorted[:, 0], y_pred_sorted, color='red', linewidth=2, label='predicted precip')  # Regression curve\n",
    "    plt.xlabel('Day of the Year')  # Assuming datetime is the day of the year\n",
    "    plt.ylabel('Precipitation')\n",
    "    plt.title(f'Polynomial Regression (Degree {degree}) Precipitation')\n",
    "    plt.legend()\n",
    "    plt.show()\n",
    "\n",
    "    # Scatter plot of predicted vs actual values\n",
    "    plt.figure(figsize=(10, 6))\n",
    "    plt.scatter(y, y_pred, color='blue', alpha=0.5)\n",
    "    plt.plot([y.min(), y.max()], [y.min(), y.max()], 'r--', lw=2)\n",
    "    plt.xlabel('Actual Precipitation')\n",
    "    plt.ylabel('Predicted Precipitation')\n",
    "    plt.title(f'Predicted vs Actual Precipitation (Degree {degree})')\n",
    "    plt.show()\n",
    "\n",
    "    # Calculate and print performance metrics\n",
    "    mse = mean_squared_error(y, y_pred)\n",
    "    r2 = r2_score(y, y_pred)\n",
    "    print(f\"Mean Squared Error (MSE): {mse}\")\n",
    "    print(f\"R-squared (R2): {r2}\")\n"
   ]
  },
  {
   "cell_type": "code",
   "execution_count": null,
   "metadata": {},
   "outputs": [],
   "source": []
  }
 ],
 "metadata": {
  "kernelspec": {
   "display_name": "stenv",
   "language": "python",
   "name": "python3"
  },
  "language_info": {
   "codemirror_mode": {
    "name": "ipython",
    "version": 3
   },
   "file_extension": ".py",
   "mimetype": "text/x-python",
   "name": "python",
   "nbconvert_exporter": "python",
   "pygments_lexer": "ipython3",
   "version": "3.12.1"
  }
 },
 "nbformat": 4,
 "nbformat_minor": 2
}
